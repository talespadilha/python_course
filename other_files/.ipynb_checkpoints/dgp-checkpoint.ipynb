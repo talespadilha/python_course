{
 "cells": [
  {
   "cell_type": "code",
   "execution_count": 1,
   "metadata": {},
   "outputs": [
    {
     "data": {
      "text/plain": [
       "'/Users/talespadilha/Documents/Oxford/Teaching/Financial Econometrics/20-21/python/python_course'"
      ]
     },
     "execution_count": 1,
     "metadata": {},
     "output_type": "execute_result"
    }
   ],
   "source": [
    "import os\n",
    "os.getcwd()"
   ]
  },
  {
   "cell_type": "code",
   "execution_count": 2,
   "metadata": {},
   "outputs": [
    {
     "data": {
      "text/plain": [
       "'/Users/talespadilha/Documents/Oxford/Teaching/Financial Econometrics/20-21/python/python-introduction/course/autumn'"
      ]
     },
     "execution_count": 2,
     "metadata": {},
     "output_type": "execute_result"
    }
   ],
   "source": [
    "os.chdir('/Users/talespadilha/Documents/Oxford/Teaching/Financial Econometrics/20-21/python/python-introduction/course/autumn')\n",
    "os.getcwd() "
   ]
  },
  {
   "cell_type": "code",
   "execution_count": 3,
   "metadata": {},
   "outputs": [],
   "source": [
    "import pandas_datareader as pdr\n",
    "import pandas as pd"
   ]
  },
  {
   "cell_type": "code",
   "execution_count": 4,
   "metadata": {},
   "outputs": [
    {
     "data": {
      "text/html": [
       "<div>\n",
       "<style scoped>\n",
       "    .dataframe tbody tr th:only-of-type {\n",
       "        vertical-align: middle;\n",
       "    }\n",
       "\n",
       "    .dataframe tbody tr th {\n",
       "        vertical-align: top;\n",
       "    }\n",
       "\n",
       "    .dataframe thead th {\n",
       "        text-align: right;\n",
       "    }\n",
       "</style>\n",
       "<table border=\"1\" class=\"dataframe\">\n",
       "  <thead>\n",
       "    <tr style=\"text-align: right;\">\n",
       "      <th></th>\n",
       "      <th>TERM</th>\n",
       "      <th>GS10</th>\n",
       "      <th>GS1</th>\n",
       "    </tr>\n",
       "    <tr>\n",
       "      <th>DATE</th>\n",
       "      <th></th>\n",
       "      <th></th>\n",
       "      <th></th>\n",
       "    </tr>\n",
       "  </thead>\n",
       "  <tbody>\n",
       "    <tr>\n",
       "      <th>2020-07-01</th>\n",
       "      <td>0.47</td>\n",
       "      <td>0.62</td>\n",
       "      <td>0.15</td>\n",
       "    </tr>\n",
       "    <tr>\n",
       "      <th>2020-08-01</th>\n",
       "      <td>0.52</td>\n",
       "      <td>0.65</td>\n",
       "      <td>0.13</td>\n",
       "    </tr>\n",
       "    <tr>\n",
       "      <th>2020-09-01</th>\n",
       "      <td>0.55</td>\n",
       "      <td>0.68</td>\n",
       "      <td>0.13</td>\n",
       "    </tr>\n",
       "    <tr>\n",
       "      <th>2020-10-01</th>\n",
       "      <td>0.66</td>\n",
       "      <td>0.79</td>\n",
       "      <td>0.13</td>\n",
       "    </tr>\n",
       "    <tr>\n",
       "      <th>2020-11-01</th>\n",
       "      <td>0.75</td>\n",
       "      <td>0.87</td>\n",
       "      <td>0.12</td>\n",
       "    </tr>\n",
       "  </tbody>\n",
       "</table>\n",
       "</div>"
      ],
      "text/plain": [
       "            TERM  GS10   GS1\n",
       "DATE                        \n",
       "2020-07-01  0.47  0.62  0.15\n",
       "2020-08-01  0.52  0.65  0.13\n",
       "2020-09-01  0.55  0.68  0.13\n",
       "2020-10-01  0.66  0.79  0.13\n",
       "2020-11-01  0.75  0.87  0.12"
      ]
     },
     "execution_count": 4,
     "metadata": {},
     "output_type": "execute_result"
    }
   ],
   "source": [
    "# Conservative start date to get all data\n",
    "gs10 = pdr.get_data_fred(\"GS10\", start=\"1950\")\n",
    "gs1 = pdr.get_data_fred(\"GS1\", start=\"1950\")\n",
    "\n",
    "term = gs10[\"GS10\"] - gs1[\"GS1\"]\n",
    "term.name = 'TERM'\n",
    "combined = pd.DataFrame([term, gs10[\"GS10\"], gs1[\"GS1\"]]).T\n",
    "combined.tail()"
   ]
  },
  {
   "cell_type": "code",
   "execution_count": 5,
   "metadata": {},
   "outputs": [
    {
     "data": {
      "text/plain": [
       "DatetimeIndex(['1953-04-01', '1953-05-01', '1953-06-01', '1953-07-01',\n",
       "               '1953-08-01', '1953-09-01', '1953-10-01', '1953-11-01',\n",
       "               '1953-12-01', '1954-01-01',\n",
       "               ...\n",
       "               '2020-02-01', '2020-03-01', '2020-04-01', '2020-05-01',\n",
       "               '2020-06-01', '2020-07-01', '2020-08-01', '2020-09-01',\n",
       "               '2020-10-01', '2020-11-01'],\n",
       "              dtype='datetime64[ns]', name='DATE', length=812, freq='MS')"
      ]
     },
     "execution_count": 5,
     "metadata": {},
     "output_type": "execute_result"
    }
   ],
   "source": [
    "# Trick to ensure the index has the frequency MS, Month Start\n",
    "combined = combined.resample(\"MS\").last()\n",
    "combined.to_hdf(\"data/term-premium.h5\", \"term_premium\")\n",
    "combined.index"
   ]
  }
 ],
 "metadata": {
  "kernelspec": {
   "display_name": "Python 3",
   "language": "python",
   "name": "python3"
  },
  "language_info": {
   "codemirror_mode": {
    "name": "ipython",
    "version": 3
   },
   "file_extension": ".py",
   "mimetype": "text/x-python",
   "name": "python",
   "nbconvert_exporter": "python",
   "pygments_lexer": "ipython3",
   "version": "3.7.9"
  }
 },
 "nbformat": 4,
 "nbformat_minor": 4
}
