{
 "cells": [
  {
   "cell_type": "markdown",
   "metadata": {
    "collapsed": true,
    "pycharm": {
     "name": "#%% md\n"
    }
   },
   "source": [
    "## ARMA Modeling: Model Selection\n",
    "\n",
    "**Functions**\n",
    "\n",
    "`sm.tsa.SARIMAX`\n",
    "\n",
    "### Exercise 68\n",
    "Perform a model selection exercise on the term premium using\n",
    "\n",
    "1. General-to-Specific\n",
    "2. Specific-to-General\n",
    "3. Minimizing an Information Criteria"
   ]
  },
  {
   "cell_type": "code",
   "execution_count": 1,
   "metadata": {
    "execution": {
     "iopub.execute_input": "2020-12-07T13:44:15.295936Z",
     "iopub.status.busy": "2020-12-07T13:44:15.294936Z",
     "iopub.status.idle": "2020-12-07T13:44:15.762937Z",
     "shell.execute_reply": "2020-12-07T13:44:15.762937Z"
    },
    "pycharm": {
     "is_executing": false,
     "name": "#%%\n"
    }
   },
   "outputs": [],
   "source": [
    "import pandas as pd\n",
    "data = pd.read_hdf(\"data/term-premium.h5\", \"term_premium\")\n",
    "term = data[\"TERM\"]"
   ]
  },
  {
   "cell_type": "code",
   "execution_count": 2,
   "metadata": {
    "execution": {
     "iopub.execute_input": "2020-12-07T13:44:15.766936Z",
     "iopub.status.busy": "2020-12-07T13:44:15.765937Z",
     "iopub.status.idle": "2020-12-07T13:44:30.860276Z",
     "shell.execute_reply": "2020-12-07T13:44:30.860276Z"
    },
    "pycharm": {
     "is_executing": false,
     "name": "#%%\n"
    }
   },
   "outputs": [
    {
     "name": "stdout",
     "output_type": "stream",
     "text": [
      "AR: 0, MA: 0\n",
      "AR: 0, MA: 1\n",
      "AR: 0, MA: 2\n"
     ]
    },
    {
     "name": "stderr",
     "output_type": "stream",
     "text": [
      "c:\\git\\statsmodels\\statsmodels\\tsa\\statespace\\sarimax.py:978: UserWarning: Non-invertible starting MA parameters found. Using zeros as starting parameters.\n",
      "  warn('Non-invertible starting MA parameters found.'\n"
     ]
    },
    {
     "name": "stdout",
     "output_type": "stream",
     "text": [
      "AR: 0, MA: 3\n"
     ]
    },
    {
     "name": "stdout",
     "output_type": "stream",
     "text": [
      "AR: 0, MA: 4\n"
     ]
    },
    {
     "name": "stdout",
     "output_type": "stream",
     "text": [
      "AR: 1, MA: 0\n"
     ]
    },
    {
     "name": "stdout",
     "output_type": "stream",
     "text": [
      "AR: 1, MA: 1\n"
     ]
    },
    {
     "name": "stdout",
     "output_type": "stream",
     "text": [
      "AR: 1, MA: 2\n"
     ]
    },
    {
     "name": "stdout",
     "output_type": "stream",
     "text": [
      "AR: 1, MA: 3\n"
     ]
    },
    {
     "name": "stdout",
     "output_type": "stream",
     "text": [
      "AR: 1, MA: 4\n"
     ]
    },
    {
     "name": "stdout",
     "output_type": "stream",
     "text": [
      "AR: 2, MA: 0\n"
     ]
    },
    {
     "name": "stdout",
     "output_type": "stream",
     "text": [
      "AR: 2, MA: 1\n"
     ]
    },
    {
     "name": "stdout",
     "output_type": "stream",
     "text": [
      "AR: 2, MA: 2\n"
     ]
    },
    {
     "name": "stdout",
     "output_type": "stream",
     "text": [
      "AR: 2, MA: 3\n"
     ]
    },
    {
     "name": "stdout",
     "output_type": "stream",
     "text": [
      "AR: 2, MA: 4\n"
     ]
    },
    {
     "name": "stdout",
     "output_type": "stream",
     "text": [
      "AR: 3, MA: 0\n"
     ]
    },
    {
     "name": "stdout",
     "output_type": "stream",
     "text": [
      "AR: 3, MA: 1\n"
     ]
    },
    {
     "name": "stdout",
     "output_type": "stream",
     "text": [
      "AR: 3, MA: 2\n"
     ]
    },
    {
     "name": "stderr",
     "output_type": "stream",
     "text": [
      "c:\\git\\statsmodels\\statsmodels\\tsa\\statespace\\sarimax.py:966: UserWarning: Non-stationary starting autoregressive parameters found. Using zeros as starting parameters.\n",
      "  warn('Non-stationary starting autoregressive parameters'\n"
     ]
    },
    {
     "name": "stderr",
     "output_type": "stream",
     "text": [
      "c:\\git\\statsmodels\\statsmodels\\base\\model.py:566: ConvergenceWarning: Maximum Likelihood optimization failed to converge. Check mle_retvals\n",
      "  warnings.warn(\"Maximum Likelihood optimization failed to \"\n"
     ]
    },
    {
     "name": "stdout",
     "output_type": "stream",
     "text": [
      "AR: 3, MA: 3\n"
     ]
    },
    {
     "name": "stderr",
     "output_type": "stream",
     "text": [
      "c:\\git\\statsmodels\\statsmodels\\base\\model.py:566: ConvergenceWarning: Maximum Likelihood optimization failed to converge. Check mle_retvals\n",
      "  warnings.warn(\"Maximum Likelihood optimization failed to \"\n"
     ]
    },
    {
     "name": "stdout",
     "output_type": "stream",
     "text": [
      "AR: 3, MA: 4\n"
     ]
    },
    {
     "name": "stderr",
     "output_type": "stream",
     "text": [
      "c:\\git\\statsmodels\\statsmodels\\base\\model.py:566: ConvergenceWarning: Maximum Likelihood optimization failed to converge. Check mle_retvals\n",
      "  warnings.warn(\"Maximum Likelihood optimization failed to \"\n"
     ]
    },
    {
     "name": "stdout",
     "output_type": "stream",
     "text": [
      "AR: 4, MA: 0\n"
     ]
    },
    {
     "name": "stdout",
     "output_type": "stream",
     "text": [
      "AR: 4, MA: 1\n"
     ]
    },
    {
     "name": "stdout",
     "output_type": "stream",
     "text": [
      "AR: 4, MA: 2\n"
     ]
    },
    {
     "name": "stderr",
     "output_type": "stream",
     "text": [
      "c:\\git\\statsmodels\\statsmodels\\base\\model.py:566: ConvergenceWarning: Maximum Likelihood optimization failed to converge. Check mle_retvals\n",
      "  warnings.warn(\"Maximum Likelihood optimization failed to \"\n"
     ]
    },
    {
     "name": "stdout",
     "output_type": "stream",
     "text": [
      "AR: 4, MA: 3\n"
     ]
    },
    {
     "name": "stderr",
     "output_type": "stream",
     "text": [
      "c:\\git\\statsmodels\\statsmodels\\base\\model.py:566: ConvergenceWarning: Maximum Likelihood optimization failed to converge. Check mle_retvals\n",
      "  warnings.warn(\"Maximum Likelihood optimization failed to \"\n"
     ]
    },
    {
     "name": "stdout",
     "output_type": "stream",
     "text": [
      "AR: 4, MA: 4\n"
     ]
    },
    {
     "name": "stderr",
     "output_type": "stream",
     "text": [
      "c:\\git\\statsmodels\\statsmodels\\base\\model.py:566: ConvergenceWarning: Maximum Likelihood optimization failed to converge. Check mle_retvals\n",
      "  warnings.warn(\"Maximum Likelihood optimization failed to \"\n"
     ]
    },
    {
     "data": {
      "text/html": [
       "<div>\n",
       "<style scoped>\n",
       "    .dataframe tbody tr th:only-of-type {\n",
       "        vertical-align: middle;\n",
       "    }\n",
       "\n",
       "    .dataframe tbody tr th {\n",
       "        vertical-align: top;\n",
       "    }\n",
       "\n",
       "    .dataframe thead th {\n",
       "        text-align: right;\n",
       "    }\n",
       "</style>\n",
       "<table border=\"1\" class=\"dataframe\">\n",
       "  <thead>\n",
       "    <tr style=\"text-align: right;\">\n",
       "      <th></th>\n",
       "      <th></th>\n",
       "      <th>AIC</th>\n",
       "      <th>BIC</th>\n",
       "    </tr>\n",
       "    <tr>\n",
       "      <th>AR</th>\n",
       "      <th>MA</th>\n",
       "      <th></th>\n",
       "      <th></th>\n",
       "    </tr>\n",
       "  </thead>\n",
       "  <tbody>\n",
       "    <tr>\n",
       "      <th rowspan=\"5\" valign=\"top\">0</th>\n",
       "      <th>0</th>\n",
       "      <td>2427.365154</td>\n",
       "      <td>2436.764155</td>\n",
       "    </tr>\n",
       "    <tr>\n",
       "      <th>1</th>\n",
       "      <td>1451.028880</td>\n",
       "      <td>1465.127381</td>\n",
       "    </tr>\n",
       "    <tr>\n",
       "      <th>2</th>\n",
       "      <td>890.205626</td>\n",
       "      <td>909.003627</td>\n",
       "    </tr>\n",
       "    <tr>\n",
       "      <th>3</th>\n",
       "      <td>545.806184</td>\n",
       "      <td>569.303685</td>\n",
       "    </tr>\n",
       "    <tr>\n",
       "      <th>4</th>\n",
       "      <td>382.344827</td>\n",
       "      <td>410.541830</td>\n",
       "    </tr>\n",
       "    <tr>\n",
       "      <th rowspan=\"5\" valign=\"top\">1</th>\n",
       "      <th>0</th>\n",
       "      <td>88.835331</td>\n",
       "      <td>102.933832</td>\n",
       "    </tr>\n",
       "    <tr>\n",
       "      <th>1</th>\n",
       "      <td>-15.051811</td>\n",
       "      <td>3.746190</td>\n",
       "    </tr>\n",
       "    <tr>\n",
       "      <th>2</th>\n",
       "      <td>-17.770684</td>\n",
       "      <td>5.726818</td>\n",
       "    </tr>\n",
       "    <tr>\n",
       "      <th>3</th>\n",
       "      <td>-17.682174</td>\n",
       "      <td>10.514828</td>\n",
       "    </tr>\n",
       "    <tr>\n",
       "      <th>4</th>\n",
       "      <td>-18.859514</td>\n",
       "      <td>14.036988</td>\n",
       "    </tr>\n",
       "    <tr>\n",
       "      <th rowspan=\"5\" valign=\"top\">2</th>\n",
       "      <th>0</th>\n",
       "      <td>9.403824</td>\n",
       "      <td>28.201826</td>\n",
       "    </tr>\n",
       "    <tr>\n",
       "      <th>1</th>\n",
       "      <td>-19.423093</td>\n",
       "      <td>4.074409</td>\n",
       "    </tr>\n",
       "    <tr>\n",
       "      <th>2</th>\n",
       "      <td>-19.190895</td>\n",
       "      <td>9.006107</td>\n",
       "    </tr>\n",
       "    <tr>\n",
       "      <th>3</th>\n",
       "      <td>-17.407015</td>\n",
       "      <td>15.489487</td>\n",
       "    </tr>\n",
       "    <tr>\n",
       "      <th>4</th>\n",
       "      <td>-17.062317</td>\n",
       "      <td>20.533685</td>\n",
       "    </tr>\n",
       "    <tr>\n",
       "      <th rowspan=\"5\" valign=\"top\">3</th>\n",
       "      <th>0</th>\n",
       "      <td>-6.608400</td>\n",
       "      <td>16.889102</td>\n",
       "    </tr>\n",
       "    <tr>\n",
       "      <th>1</th>\n",
       "      <td>-19.263898</td>\n",
       "      <td>8.933104</td>\n",
       "    </tr>\n",
       "    <tr>\n",
       "      <th>2</th>\n",
       "      <td>-17.318065</td>\n",
       "      <td>15.578437</td>\n",
       "    </tr>\n",
       "    <tr>\n",
       "      <th>3</th>\n",
       "      <td>-25.268003</td>\n",
       "      <td>12.328000</td>\n",
       "    </tr>\n",
       "    <tr>\n",
       "      <th>4</th>\n",
       "      <td>-22.813052</td>\n",
       "      <td>19.482451</td>\n",
       "    </tr>\n",
       "    <tr>\n",
       "      <th rowspan=\"5\" valign=\"top\">4</th>\n",
       "      <th>0</th>\n",
       "      <td>-8.186107</td>\n",
       "      <td>20.010895</td>\n",
       "    </tr>\n",
       "    <tr>\n",
       "      <th>1</th>\n",
       "      <td>-17.399792</td>\n",
       "      <td>15.496710</td>\n",
       "    </tr>\n",
       "    <tr>\n",
       "      <th>2</th>\n",
       "      <td>-15.493865</td>\n",
       "      <td>22.102138</td>\n",
       "    </tr>\n",
       "    <tr>\n",
       "      <th>3</th>\n",
       "      <td>-22.812678</td>\n",
       "      <td>19.482825</td>\n",
       "    </tr>\n",
       "    <tr>\n",
       "      <th>4</th>\n",
       "      <td>-17.019550</td>\n",
       "      <td>29.975453</td>\n",
       "    </tr>\n",
       "  </tbody>\n",
       "</table>\n",
       "</div>"
      ],
      "text/plain": [
       "               AIC          BIC\n",
       "AR MA                          \n",
       "0  0   2427.365154  2436.764155\n",
       "   1   1451.028880  1465.127381\n",
       "   2    890.205626   909.003627\n",
       "   3    545.806184   569.303685\n",
       "   4    382.344827   410.541830\n",
       "1  0     88.835331   102.933832\n",
       "   1    -15.051811     3.746190\n",
       "   2    -17.770684     5.726818\n",
       "   3    -17.682174    10.514828\n",
       "   4    -18.859514    14.036988\n",
       "2  0      9.403824    28.201826\n",
       "   1    -19.423093     4.074409\n",
       "   2    -19.190895     9.006107\n",
       "   3    -17.407015    15.489487\n",
       "   4    -17.062317    20.533685\n",
       "3  0     -6.608400    16.889102\n",
       "   1    -19.263898     8.933104\n",
       "   2    -17.318065    15.578437\n",
       "   3    -25.268003    12.328000\n",
       "   4    -22.813052    19.482451\n",
       "4  0     -8.186107    20.010895\n",
       "   1    -17.399792    15.496710\n",
       "   2    -15.493865    22.102138\n",
       "   3    -22.812678    19.482825\n",
       "   4    -17.019550    29.975453"
      ]
     },
     "execution_count": 1,
     "metadata": {},
     "output_type": "execute_result"
    }
   ],
   "source": [
    "import statsmodels.tsa.api as tsa\n",
    "\n",
    "ic = {}\n",
    "for ar in range(5):\n",
    "    for ma in range(5):\n",
    "        print(f\"AR: {ar}, MA: {ma}\")\n",
    "        mod = tsa.SARIMAX(term, order=(ar, 0, ma), trend=\"c\")\n",
    "        res = mod.fit()\n",
    "        ic[(ar, ma)] = [res.aic, res.bic]\n",
    "\n",
    "ic = pd.DataFrame(ic, index=[\"AIC\", \"BIC\"]).T\n",
    "ic.index = ic.index.set_names([\"AR\", \"MA\"])\n",
    "ic"
   ]
  },
  {
   "cell_type": "code",
   "execution_count": 3,
   "metadata": {
    "execution": {
     "iopub.execute_input": "2020-12-07T13:44:30.865278Z",
     "iopub.status.busy": "2020-12-07T13:44:30.864277Z",
     "iopub.status.idle": "2020-12-07T13:44:30.876276Z",
     "shell.execute_reply": "2020-12-07T13:44:30.876276Z"
    },
    "pycharm": {
     "is_executing": false,
     "name": "#%%\n"
    }
   },
   "outputs": [
    {
     "name": "stdout",
     "output_type": "stream",
     "text": [
      "AIC selects AR 3, MA 3\n",
      "BIC selects AR 1, MA 1\n"
     ]
    }
   ],
   "source": [
    "aic = ic.sort_values(\"AIC\")\n",
    "ar, ma = aic.index[0]\n",
    "print(f\"AIC selects AR {ar}, MA {ma}\")\n",
    "\n",
    "bic = ic.sort_values(\"BIC\")\n",
    "ar, ma = bic.index[0]\n",
    "print(f\"BIC selects AR {ar}, MA {ma}\")"
   ]
  },
  {
   "cell_type": "code",
   "execution_count": 4,
   "metadata": {
    "execution": {
     "iopub.execute_input": "2020-12-07T13:44:30.880275Z",
     "iopub.status.busy": "2020-12-07T13:44:30.880275Z",
     "iopub.status.idle": "2020-12-07T13:44:32.123310Z",
     "shell.execute_reply": "2020-12-07T13:44:32.124310Z"
    },
    "pycharm": {
     "is_executing": false,
     "name": "#%%\n"
    }
   },
   "outputs": [
    {
     "name": "stderr",
     "output_type": "stream",
     "text": [
      "c:\\git\\statsmodels\\statsmodels\\base\\model.py:566: ConvergenceWarning: Maximum Likelihood optimization failed to converge. Check mle_retvals\n",
      "  warnings.warn(\"Maximum Likelihood optimization failed to \"\n"
     ]
    },
    {
     "data": {
      "text/plain": [
       "intercept     3.054304\n",
       "ar.L1         2.714447\n",
       "ar.L2        -1.611729\n",
       "ar.L3         1.422727\n",
       "ar.L4         3.512530\n",
       "ma.L1         5.386445\n",
       "ma.L2         5.830310\n",
       "ma.L3         4.480061\n",
       "ma.L4         1.493538\n",
       "sigma2       36.659584\n",
       "dtype: float64"
      ]
     },
     "execution_count": 1,
     "metadata": {},
     "output_type": "execute_result"
    }
   ],
   "source": [
    "res = tsa.SARIMAX(term, order=(4, 0, 4), trend=\"c\").fit()\n",
    "res.tvalues"
   ]
  },
  {
   "cell_type": "code",
   "execution_count": 5,
   "metadata": {
    "execution": {
     "iopub.execute_input": "2020-12-07T13:44:32.126310Z",
     "iopub.status.busy": "2020-12-07T13:44:32.126310Z",
     "iopub.status.idle": "2020-12-07T13:44:33.289336Z",
     "shell.execute_reply": "2020-12-07T13:44:33.289336Z"
    },
    "pycharm": {
     "is_executing": false,
     "name": "#%%\n"
    }
   },
   "outputs": [
    {
     "name": "stderr",
     "output_type": "stream",
     "text": [
      "c:\\git\\statsmodels\\statsmodels\\tsa\\statespace\\sarimax.py:966: UserWarning: Non-stationary starting autoregressive parameters found. Using zeros as starting parameters.\n",
      "  warn('Non-stationary starting autoregressive parameters'\n",
      "c:\\git\\statsmodels\\statsmodels\\tsa\\statespace\\sarimax.py:978: UserWarning: Non-invertible starting MA parameters found. Using zeros as starting parameters.\n",
      "  warn('Non-invertible starting MA parameters found.'\n"
     ]
    },
    {
     "name": "stderr",
     "output_type": "stream",
     "text": [
      "c:\\git\\statsmodels\\statsmodels\\base\\model.py:566: ConvergenceWarning: Maximum Likelihood optimization failed to converge. Check mle_retvals\n",
      "  warnings.warn(\"Maximum Likelihood optimization failed to \"\n"
     ]
    },
    {
     "data": {
      "text/html": [
       "<table class=\"simpletable\">\n",
       "<caption>SARIMAX Results</caption>\n",
       "<tr>\n",
       "  <th>Dep. Variable:</th>         <td>TERM</td>       <th>  No. Observations:  </th>   <td>812</td>  \n",
       "</tr>\n",
       "<tr>\n",
       "  <th>Model:</th>           <td>SARIMAX(4, 0, 3)</td> <th>  Log Likelihood     </th> <td>20.406</td> \n",
       "</tr>\n",
       "<tr>\n",
       "  <th>Date:</th>            <td>Mon, 07 Dec 2020</td> <th>  AIC                </th> <td>-22.813</td>\n",
       "</tr>\n",
       "<tr>\n",
       "  <th>Time:</th>                <td>13:44:33</td>     <th>  BIC                </th> <td>19.483</td> \n",
       "</tr>\n",
       "<tr>\n",
       "  <th>Sample:</th>             <td>04-01-1953</td>    <th>  HQIC               </th> <td>-6.576</td> \n",
       "</tr>\n",
       "<tr>\n",
       "  <th></th>                   <td>- 11-01-2020</td>   <th>                     </th>    <td> </td>   \n",
       "</tr>\n",
       "<tr>\n",
       "  <th>Covariance Type:</th>        <td>opg</td>       <th>                     </th>    <td> </td>   \n",
       "</tr>\n",
       "</table>\n",
       "<table class=\"simpletable\">\n",
       "<tr>\n",
       "      <td></td>         <th>coef</th>     <th>std err</th>      <th>z</th>      <th>P>|z|</th>  <th>[0.025</th>    <th>0.975]</th>  \n",
       "</tr>\n",
       "<tr>\n",
       "  <th>intercept</th> <td>    0.1360</td> <td>    0.038</td> <td>    3.590</td> <td> 0.000</td> <td>    0.062</td> <td>    0.210</td>\n",
       "</tr>\n",
       "<tr>\n",
       "  <th>ar.L1</th>     <td>   -0.1518</td> <td>    0.060</td> <td>   -2.547</td> <td> 0.011</td> <td>   -0.269</td> <td>   -0.035</td>\n",
       "</tr>\n",
       "<tr>\n",
       "  <th>ar.L2</th>     <td>    0.0614</td> <td>    0.060</td> <td>    1.017</td> <td> 0.309</td> <td>   -0.057</td> <td>    0.180</td>\n",
       "</tr>\n",
       "<tr>\n",
       "  <th>ar.L3</th>     <td>    0.7837</td> <td>    0.059</td> <td>   13.322</td> <td> 0.000</td> <td>    0.668</td> <td>    0.899</td>\n",
       "</tr>\n",
       "<tr>\n",
       "  <th>ar.L4</th>     <td>    0.1612</td> <td>    0.059</td> <td>    2.744</td> <td> 0.006</td> <td>    0.046</td> <td>    0.276</td>\n",
       "</tr>\n",
       "<tr>\n",
       "  <th>ma.L1</th>     <td>    1.4982</td> <td>    0.058</td> <td>   26.016</td> <td> 0.000</td> <td>    1.385</td> <td>    1.611</td>\n",
       "</tr>\n",
       "<tr>\n",
       "  <th>ma.L2</th>     <td>    1.3925</td> <td>    0.083</td> <td>   16.707</td> <td> 0.000</td> <td>    1.229</td> <td>    1.556</td>\n",
       "</tr>\n",
       "<tr>\n",
       "  <th>ma.L3</th>     <td>    0.5465</td> <td>    0.056</td> <td>    9.723</td> <td> 0.000</td> <td>    0.436</td> <td>    0.657</td>\n",
       "</tr>\n",
       "<tr>\n",
       "  <th>sigma2</th>    <td>    0.0554</td> <td>    0.001</td> <td>   38.575</td> <td> 0.000</td> <td>    0.053</td> <td>    0.058</td>\n",
       "</tr>\n",
       "</table>\n",
       "<table class=\"simpletable\">\n",
       "<tr>\n",
       "  <th>Ljung-Box (L1) (Q):</th>     <td>0.01</td> <th>  Jarque-Bera (JB):  </th> <td>3550.35</td>\n",
       "</tr>\n",
       "<tr>\n",
       "  <th>Prob(Q):</th>                <td>0.92</td> <th>  Prob(JB):          </th>  <td>0.00</td>  \n",
       "</tr>\n",
       "<tr>\n",
       "  <th>Heteroskedasticity (H):</th> <td>0.71</td> <th>  Skew:              </th>  <td>0.68</td>  \n",
       "</tr>\n",
       "<tr>\n",
       "  <th>Prob(H) (two-sided):</th>    <td>0.00</td> <th>  Kurtosis:          </th>  <td>13.15</td> \n",
       "</tr>\n",
       "</table><br/><br/>Warnings:<br/>[1] Covariance matrix calculated using the outer product of gradients (complex-step)."
      ],
      "text/plain": [
       "<class 'statsmodels.iolib.summary.Summary'>\n",
       "\"\"\"\n",
       "                               SARIMAX Results                                \n",
       "==============================================================================\n",
       "Dep. Variable:                   TERM   No. Observations:                  812\n",
       "Model:               SARIMAX(4, 0, 3)   Log Likelihood                  20.406\n",
       "Date:                Mon, 07 Dec 2020   AIC                            -22.813\n",
       "Time:                        13:44:33   BIC                             19.483\n",
       "Sample:                    04-01-1953   HQIC                            -6.576\n",
       "                         - 11-01-2020                                         \n",
       "Covariance Type:                  opg                                         \n",
       "==============================================================================\n",
       "                 coef    std err          z      P>|z|      [0.025      0.975]\n",
       "------------------------------------------------------------------------------\n",
       "intercept      0.1360      0.038      3.590      0.000       0.062       0.210\n",
       "ar.L1         -0.1518      0.060     -2.547      0.011      -0.269      -0.035\n",
       "ar.L2          0.0614      0.060      1.017      0.309      -0.057       0.180\n",
       "ar.L3          0.7837      0.059     13.322      0.000       0.668       0.899\n",
       "ar.L4          0.1612      0.059      2.744      0.006       0.046       0.276\n",
       "ma.L1          1.4982      0.058     26.016      0.000       1.385       1.611\n",
       "ma.L2          1.3925      0.083     16.707      0.000       1.229       1.556\n",
       "ma.L3          0.5465      0.056      9.723      0.000       0.436       0.657\n",
       "sigma2         0.0554      0.001     38.575      0.000       0.053       0.058\n",
       "===================================================================================\n",
       "Ljung-Box (L1) (Q):                   0.01   Jarque-Bera (JB):              3550.35\n",
       "Prob(Q):                              0.92   Prob(JB):                         0.00\n",
       "Heteroskedasticity (H):               0.71   Skew:                             0.68\n",
       "Prob(H) (two-sided):                  0.00   Kurtosis:                        13.15\n",
       "===================================================================================\n",
       "\n",
       "Warnings:\n",
       "[1] Covariance matrix calculated using the outer product of gradients (complex-step).\n",
       "\"\"\""
      ]
     },
     "execution_count": 1,
     "metadata": {},
     "output_type": "execute_result"
    }
   ],
   "source": [
    "gts_res = tsa.SARIMAX(term, order=(4, 0, 3), trend=\"c\").fit()\n",
    "gts_res.summary()"
   ]
  },
  {
   "cell_type": "code",
   "execution_count": 6,
   "metadata": {
    "execution": {
     "iopub.execute_input": "2020-12-07T13:44:33.292335Z",
     "iopub.status.busy": "2020-12-07T13:44:33.292335Z",
     "iopub.status.idle": "2020-12-07T13:44:33.523336Z",
     "shell.execute_reply": "2020-12-07T13:44:33.523336Z"
    },
    "pycharm": {
     "is_executing": false,
     "name": "#%%\n"
    }
   },
   "outputs": [
    {
     "data": {
      "text/plain": [
       "intercept      2.994413\n",
       "ar.L1        153.773330\n",
       "sigma2        57.831764\n",
       "dtype: float64"
      ]
     },
     "execution_count": 1,
     "metadata": {},
     "output_type": "execute_result"
    }
   ],
   "source": [
    "res = tsa.SARIMAX(term, order=(1, 0, 0), trend=\"c\").fit()\n",
    "res.tvalues"
   ]
  },
  {
   "cell_type": "code",
   "execution_count": 7,
   "metadata": {
    "execution": {
     "iopub.execute_input": "2020-12-07T13:44:33.526336Z",
     "iopub.status.busy": "2020-12-07T13:44:33.526336Z",
     "iopub.status.idle": "2020-12-07T13:44:33.651340Z",
     "shell.execute_reply": "2020-12-07T13:44:33.652338Z"
    },
    "pycharm": {
     "is_executing": false,
     "name": "#%%\n"
    }
   },
   "outputs": [
    {
     "name": "stderr",
     "output_type": "stream",
     "text": [
      "c:\\git\\statsmodels\\statsmodels\\tsa\\statespace\\sarimax.py:978: UserWarning: Non-invertible starting MA parameters found. Using zeros as starting parameters.\n",
      "  warn('Non-invertible starting MA parameters found.'\n"
     ]
    },
    {
     "data": {
      "text/plain": [
       "intercept    24.061317\n",
       "ma.L1        73.865350\n",
       "sigma2       21.763449\n",
       "dtype: float64"
      ]
     },
     "execution_count": 1,
     "metadata": {},
     "output_type": "execute_result"
    }
   ],
   "source": [
    "res = tsa.SARIMAX(term, order=(0, 0, 1), trend=\"c\").fit()\n",
    "res.tvalues"
   ]
  },
  {
   "cell_type": "code",
   "execution_count": 8,
   "metadata": {
    "execution": {
     "iopub.execute_input": "2020-12-07T13:44:33.656337Z",
     "iopub.status.busy": "2020-12-07T13:44:33.656337Z",
     "iopub.status.idle": "2020-12-07T13:44:33.982860Z",
     "shell.execute_reply": "2020-12-07T13:44:33.983860Z"
    },
    "pycharm": {
     "is_executing": false,
     "name": "#%%\n"
    }
   },
   "outputs": [
    {
     "data": {
      "text/plain": [
       "intercept     4.136973\n",
       "ar.L1        92.943054\n",
       "ar.L2       -22.097042\n",
       "sigma2       49.974398\n",
       "dtype: float64"
      ]
     },
     "execution_count": 1,
     "metadata": {},
     "output_type": "execute_result"
    }
   ],
   "source": [
    "res = tsa.SARIMAX(term, order=(2, 0, 0), trend=\"c\").fit()\n",
    "res.tvalues"
   ]
  },
  {
   "cell_type": "code",
   "execution_count": 9,
   "metadata": {
    "execution": {
     "iopub.execute_input": "2020-12-07T13:44:33.986857Z",
     "iopub.status.busy": "2020-12-07T13:44:33.985858Z",
     "iopub.status.idle": "2020-12-07T13:44:34.251855Z",
     "shell.execute_reply": "2020-12-07T13:44:34.250857Z"
    },
    "pycharm": {
     "is_executing": false,
     "name": "#%%\n"
    }
   },
   "outputs": [
    {
     "data": {
      "text/plain": [
       "intercept      3.948588\n",
       "ar.L1        116.642232\n",
       "ma.L1         33.614000\n",
       "sigma2        42.834021\n",
       "dtype: float64"
      ]
     },
     "execution_count": 1,
     "metadata": {},
     "output_type": "execute_result"
    }
   ],
   "source": [
    "res = tsa.SARIMAX(term, order=(1, 0, 1), trend=\"c\").fit()\n",
    "res.tvalues\n"
   ]
  },
  {
   "cell_type": "code",
   "execution_count": 10,
   "metadata": {
    "execution": {
     "iopub.execute_input": "2020-12-07T13:44:34.254856Z",
     "iopub.status.busy": "2020-12-07T13:44:34.253855Z",
     "iopub.status.idle": "2020-12-07T13:44:34.579386Z",
     "shell.execute_reply": "2020-12-07T13:44:34.580384Z"
    },
    "pycharm": {
     "is_executing": false,
     "name": "#%%\n"
    }
   },
   "outputs": [
    {
     "data": {
      "text/plain": [
       "intercept     3.644060\n",
       "ar.L1        18.314437\n",
       "ar.L2         6.061021\n",
       "ma.L1        16.702826\n",
       "sigma2       38.381224\n",
       "dtype: float64"
      ]
     },
     "execution_count": 1,
     "metadata": {},
     "output_type": "execute_result"
    }
   ],
   "source": [
    "res = tsa.SARIMAX(term, order=(2, 0, 1), trend=\"c\").fit()\n",
    "res.tvalues"
   ]
  },
  {
   "cell_type": "code",
   "execution_count": 11,
   "metadata": {
    "execution": {
     "iopub.execute_input": "2020-12-07T13:44:34.582384Z",
     "iopub.status.busy": "2020-12-07T13:44:34.582384Z",
     "iopub.status.idle": "2020-12-07T13:44:34.958384Z",
     "shell.execute_reply": "2020-12-07T13:44:34.959384Z"
    },
    "pycharm": {
     "is_executing": false,
     "name": "#%%\n"
    }
   },
   "outputs": [
    {
     "data": {
      "text/plain": [
       "intercept      3.615044\n",
       "ar.L1        116.674005\n",
       "ma.L1         25.845690\n",
       "ma.L2         -3.657096\n",
       "sigma2        37.608982\n",
       "dtype: float64"
      ]
     },
     "execution_count": 1,
     "metadata": {},
     "output_type": "execute_result"
    }
   ],
   "source": [
    "res = tsa.SARIMAX(term, order=(1, 0, 2), trend=\"c\").fit()\n",
    "res.tvalues\n"
   ]
  },
  {
   "cell_type": "code",
   "execution_count": 12,
   "metadata": {
    "execution": {
     "iopub.execute_input": "2020-12-07T13:44:34.962385Z",
     "iopub.status.busy": "2020-12-07T13:44:34.961384Z",
     "iopub.status.idle": "2020-12-07T13:44:35.465910Z",
     "shell.execute_reply": "2020-12-07T13:44:35.466908Z"
    },
    "pycharm": {
     "is_executing": false,
     "name": "#%%\n"
    }
   },
   "outputs": [
    {
     "data": {
      "text/plain": [
       "intercept     3.692895\n",
       "ar.L1        11.741746\n",
       "ar.L2         4.770352\n",
       "ar.L3        -1.868836\n",
       "ma.L1        12.630009\n",
       "sigma2       37.700351\n",
       "dtype: float64"
      ]
     },
     "execution_count": 1,
     "metadata": {},
     "output_type": "execute_result"
    }
   ],
   "source": [
    "res = tsa.SARIMAX(term, order=(3, 0, 1), trend=\"c\").fit()\n",
    "res.tvalues"
   ]
  },
  {
   "cell_type": "code",
   "execution_count": 13,
   "metadata": {
    "execution": {
     "iopub.execute_input": "2020-12-07T13:44:35.470425Z",
     "iopub.status.busy": "2020-12-07T13:44:35.469428Z",
     "iopub.status.idle": "2020-12-07T13:44:36.158425Z",
     "shell.execute_reply": "2020-12-07T13:44:36.158425Z"
    },
    "pycharm": {
     "is_executing": false,
     "name": "#%%\n"
    }
   },
   "outputs": [
    {
     "data": {
      "text/plain": [
       "intercept     3.173498\n",
       "ar.L1         2.130598\n",
       "ar.L2         3.043375\n",
       "ma.L1         4.925914\n",
       "ma.L2         1.637967\n",
       "sigma2       37.886769\n",
       "dtype: float64"
      ]
     },
     "execution_count": 1,
     "metadata": {},
     "output_type": "execute_result"
    }
   ],
   "source": [
    "res = tsa.SARIMAX(term, order=(2, 0, 2), trend=\"c\").fit()\n",
    "res.tvalues"
   ]
  },
  {
   "cell_type": "code",
   "execution_count": 14,
   "metadata": {
    "execution": {
     "iopub.execute_input": "2020-12-07T13:44:36.161424Z",
     "iopub.status.busy": "2020-12-07T13:44:36.161424Z",
     "iopub.status.idle": "2020-12-07T13:44:36.491424Z",
     "shell.execute_reply": "2020-12-07T13:44:36.491424Z"
    },
    "pycharm": {
     "is_executing": false,
     "name": "#%%\n"
    }
   },
   "outputs": [
    {
     "data": {
      "text/html": [
       "<table class=\"simpletable\">\n",
       "<caption>SARIMAX Results</caption>\n",
       "<tr>\n",
       "  <th>Dep. Variable:</th>         <td>TERM</td>       <th>  No. Observations:  </th>   <td>812</td>  \n",
       "</tr>\n",
       "<tr>\n",
       "  <th>Model:</th>           <td>SARIMAX(2, 0, 1)</td> <th>  Log Likelihood     </th> <td>14.712</td> \n",
       "</tr>\n",
       "<tr>\n",
       "  <th>Date:</th>            <td>Mon, 07 Dec 2020</td> <th>  AIC                </th> <td>-19.423</td>\n",
       "</tr>\n",
       "<tr>\n",
       "  <th>Time:</th>                <td>13:44:36</td>     <th>  BIC                </th>  <td>4.074</td> \n",
       "</tr>\n",
       "<tr>\n",
       "  <th>Sample:</th>             <td>04-01-1953</td>    <th>  HQIC               </th> <td>-10.403</td>\n",
       "</tr>\n",
       "<tr>\n",
       "  <th></th>                   <td>- 11-01-2020</td>   <th>                     </th>    <td> </td>   \n",
       "</tr>\n",
       "<tr>\n",
       "  <th>Covariance Type:</th>        <td>opg</td>       <th>                     </th>    <td> </td>   \n",
       "</tr>\n",
       "</table>\n",
       "<table class=\"simpletable\">\n",
       "<tr>\n",
       "      <td></td>         <th>coef</th>     <th>std err</th>      <th>z</th>      <th>P>|z|</th>  <th>[0.025</th>    <th>0.975]</th>  \n",
       "</tr>\n",
       "<tr>\n",
       "  <th>intercept</th> <td>    0.0501</td> <td>    0.014</td> <td>    3.644</td> <td> 0.000</td> <td>    0.023</td> <td>    0.077</td>\n",
       "</tr>\n",
       "<tr>\n",
       "  <th>ar.L1</th>     <td>    0.7126</td> <td>    0.039</td> <td>   18.314</td> <td> 0.000</td> <td>    0.636</td> <td>    0.789</td>\n",
       "</tr>\n",
       "<tr>\n",
       "  <th>ar.L2</th>     <td>    0.2342</td> <td>    0.039</td> <td>    6.061</td> <td> 0.000</td> <td>    0.158</td> <td>    0.310</td>\n",
       "</tr>\n",
       "<tr>\n",
       "  <th>ma.L1</th>     <td>    0.6228</td> <td>    0.037</td> <td>   16.703</td> <td> 0.000</td> <td>    0.550</td> <td>    0.696</td>\n",
       "</tr>\n",
       "<tr>\n",
       "  <th>sigma2</th>    <td>    0.0562</td> <td>    0.001</td> <td>   38.381</td> <td> 0.000</td> <td>    0.053</td> <td>    0.059</td>\n",
       "</tr>\n",
       "</table>\n",
       "<table class=\"simpletable\">\n",
       "<tr>\n",
       "  <th>Ljung-Box (L1) (Q):</th>     <td>0.06</td> <th>  Jarque-Bera (JB):  </th> <td>3141.78</td>\n",
       "</tr>\n",
       "<tr>\n",
       "  <th>Prob(Q):</th>                <td>0.81</td> <th>  Prob(JB):          </th>  <td>0.00</td>  \n",
       "</tr>\n",
       "<tr>\n",
       "  <th>Heteroskedasticity (H):</th> <td>0.72</td> <th>  Skew:              </th>  <td>0.59</td>  \n",
       "</tr>\n",
       "<tr>\n",
       "  <th>Prob(H) (two-sided):</th>    <td>0.01</td> <th>  Kurtosis:          </th>  <td>12.56</td> \n",
       "</tr>\n",
       "</table><br/><br/>Warnings:<br/>[1] Covariance matrix calculated using the outer product of gradients (complex-step)."
      ],
      "text/plain": [
       "<class 'statsmodels.iolib.summary.Summary'>\n",
       "\"\"\"\n",
       "                               SARIMAX Results                                \n",
       "==============================================================================\n",
       "Dep. Variable:                   TERM   No. Observations:                  812\n",
       "Model:               SARIMAX(2, 0, 1)   Log Likelihood                  14.712\n",
       "Date:                Mon, 07 Dec 2020   AIC                            -19.423\n",
       "Time:                        13:44:36   BIC                              4.074\n",
       "Sample:                    04-01-1953   HQIC                           -10.403\n",
       "                         - 11-01-2020                                         \n",
       "Covariance Type:                  opg                                         \n",
       "==============================================================================\n",
       "                 coef    std err          z      P>|z|      [0.025      0.975]\n",
       "------------------------------------------------------------------------------\n",
       "intercept      0.0501      0.014      3.644      0.000       0.023       0.077\n",
       "ar.L1          0.7126      0.039     18.314      0.000       0.636       0.789\n",
       "ar.L2          0.2342      0.039      6.061      0.000       0.158       0.310\n",
       "ma.L1          0.6228      0.037     16.703      0.000       0.550       0.696\n",
       "sigma2         0.0562      0.001     38.381      0.000       0.053       0.059\n",
       "===================================================================================\n",
       "Ljung-Box (L1) (Q):                   0.06   Jarque-Bera (JB):              3141.78\n",
       "Prob(Q):                              0.81   Prob(JB):                         0.00\n",
       "Heteroskedasticity (H):               0.72   Skew:                             0.59\n",
       "Prob(H) (two-sided):                  0.01   Kurtosis:                        12.56\n",
       "===================================================================================\n",
       "\n",
       "Warnings:\n",
       "[1] Covariance matrix calculated using the outer product of gradients (complex-step).\n",
       "\"\"\""
      ]
     },
     "execution_count": 1,
     "metadata": {},
     "output_type": "execute_result"
    }
   ],
   "source": [
    "stg_res = tsa.SARIMAX(term, order=(2, 0, 1), trend=\"c\").fit()\n",
    "stg_res.summary()"
   ]
  }
 ],
 "metadata": {
  "kernelspec": {
   "display_name": "Python 3",
   "language": "python",
   "name": "python3"
  },
  "language_info": {
   "codemirror_mode": {
    "name": "ipython",
    "version": 3
   },
   "file_extension": ".py",
   "mimetype": "text/x-python",
   "name": "python",
   "nbconvert_exporter": "python",
   "pygments_lexer": "ipython3",
   "version": "3.8.5"
  },
  "pycharm": {
   "stem_cell": {
    "cell_type": "raw",
    "metadata": {
     "collapsed": false
    },
    "source": []
   }
  }
 },
 "nbformat": 4,
 "nbformat_minor": 1
}
