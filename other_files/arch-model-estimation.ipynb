{
 "cells": [
  {
   "cell_type": "markdown",
   "metadata": {
    "pycharm": {
     "name": "#%% md\n"
    }
   },
   "source": [
    "## ARCH Model Estimation\n",
    "\n",
    "**Functions**\n",
    "\n",
    "`arch.arch_model`"
   ]
  },
  {
   "cell_type": "code",
   "execution_count": 1,
   "metadata": {
    "collapsed": false,
    "execution": {
     "iopub.execute_input": "2020-12-07T13:47:39.981114Z",
     "iopub.status.busy": "2020-12-07T13:47:39.981114Z",
     "iopub.status.idle": "2020-12-07T13:47:40.247114Z",
     "shell.execute_reply": "2020-12-07T13:47:40.248114Z"
    },
    "jupyter": {
     "outputs_hidden": false
    },
    "pycharm": {
     "is_executing": false,
     "name": "#%%\n"
    }
   },
   "outputs": [],
   "source": [
    "%matplotlib inline"
   ]
  },
  {
   "cell_type": "code",
   "execution_count": 2,
   "metadata": {
    "collapsed": false,
    "execution": {
     "iopub.execute_input": "2020-12-07T13:47:40.251114Z",
     "iopub.status.busy": "2020-12-07T13:47:40.251114Z",
     "iopub.status.idle": "2020-12-07T13:47:40.707115Z",
     "shell.execute_reply": "2020-12-07T13:47:40.708114Z"
    },
    "jupyter": {
     "outputs_hidden": false
    },
    "pycharm": {
     "is_executing": false,
     "name": "#%%\n"
    }
   },
   "outputs": [],
   "source": [
    "import pandas as pd\n",
    "import pandas_datareader as pdr\n",
    "import os\n",
    "\n",
    "if not os.path.exists(\"./data/arch-data.h5\"):\n",
    "    sp500 = pdr.get_data_fred(\"SP500\", start=\"2010-1-1\", end=\"2020-1-1\").dropna()\n",
    "    eurusd = pdr.get_data_fred(\"DEXUSEU\", start=\"2010-1-1\", end=\"2020-1-1\").dropna()\n",
    "    \n",
    "    with pd.HDFStore(\"./data/arch-data.h5\", mode=\"w\") as store:\n",
    "        store.put(\"sp500\", sp500)\n",
    "        store.put(\"eurusd\", eurusd)\n",
    "\n",
    "sp500 = pd.read_hdf(\"./data/arch-data.h5\", \"sp500\")        \n",
    "eurusd = pd.read_hdf(\"./data/arch-data.h5\", \"eurusd\")"
   ]
  },
  {
   "cell_type": "markdown",
   "metadata": {
    "pycharm": {
     "name": "#%% md\n"
    }
   },
   "source": [
    "#### Explanation\n",
    "We can use pandas-datareader to download the data from FRED.  The data is then\n",
    "stored to HDF for use later.  The `if` statement checks if the HDF file already\n",
    "exists, and if found, skips downloading the data.\n",
    " "
   ]
  },
  {
   "cell_type": "markdown",
   "metadata": {
    "pycharm": {
     "name": "#%% md\n"
    }
   },
   "source": [
    "### Exercise 74\n",
    "\n",
    "Estimate a GARCH(1,1) and a GJR-GARCH(1,1,1) to the returns of both series.\n",
    "\n",
    "**Note**: You need to install arch using\n",
    "\n",
    "```bash\n",
    "pip install arch\n",
    "```\n",
    "\n",
    "which contains ARCH and related models.\n",
    "\n",
    "Documentation and examples for the arch package [are available online](https://bashtage.github.io/arch)."
   ]
  },
  {
   "cell_type": "code",
   "execution_count": 3,
   "metadata": {
    "collapsed": false,
    "execution": {
     "iopub.execute_input": "2020-12-07T13:47:40.710114Z",
     "iopub.status.busy": "2020-12-07T13:47:40.710114Z",
     "iopub.status.idle": "2020-12-07T13:47:41.280139Z",
     "shell.execute_reply": "2020-12-07T13:47:41.279139Z"
    },
    "jupyter": {
     "outputs_hidden": false
    },
    "pycharm": {
     "is_executing": false,
     "name": "#%%\n"
    }
   },
   "outputs": [],
   "source": [
    "from arch import arch_model\n",
    "\n",
    "sp500_ret = 100 * sp500.pct_change().dropna()\n",
    "eurusd_ret = 100 * eurusd.pct_change().dropna()"
   ]
  },
  {
   "cell_type": "code",
   "execution_count": 4,
   "metadata": {
    "collapsed": false,
    "execution": {
     "iopub.execute_input": "2020-12-07T13:47:41.283139Z",
     "iopub.status.busy": "2020-12-07T13:47:41.283139Z",
     "iopub.status.idle": "2020-12-07T13:47:41.343142Z",
     "shell.execute_reply": "2020-12-07T13:47:41.344139Z"
    },
    "jupyter": {
     "outputs_hidden": false
    },
    "pycharm": {
     "is_executing": false,
     "name": "#%%\n"
    }
   },
   "outputs": [
    {
     "name": "stdout",
     "output_type": "stream",
     "text": [
      "Iteration:      1,   Func. Count:      6,   Neg. LLF: 3269662.2486262713\n",
      "Iteration:      2,   Func. Count:     15,   Neg. LLF: 12440107184.925404\n",
      "Iteration:      3,   Func. Count:     23,   Neg. LLF: 4220.707592327131\n",
      "Iteration:      4,   Func. Count:     31,   Neg. LLF: 4168.551671868621\n",
      "Iteration:      5,   Func. Count:     37,   Neg. LLF: 3007.717102741579\n",
      "Iteration:      6,   Func. Count:     43,   Neg. LLF: 2997.091706343378\n",
      "Iteration:      7,   Func. Count:     48,   Neg. LLF: 2997.065213189111\n",
      "Iteration:      8,   Func. Count:     53,   Neg. LLF: 2997.06134598873\n",
      "Iteration:      9,   Func. Count:     58,   Neg. LLF: 2997.0607371369592\n",
      "Iteration:     10,   Func. Count:     63,   Neg. LLF: 2997.060725516014\n",
      "Iteration:     11,   Func. Count:     67,   Neg. LLF: 2997.060725515726\n",
      "Optimization terminated successfully    (Exit mode 0)\n",
      "            Current function value: 2997.060725516014\n",
      "            Iterations: 11\n",
      "            Function evaluations: 67\n",
      "            Gradient evaluations: 11\n"
     ]
    },
    {
     "data": {
      "text/html": [
       "<table class=\"simpletable\">\n",
       "<caption>Constant Mean - GARCH Model Results</caption>\n",
       "<tr>\n",
       "  <th>Dep. Variable:</th>        <td>SP500</td>       <th>  R-squared:         </th>  <td>  -0.002</td> \n",
       "</tr>\n",
       "<tr>\n",
       "  <th>Mean Model:</th>       <td>Constant Mean</td>   <th>  Adj. R-squared:    </th>  <td>  -0.002</td> \n",
       "</tr>\n",
       "<tr>\n",
       "  <th>Vol Model:</th>            <td>GARCH</td>       <th>  Log-Likelihood:    </th> <td>  -2997.06</td>\n",
       "</tr>\n",
       "<tr>\n",
       "  <th>Distribution:</th>        <td>Normal</td>       <th>  AIC:               </th> <td>   6002.12</td>\n",
       "</tr>\n",
       "<tr>\n",
       "  <th>Method:</th>        <td>Maximum Likelihood</td> <th>  BIC:               </th> <td>   6025.43</td>\n",
       "</tr>\n",
       "<tr>\n",
       "  <th></th>                        <td></td>          <th>  No. Observations:  </th>    <td>2510</td>   \n",
       "</tr>\n",
       "<tr>\n",
       "  <th>Date:</th>           <td>Mon, Dec 07 2020</td>  <th>  Df Residuals:      </th>    <td>2506</td>   \n",
       "</tr>\n",
       "<tr>\n",
       "  <th>Time:</th>               <td>13:47:41</td>      <th>  Df Model:          </th>      <td>4</td>    \n",
       "</tr>\n",
       "</table>\n",
       "<table class=\"simpletable\">\n",
       "<caption>Mean Model</caption>\n",
       "<tr>\n",
       "   <td></td>     <th>coef</th>     <th>std err</th>      <th>t</th>       <th>P>|t|</th>    <th>95.0% Conf. Int.</th>  \n",
       "</tr>\n",
       "<tr>\n",
       "  <th>mu</th> <td>    0.0817</td> <td>1.397e-02</td> <td>    5.845</td> <td>5.081e-09</td> <td>[5.429e-02,  0.109]</td>\n",
       "</tr>\n",
       "</table>\n",
       "<table class=\"simpletable\">\n",
       "<caption>Volatility Model</caption>\n",
       "<tr>\n",
       "      <td></td>        <th>coef</th>     <th>std err</th>      <th>t</th>        <th>P>|t|</th>     <th>95.0% Conf. Int.</th>   \n",
       "</tr>\n",
       "<tr>\n",
       "  <th>omega</th>    <td>    0.0360</td> <td>8.098e-03</td> <td>    4.452</td>  <td>8.514e-06</td> <td>[2.018e-02,5.192e-02]</td>\n",
       "</tr>\n",
       "<tr>\n",
       "  <th>alpha[1]</th> <td>    0.1688</td> <td>2.472e-02</td> <td>    6.830</td>  <td>8.479e-12</td>   <td>[  0.120,  0.217]</td>  \n",
       "</tr>\n",
       "<tr>\n",
       "  <th>beta[1]</th>  <td>    0.7923</td> <td>2.409e-02</td> <td>   32.887</td> <td>3.400e-237</td>   <td>[  0.745,  0.839]</td>  \n",
       "</tr>\n",
       "</table><br/><br/>Covariance estimator: robust"
      ],
      "text/plain": [
       "<class 'statsmodels.iolib.summary.Summary'>\n",
       "\"\"\"\n",
       "                     Constant Mean - GARCH Model Results                      \n",
       "==============================================================================\n",
       "Dep. Variable:                  SP500   R-squared:                      -0.002\n",
       "Mean Model:             Constant Mean   Adj. R-squared:                 -0.002\n",
       "Vol Model:                      GARCH   Log-Likelihood:               -2997.06\n",
       "Distribution:                  Normal   AIC:                           6002.12\n",
       "Method:            Maximum Likelihood   BIC:                           6025.43\n",
       "                                        No. Observations:                 2510\n",
       "Date:                Mon, Dec 07 2020   Df Residuals:                     2506\n",
       "Time:                        13:47:41   Df Model:                            4\n",
       "                                Mean Model                                \n",
       "==========================================================================\n",
       "                 coef    std err          t      P>|t|    95.0% Conf. Int.\n",
       "--------------------------------------------------------------------------\n",
       "mu             0.0817  1.397e-02      5.845  5.081e-09 [5.429e-02,  0.109]\n",
       "                              Volatility Model                              \n",
       "============================================================================\n",
       "                 coef    std err          t      P>|t|      95.0% Conf. Int.\n",
       "----------------------------------------------------------------------------\n",
       "omega          0.0360  8.098e-03      4.452  8.514e-06 [2.018e-02,5.192e-02]\n",
       "alpha[1]       0.1688  2.472e-02      6.830  8.479e-12     [  0.120,  0.217]\n",
       "beta[1]        0.7923  2.409e-02     32.887 3.400e-237     [  0.745,  0.839]\n",
       "============================================================================\n",
       "\n",
       "Covariance estimator: robust\n",
       "\"\"\""
      ]
     },
     "execution_count": 1,
     "metadata": {},
     "output_type": "execute_result"
    }
   ],
   "source": [
    "garch = arch_model(sp500_ret)\n",
    "res_sp500 = garch.fit()\n",
    "res_sp500.summary()"
   ]
  },
  {
   "cell_type": "markdown",
   "metadata": {
    "pycharm": {
     "name": "#%% md\n"
    }
   },
   "source": [
    "#### Explanation\n",
    "The default model is a GARCH(1,1).  The function `arch_model` returns the model, and\n",
    "the method `fit` estimates the parameters.  This is the same pattern as in `statsmodels`. "
   ]
  },
  {
   "cell_type": "code",
   "execution_count": 5,
   "metadata": {
    "collapsed": false,
    "execution": {
     "iopub.execute_input": "2020-12-07T13:47:41.348142Z",
     "iopub.status.busy": "2020-12-07T13:47:41.348142Z",
     "iopub.status.idle": "2020-12-07T13:47:41.408141Z",
     "shell.execute_reply": "2020-12-07T13:47:41.407142Z"
    },
    "jupyter": {
     "outputs_hidden": false
    },
    "pycharm": {
     "is_executing": false,
     "name": "#%%\n"
    }
   },
   "outputs": [
    {
     "data": {
      "text/html": [
       "<table class=\"simpletable\">\n",
       "<caption>Constant Mean - GJR-GARCH Model Results</caption>\n",
       "<tr>\n",
       "  <th>Dep. Variable:</th>        <td>SP500</td>       <th>  R-squared:         </th>  <td>  -0.000</td> \n",
       "</tr>\n",
       "<tr>\n",
       "  <th>Mean Model:</th>       <td>Constant Mean</td>   <th>  Adj. R-squared:    </th>  <td>  -0.000</td> \n",
       "</tr>\n",
       "<tr>\n",
       "  <th>Vol Model:</th>          <td>GJR-GARCH</td>     <th>  Log-Likelihood:    </th> <td>  -2929.70</td>\n",
       "</tr>\n",
       "<tr>\n",
       "  <th>Distribution:</th>        <td>Normal</td>       <th>  AIC:               </th> <td>   5869.41</td>\n",
       "</tr>\n",
       "<tr>\n",
       "  <th>Method:</th>        <td>Maximum Likelihood</td> <th>  BIC:               </th> <td>   5898.55</td>\n",
       "</tr>\n",
       "<tr>\n",
       "  <th></th>                        <td></td>          <th>  No. Observations:  </th>    <td>2510</td>   \n",
       "</tr>\n",
       "<tr>\n",
       "  <th>Date:</th>           <td>Mon, Dec 07 2020</td>  <th>  Df Residuals:      </th>    <td>2505</td>   \n",
       "</tr>\n",
       "<tr>\n",
       "  <th>Time:</th>               <td>13:47:41</td>      <th>  Df Model:          </th>      <td>5</td>    \n",
       "</tr>\n",
       "</table>\n",
       "<table class=\"simpletable\">\n",
       "<caption>Mean Model</caption>\n",
       "<tr>\n",
       "   <td></td>     <th>coef</th>     <th>std err</th>      <th>t</th>       <th>P>|t|</th>     <th>95.0% Conf. Int.</th>   \n",
       "</tr>\n",
       "<tr>\n",
       "  <th>mu</th> <td>    0.0417</td> <td>1.353e-02</td> <td>    3.078</td> <td>2.086e-03</td> <td>[1.513e-02,6.818e-02]</td>\n",
       "</tr>\n",
       "</table>\n",
       "<table class=\"simpletable\">\n",
       "<caption>Volatility Model</caption>\n",
       "<tr>\n",
       "      <td></td>        <th>coef</th>     <th>std err</th>      <th>t</th>        <th>P>|t|</th>      <th>95.0% Conf. Int.</th>   \n",
       "</tr>\n",
       "<tr>\n",
       "  <th>omega</th>    <td>    0.0349</td> <td>5.870e-03</td> <td>    5.942</td>  <td>2.808e-09</td>  <td>[2.338e-02,4.639e-02]</td>\n",
       "</tr>\n",
       "<tr>\n",
       "  <th>alpha[1]</th> <td>1.5545e-11</td> <td>3.042e-02</td> <td>5.110e-10</td>  <td>    1.000</td> <td>[-5.962e-02,5.962e-02]</td>\n",
       "</tr>\n",
       "<tr>\n",
       "  <th>gamma[1]</th> <td>    0.2799</td> <td>4.204e-02</td> <td>    6.659</td>  <td>2.764e-11</td>    <td>[  0.198,  0.362]</td>  \n",
       "</tr>\n",
       "<tr>\n",
       "  <th>beta[1]</th>  <td>    0.8176</td> <td>2.372e-02</td> <td>   34.469</td> <td>2.309e-260</td>    <td>[  0.771,  0.864]</td>  \n",
       "</tr>\n",
       "</table><br/><br/>Covariance estimator: robust"
      ],
      "text/plain": [
       "<class 'statsmodels.iolib.summary.Summary'>\n",
       "\"\"\"\n",
       "                   Constant Mean - GJR-GARCH Model Results                    \n",
       "==============================================================================\n",
       "Dep. Variable:                  SP500   R-squared:                      -0.000\n",
       "Mean Model:             Constant Mean   Adj. R-squared:                 -0.000\n",
       "Vol Model:                  GJR-GARCH   Log-Likelihood:               -2929.70\n",
       "Distribution:                  Normal   AIC:                           5869.41\n",
       "Method:            Maximum Likelihood   BIC:                           5898.55\n",
       "                                        No. Observations:                 2510\n",
       "Date:                Mon, Dec 07 2020   Df Residuals:                     2505\n",
       "Time:                        13:47:41   Df Model:                            5\n",
       "                                 Mean Model                                 \n",
       "============================================================================\n",
       "                 coef    std err          t      P>|t|      95.0% Conf. Int.\n",
       "----------------------------------------------------------------------------\n",
       "mu             0.0417  1.353e-02      3.078  2.086e-03 [1.513e-02,6.818e-02]\n",
       "                               Volatility Model                              \n",
       "=============================================================================\n",
       "                 coef    std err          t      P>|t|       95.0% Conf. Int.\n",
       "-----------------------------------------------------------------------------\n",
       "omega          0.0349  5.870e-03      5.942  2.808e-09  [2.338e-02,4.639e-02]\n",
       "alpha[1]   1.5545e-11  3.042e-02  5.110e-10      1.000 [-5.962e-02,5.962e-02]\n",
       "gamma[1]       0.2799  4.204e-02      6.659  2.764e-11      [  0.198,  0.362]\n",
       "beta[1]        0.8176  2.372e-02     34.469 2.309e-260      [  0.771,  0.864]\n",
       "=============================================================================\n",
       "\n",
       "Covariance estimator: robust\n",
       "\"\"\""
      ]
     },
     "execution_count": 1,
     "metadata": {},
     "output_type": "execute_result"
    }
   ],
   "source": [
    "gjr_garch = arch_model(sp500_ret, p=1, o=1, q=1)\n",
    "gjr_res_sp500 = gjr_garch.fit(disp=\"off\")\n",
    "gjr_res_sp500.summary()\n"
   ]
  },
  {
   "cell_type": "markdown",
   "metadata": {
    "pycharm": {
     "name": "#%% md\n"
    }
   },
   "source": [
    "#### Explanation\n",
    "\n",
    "A GJR-GARCH sets the parameter `o` to 1.  I set `p` and `q` for clarity. The\n",
    "default values for these two parameters is already 1. "
   ]
  },
  {
   "cell_type": "code",
   "execution_count": 6,
   "metadata": {
    "collapsed": false,
    "execution": {
     "iopub.execute_input": "2020-12-07T13:47:41.411139Z",
     "iopub.status.busy": "2020-12-07T13:47:41.411139Z",
     "iopub.status.idle": "2020-12-07T13:47:41.470143Z",
     "shell.execute_reply": "2020-12-07T13:47:41.470143Z"
    },
    "jupyter": {
     "outputs_hidden": false
    },
    "pycharm": {
     "is_executing": false,
     "name": "#%%\n"
    }
   },
   "outputs": [
    {
     "name": "stdout",
     "output_type": "stream",
     "text": [
      "Iteration:      1,   Func. Count:      6,   Neg. LLF: 16502818063.448547\n",
      "Iteration:      2,   Func. Count:     15,   Neg. LLF: 1286248356.73551\n",
      "Iteration:      3,   Func. Count:     23,   Neg. LLF: 1912.5197377445124\n",
      "Iteration:      4,   Func. Count:     29,   Neg. LLF: 1890.876298403521\n",
      "Iteration:      5,   Func. Count:     34,   Neg. LLF: 3932.9312365163187\n",
      "Iteration:      6,   Func. Count:     40,   Neg. LLF: 3482.1026845765355\n",
      "Iteration:      7,   Func. Count:     49,   Neg. LLF: 4568.658238100806\n",
      "Iteration:      8,   Func. Count:     57,   Neg. LLF: 1895.7821455070996\n",
      "Iteration:      9,   Func. Count:     63,   Neg. LLF: 1886.42033631897\n",
      "Iteration:     10,   Func. Count:     68,   Neg. LLF: 1886.4203040680097\n",
      "Iteration:     11,   Func. Count:     73,   Neg. LLF: 1886.4203000140574\n",
      "Iteration:     12,   Func. Count:     77,   Neg. LLF: 1886.4203000155449\n",
      "Optimization terminated successfully    (Exit mode 0)\n",
      "            Current function value: 1886.4203000140574\n",
      "            Iterations: 12\n",
      "            Function evaluations: 77\n",
      "            Gradient evaluations: 12\n"
     ]
    },
    {
     "data": {
      "text/html": [
       "<table class=\"simpletable\">\n",
       "<caption>Constant Mean - GARCH Model Results</caption>\n",
       "<tr>\n",
       "  <th>Dep. Variable:</th>       <td>DEXUSEU</td>      <th>  R-squared:         </th>  <td>  -0.000</td> \n",
       "</tr>\n",
       "<tr>\n",
       "  <th>Mean Model:</th>       <td>Constant Mean</td>   <th>  Adj. R-squared:    </th>  <td>  -0.000</td> \n",
       "</tr>\n",
       "<tr>\n",
       "  <th>Vol Model:</th>            <td>GARCH</td>       <th>  Log-Likelihood:    </th> <td>  -1886.42</td>\n",
       "</tr>\n",
       "<tr>\n",
       "  <th>Distribution:</th>        <td>Normal</td>       <th>  AIC:               </th> <td>   3780.84</td>\n",
       "</tr>\n",
       "<tr>\n",
       "  <th>Method:</th>        <td>Maximum Likelihood</td> <th>  BIC:               </th> <td>   3804.14</td>\n",
       "</tr>\n",
       "<tr>\n",
       "  <th></th>                        <td></td>          <th>  No. Observations:  </th>    <td>2501</td>   \n",
       "</tr>\n",
       "<tr>\n",
       "  <th>Date:</th>           <td>Mon, Dec 07 2020</td>  <th>  Df Residuals:      </th>    <td>2497</td>   \n",
       "</tr>\n",
       "<tr>\n",
       "  <th>Time:</th>               <td>13:47:41</td>      <th>  Df Model:          </th>      <td>4</td>    \n",
       "</tr>\n",
       "</table>\n",
       "<table class=\"simpletable\">\n",
       "<caption>Mean Model</caption>\n",
       "<tr>\n",
       "   <td></td>     <th>coef</th>      <th>std err</th>      <th>t</th>       <th>P>|t|</th>      <th>95.0% Conf. Int.</th>   \n",
       "</tr>\n",
       "<tr>\n",
       "  <th>mu</th> <td>-7.6712e-03</td> <td>9.141e-03</td> <td>   -0.839</td> <td>    0.401</td> <td>[-2.559e-02,1.024e-02]</td>\n",
       "</tr>\n",
       "</table>\n",
       "<table class=\"simpletable\">\n",
       "<caption>Volatility Model</caption>\n",
       "<tr>\n",
       "      <td></td>        <th>coef</th>     <th>std err</th>      <th>t</th>       <th>P>|t|</th>      <th>95.0% Conf. Int.</th>   \n",
       "</tr>\n",
       "<tr>\n",
       "  <th>omega</th>    <td>6.3182e-04</td> <td>6.328e-04</td> <td>    0.998</td> <td>    0.318</td> <td>[-6.085e-04,1.872e-03]</td>\n",
       "</tr>\n",
       "<tr>\n",
       "  <th>alpha[1]</th> <td>    0.0272</td> <td>6.165e-03</td> <td>    4.413</td> <td>1.020e-05</td>  <td>[1.512e-02,3.929e-02]</td>\n",
       "</tr>\n",
       "<tr>\n",
       "  <th>beta[1]</th>  <td>    0.9705</td> <td>6.731e-03</td> <td>  144.185</td>   <td>0.000</td>      <td>[  0.957,  0.984]</td>  \n",
       "</tr>\n",
       "</table><br/><br/>Covariance estimator: robust"
      ],
      "text/plain": [
       "<class 'statsmodels.iolib.summary.Summary'>\n",
       "\"\"\"\n",
       "                     Constant Mean - GARCH Model Results                      \n",
       "==============================================================================\n",
       "Dep. Variable:                DEXUSEU   R-squared:                      -0.000\n",
       "Mean Model:             Constant Mean   Adj. R-squared:                 -0.000\n",
       "Vol Model:                      GARCH   Log-Likelihood:               -1886.42\n",
       "Distribution:                  Normal   AIC:                           3780.84\n",
       "Method:            Maximum Likelihood   BIC:                           3804.14\n",
       "                                        No. Observations:                 2501\n",
       "Date:                Mon, Dec 07 2020   Df Residuals:                     2497\n",
       "Time:                        13:47:41   Df Model:                            4\n",
       "                                  Mean Model                                  \n",
       "==============================================================================\n",
       "                  coef    std err          t      P>|t|       95.0% Conf. Int.\n",
       "------------------------------------------------------------------------------\n",
       "mu         -7.6712e-03  9.141e-03     -0.839      0.401 [-2.559e-02,1.024e-02]\n",
       "                               Volatility Model                              \n",
       "=============================================================================\n",
       "                 coef    std err          t      P>|t|       95.0% Conf. Int.\n",
       "-----------------------------------------------------------------------------\n",
       "omega      6.3182e-04  6.328e-04      0.998      0.318 [-6.085e-04,1.872e-03]\n",
       "alpha[1]       0.0272  6.165e-03      4.413  1.020e-05  [1.512e-02,3.929e-02]\n",
       "beta[1]        0.9705  6.731e-03    144.185      0.000      [  0.957,  0.984]\n",
       "=============================================================================\n",
       "\n",
       "Covariance estimator: robust\n",
       "\"\"\""
      ]
     },
     "execution_count": 1,
     "metadata": {},
     "output_type": "execute_result"
    }
   ],
   "source": [
    "garch = arch_model(eurusd_ret)\n",
    "res_eurusd = garch.fit()\n",
    "res_eurusd.summary()"
   ]
  },
  {
   "cell_type": "code",
   "execution_count": 7,
   "metadata": {
    "collapsed": false,
    "execution": {
     "iopub.execute_input": "2020-12-07T13:47:41.475141Z",
     "iopub.status.busy": "2020-12-07T13:47:41.474141Z",
     "iopub.status.idle": "2020-12-07T13:47:41.534170Z",
     "shell.execute_reply": "2020-12-07T13:47:41.533171Z"
    },
    "jupyter": {
     "outputs_hidden": false
    },
    "pycharm": {
     "is_executing": false,
     "name": "#%%\n"
    }
   },
   "outputs": [
    {
     "data": {
      "text/html": [
       "<table class=\"simpletable\">\n",
       "<caption>Constant Mean - GJR-GARCH Model Results</caption>\n",
       "<tr>\n",
       "  <th>Dep. Variable:</th>       <td>DEXUSEU</td>      <th>  R-squared:         </th>  <td>  -0.000</td> \n",
       "</tr>\n",
       "<tr>\n",
       "  <th>Mean Model:</th>       <td>Constant Mean</td>   <th>  Adj. R-squared:    </th>  <td>  -0.000</td> \n",
       "</tr>\n",
       "<tr>\n",
       "  <th>Vol Model:</th>          <td>GJR-GARCH</td>     <th>  Log-Likelihood:    </th> <td>  -1878.59</td>\n",
       "</tr>\n",
       "<tr>\n",
       "  <th>Distribution:</th>        <td>Normal</td>       <th>  AIC:               </th> <td>   3767.18</td>\n",
       "</tr>\n",
       "<tr>\n",
       "  <th>Method:</th>        <td>Maximum Likelihood</td> <th>  BIC:               </th> <td>   3796.31</td>\n",
       "</tr>\n",
       "<tr>\n",
       "  <th></th>                        <td></td>          <th>  No. Observations:  </th>    <td>2501</td>   \n",
       "</tr>\n",
       "<tr>\n",
       "  <th>Date:</th>           <td>Mon, Dec 07 2020</td>  <th>  Df Residuals:      </th>    <td>2496</td>   \n",
       "</tr>\n",
       "<tr>\n",
       "  <th>Time:</th>               <td>13:47:41</td>      <th>  Df Model:          </th>      <td>5</td>    \n",
       "</tr>\n",
       "</table>\n",
       "<table class=\"simpletable\">\n",
       "<caption>Mean Model</caption>\n",
       "<tr>\n",
       "   <td></td>     <th>coef</th>     <th>std err</th>      <th>t</th>       <th>P>|t|</th>      <th>95.0% Conf. Int.</th>   \n",
       "</tr>\n",
       "<tr>\n",
       "  <th>mu</th> <td>   -0.0122</td> <td>9.172e-03</td> <td>   -1.331</td> <td>    0.183</td> <td>[-3.018e-02,5.770e-03]</td>\n",
       "</tr>\n",
       "</table>\n",
       "<table class=\"simpletable\">\n",
       "<caption>Volatility Model</caption>\n",
       "<tr>\n",
       "      <td></td>        <th>coef</th>     <th>std err</th>      <th>t</th>       <th>P>|t|</th>      <th>95.0% Conf. Int.</th>   \n",
       "</tr>\n",
       "<tr>\n",
       "  <th>omega</th>    <td>8.8896e-05</td> <td>3.517e-04</td> <td>    0.253</td> <td>    0.800</td> <td>[-6.004e-04,7.782e-04]</td>\n",
       "</tr>\n",
       "<tr>\n",
       "  <th>alpha[1]</th> <td>6.1209e-03</td> <td>6.774e-03</td> <td>    0.904</td> <td>    0.366</td> <td>[-7.156e-03,1.940e-02]</td>\n",
       "</tr>\n",
       "<tr>\n",
       "  <th>gamma[1]</th> <td>    0.0232</td> <td>5.937e-03</td> <td>    3.907</td> <td>9.338e-05</td>  <td>[1.156e-02,3.483e-02]</td>\n",
       "</tr>\n",
       "<tr>\n",
       "  <th>beta[1]</th>  <td>    0.9817</td> <td>6.105e-03</td> <td>  160.801</td>   <td>0.000</td>      <td>[  0.970,  0.994]</td>  \n",
       "</tr>\n",
       "</table><br/><br/>Covariance estimator: robust"
      ],
      "text/plain": [
       "<class 'statsmodels.iolib.summary.Summary'>\n",
       "\"\"\"\n",
       "                   Constant Mean - GJR-GARCH Model Results                    \n",
       "==============================================================================\n",
       "Dep. Variable:                DEXUSEU   R-squared:                      -0.000\n",
       "Mean Model:             Constant Mean   Adj. R-squared:                 -0.000\n",
       "Vol Model:                  GJR-GARCH   Log-Likelihood:               -1878.59\n",
       "Distribution:                  Normal   AIC:                           3767.18\n",
       "Method:            Maximum Likelihood   BIC:                           3796.31\n",
       "                                        No. Observations:                 2501\n",
       "Date:                Mon, Dec 07 2020   Df Residuals:                     2496\n",
       "Time:                        13:47:41   Df Model:                            5\n",
       "                                  Mean Model                                 \n",
       "=============================================================================\n",
       "                 coef    std err          t      P>|t|       95.0% Conf. Int.\n",
       "-----------------------------------------------------------------------------\n",
       "mu            -0.0122  9.172e-03     -1.331      0.183 [-3.018e-02,5.770e-03]\n",
       "                               Volatility Model                              \n",
       "=============================================================================\n",
       "                 coef    std err          t      P>|t|       95.0% Conf. Int.\n",
       "-----------------------------------------------------------------------------\n",
       "omega      8.8896e-05  3.517e-04      0.253      0.800 [-6.004e-04,7.782e-04]\n",
       "alpha[1]   6.1209e-03  6.774e-03      0.904      0.366 [-7.156e-03,1.940e-02]\n",
       "gamma[1]       0.0232  5.937e-03      3.907  9.338e-05  [1.156e-02,3.483e-02]\n",
       "beta[1]        0.9817  6.105e-03    160.801      0.000      [  0.970,  0.994]\n",
       "=============================================================================\n",
       "\n",
       "Covariance estimator: robust\n",
       "\"\"\""
      ]
     },
     "execution_count": 1,
     "metadata": {},
     "output_type": "execute_result"
    }
   ],
   "source": [
    "gjr_garch = arch_model(eurusd_ret, p=1, o=1, q=1)\n",
    "gjr_res_eurusd = gjr_garch.fit(disp=\"off\")\n",
    "gjr_res_eurusd.summary()\n",
    "\n"
   ]
  },
  {
   "cell_type": "markdown",
   "metadata": {},
   "source": [
    "### Exercise 75\n",
    "Comment on the asymmetry.\n",
    "\n",
    "  * Compare robust and non-robust standard errors.\n",
    "  * Plot the fit variance and fit volatility.\n",
    "  * Plot the standardized residuals.\n"
   ]
  },
  {
   "cell_type": "code",
   "execution_count": 8,
   "metadata": {
    "collapsed": false,
    "execution": {
     "iopub.execute_input": "2020-12-07T13:47:41.538169Z",
     "iopub.status.busy": "2020-12-07T13:47:41.537168Z",
     "iopub.status.idle": "2020-12-07T13:47:41.597171Z",
     "shell.execute_reply": "2020-12-07T13:47:41.598170Z"
    },
    "jupyter": {
     "outputs_hidden": false
    },
    "pycharm": {
     "is_executing": false,
     "name": "#%%\n"
    }
   },
   "outputs": [
    {
     "data": {
      "text/html": [
       "<table class=\"simpletable\">\n",
       "<caption>Constant Mean - GJR-GARCH Model Results</caption>\n",
       "<tr>\n",
       "  <th>Dep. Variable:</th>        <td>SP500</td>       <th>  R-squared:         </th>  <td>  -0.000</td> \n",
       "</tr>\n",
       "<tr>\n",
       "  <th>Mean Model:</th>       <td>Constant Mean</td>   <th>  Adj. R-squared:    </th>  <td>  -0.000</td> \n",
       "</tr>\n",
       "<tr>\n",
       "  <th>Vol Model:</th>          <td>GJR-GARCH</td>     <th>  Log-Likelihood:    </th> <td>  -2929.70</td>\n",
       "</tr>\n",
       "<tr>\n",
       "  <th>Distribution:</th>        <td>Normal</td>       <th>  AIC:               </th> <td>   5869.41</td>\n",
       "</tr>\n",
       "<tr>\n",
       "  <th>Method:</th>        <td>Maximum Likelihood</td> <th>  BIC:               </th> <td>   5898.55</td>\n",
       "</tr>\n",
       "<tr>\n",
       "  <th></th>                        <td></td>          <th>  No. Observations:  </th>    <td>2510</td>   \n",
       "</tr>\n",
       "<tr>\n",
       "  <th>Date:</th>           <td>Mon, Dec 07 2020</td>  <th>  Df Residuals:      </th>    <td>2505</td>   \n",
       "</tr>\n",
       "<tr>\n",
       "  <th>Time:</th>               <td>13:47:41</td>      <th>  Df Model:          </th>      <td>5</td>    \n",
       "</tr>\n",
       "</table>\n",
       "<table class=\"simpletable\">\n",
       "<caption>Mean Model</caption>\n",
       "<tr>\n",
       "   <td></td>     <th>coef</th>     <th>std err</th>      <th>t</th>       <th>P>|t|</th>     <th>95.0% Conf. Int.</th>   \n",
       "</tr>\n",
       "<tr>\n",
       "  <th>mu</th> <td>    0.0417</td> <td>1.358e-02</td> <td>    3.067</td> <td>2.163e-03</td> <td>[1.503e-02,6.828e-02]</td>\n",
       "</tr>\n",
       "</table>\n",
       "<table class=\"simpletable\">\n",
       "<caption>Volatility Model</caption>\n",
       "<tr>\n",
       "      <td></td>        <th>coef</th>     <th>std err</th>      <th>t</th>       <th>P>|t|</th>      <th>95.0% Conf. Int.</th>   \n",
       "</tr>\n",
       "<tr>\n",
       "  <th>omega</th>    <td>    0.0349</td> <td>4.262e-03</td> <td>    8.184</td> <td>2.749e-16</td>  <td>[2.653e-02,4.324e-02]</td>\n",
       "</tr>\n",
       "<tr>\n",
       "  <th>alpha[1]</th> <td>1.5545e-11</td> <td>1.750e-02</td> <td>8.882e-10</td> <td>    1.000</td> <td>[-3.430e-02,3.430e-02]</td>\n",
       "</tr>\n",
       "<tr>\n",
       "  <th>gamma[1]</th> <td>    0.2799</td> <td>3.051e-02</td> <td>    9.174</td> <td>4.541e-20</td>    <td>[  0.220,  0.340]</td>  \n",
       "</tr>\n",
       "<tr>\n",
       "  <th>beta[1]</th>  <td>    0.8176</td> <td>1.794e-02</td> <td>   45.568</td>   <td>0.000</td>      <td>[  0.782,  0.853]</td>  \n",
       "</tr>\n",
       "</table><br/><br/>Covariance estimator: classic"
      ],
      "text/plain": [
       "<class 'statsmodels.iolib.summary.Summary'>\n",
       "\"\"\"\n",
       "                   Constant Mean - GJR-GARCH Model Results                    \n",
       "==============================================================================\n",
       "Dep. Variable:                  SP500   R-squared:                      -0.000\n",
       "Mean Model:             Constant Mean   Adj. R-squared:                 -0.000\n",
       "Vol Model:                  GJR-GARCH   Log-Likelihood:               -2929.70\n",
       "Distribution:                  Normal   AIC:                           5869.41\n",
       "Method:            Maximum Likelihood   BIC:                           5898.55\n",
       "                                        No. Observations:                 2510\n",
       "Date:                Mon, Dec 07 2020   Df Residuals:                     2505\n",
       "Time:                        13:47:41   Df Model:                            5\n",
       "                                 Mean Model                                 \n",
       "============================================================================\n",
       "                 coef    std err          t      P>|t|      95.0% Conf. Int.\n",
       "----------------------------------------------------------------------------\n",
       "mu             0.0417  1.358e-02      3.067  2.163e-03 [1.503e-02,6.828e-02]\n",
       "                               Volatility Model                              \n",
       "=============================================================================\n",
       "                 coef    std err          t      P>|t|       95.0% Conf. Int.\n",
       "-----------------------------------------------------------------------------\n",
       "omega          0.0349  4.262e-03      8.184  2.749e-16  [2.653e-02,4.324e-02]\n",
       "alpha[1]   1.5545e-11  1.750e-02  8.882e-10      1.000 [-3.430e-02,3.430e-02]\n",
       "gamma[1]       0.2799  3.051e-02      9.174  4.541e-20      [  0.220,  0.340]\n",
       "beta[1]        0.8176  1.794e-02     45.568      0.000      [  0.782,  0.853]\n",
       "=============================================================================\n",
       "\n",
       "Covariance estimator: classic\n",
       "\"\"\""
      ]
     },
     "execution_count": 1,
     "metadata": {},
     "output_type": "execute_result"
    }
   ],
   "source": [
    "gjr_garch = arch_model(sp500_ret, p=1, o=1, q=1)\n",
    "gjr_res_sp500_non = gjr_garch.fit(cov_type=\"classic\", disp=\"off\")\n",
    "gjr_res_sp500_non.summary()"
   ]
  },
  {
   "cell_type": "markdown",
   "metadata": {
    "pycharm": {
     "name": "#%% md\n"
    }
   },
   "source": [
    "#### Explanation\n",
    "\n",
    "We can set `disp` to \"off\" to suppress output.  \n"
   ]
  },
  {
   "cell_type": "code",
   "execution_count": 9,
   "metadata": {
    "collapsed": false,
    "execution": {
     "iopub.execute_input": "2020-12-07T13:47:41.601171Z",
     "iopub.status.busy": "2020-12-07T13:47:41.601171Z",
     "iopub.status.idle": "2020-12-07T13:47:41.677171Z",
     "shell.execute_reply": "2020-12-07T13:47:41.678170Z"
    },
    "jupyter": {
     "outputs_hidden": false
    },
    "pycharm": {
     "is_executing": false,
     "name": "#%%\n"
    }
   },
   "outputs": [],
   "source": [
    "import matplotlib.pyplot as plt\n",
    "import seaborn as sns\n",
    "sns.set_style(\"darkgrid\")"
   ]
  },
  {
   "cell_type": "code",
   "execution_count": 10,
   "metadata": {
    "collapsed": false,
    "execution": {
     "iopub.execute_input": "2020-12-07T13:47:41.695170Z",
     "iopub.status.busy": "2020-12-07T13:47:41.691170Z",
     "iopub.status.idle": "2020-12-07T13:47:42.010168Z",
     "shell.execute_reply": "2020-12-07T13:47:42.009170Z"
    },
    "jupyter": {
     "outputs_hidden": false
    },
    "pycharm": {
     "name": "#%%\n"
    }
   },
   "outputs": [
    {
     "data": {
      "image/png": "[encoded data removed]",
      "text/plain": [
       "<Figure size 1152x432 with 2 Axes>"
      ]
     },
     "metadata": {},
     "output_type": "display_data"
    }
   ],
   "source": [
    "plt.rc(\"figure\",figsize=(16, 6))\n",
    "fig = gjr_res_sp500.plot(annualize=\"D\")"
   ]
  },
  {
   "cell_type": "markdown",
   "metadata": {
    "pycharm": {
     "name": "#%% md\n"
    }
   },
   "source": [
    "#### Explanation\n",
    "We can use the `plot` method on the result to plot the annualized volatility.\n",
    "The top panel contains the standardized residuals,\n",
    "\n",
    "$$ \\frac{\\left(r_t-\\hat{\\mu}\\right)}{\\hat{\\sigma}_t}. $$\n",
    "\n",
    "The bottom shows the conditional volatility."
   ]
  },
  {
   "cell_type": "code",
   "execution_count": 11,
   "metadata": {
    "collapsed": false,
    "execution": {
     "iopub.execute_input": "2020-12-07T13:47:42.013168Z",
     "iopub.status.busy": "2020-12-07T13:47:42.013168Z",
     "iopub.status.idle": "2020-12-07T13:47:42.230169Z",
     "shell.execute_reply": "2020-12-07T13:47:42.231168Z"
    },
    "jupyter": {
     "outputs_hidden": false
    },
    "pycharm": {
     "is_executing": false,
     "name": "#%%\n"
    }
   },
   "outputs": [
    {
     "data": {
      "image/png": "[encoded data removed]",
      "text/plain": [
       "<Figure size 1152x432 with 1 Axes>"
      ]
     },
     "metadata": {},
     "output_type": "display_data"
    }
   ],
   "source": [
    "plt.rc(\"figure\", figsize=(16,6))\n",
    "vol = gjr_res_sp500.conditional_volatility\n",
    "var = vol**2\n",
    "ax = var.plot()"
   ]
  },
  {
   "cell_type": "markdown",
   "metadata": {
    "pycharm": {
     "name": "#%% md\n"
    }
   },
   "source": [
    "#### Explanation\n",
    "\n",
    "The result contains the volatility which must be squared to get the conditional\n",
    "variance. "
   ]
  }
 ],
 "metadata": {
  "kernelspec": {
   "display_name": "Python 3",
   "language": "python",
   "name": "python3"
  },
  "language_info": {
   "codemirror_mode": {
    "name": "ipython",
    "version": 3
   },
   "file_extension": ".py",
   "mimetype": "text/x-python",
   "name": "python",
   "nbconvert_exporter": "python",
   "pygments_lexer": "ipython3",
   "version": "3.7.9"
  },
  "pycharm": {
   "stem_cell": {
    "cell_type": "raw",
    "metadata": {
     "collapsed": false
    },
    "source": []
   }
  }
 },
 "nbformat": 4,
 "nbformat_minor": 4
}
