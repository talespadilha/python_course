{
 "cells": [
  {
   "cell_type": "markdown",
   "metadata": {
    "pycharm": {
     "name": "#%% md\n"
    }
   },
   "source": [
    "## ARCH Model Estimation\n",
    "\n",
    "**Functions**\n",
    "\n",
    "`arch.arch_model`"
   ]
  },
  {
   "cell_type": "markdown",
   "metadata": {},
   "source": [
    "### Exercise 74\n",
    "\n",
    "Estimate a GARCH(1,1) and a GJR-GARCH(1,1,1) to the returns of both series.\n",
    "\n",
    "**Note**: You need to install arch using\n",
    "\n",
    "```bash\n",
    "pip install arch\n",
    "```\n",
    "\n",
    "which contains ARCH and related models.\n",
    "\n",
    "Documentation and examples for the arch package [are available online](https://bashtage.github.io/arch)."
   ]
  },
  {
   "cell_type": "markdown",
   "metadata": {},
   "source": [
    "We have already installed the **arch** package last class. If you haven't done so yet, check HT05 Class. \n",
    "\n",
    "Lets start by downloading the data."
   ]
  },
  {
   "cell_type": "code",
   "execution_count": 1,
   "metadata": {
    "collapsed": false,
    "jupyter": {
     "outputs_hidden": false
    },
    "pycharm": {
     "is_executing": false,
     "name": "#%%\n"
    }
   },
   "outputs": [],
   "source": [
    "import pandas as pd\n",
    "import pandas_datareader as pdr\n",
    "import os"
   ]
  },
  {
   "cell_type": "markdown",
   "metadata": {},
   "source": [
    "We can use pandas-datareader to download the data from FRED.  The data is then stored to HDF for use later.  The `if` statement checks if the HDF file already exists, and if found, skips downloading the data."
   ]
  },
  {
   "cell_type": "code",
   "execution_count": 2,
   "metadata": {
    "collapsed": false,
    "jupyter": {
     "outputs_hidden": false
    },
    "pycharm": {
     "is_executing": false,
     "name": "#%%\n"
    }
   },
   "outputs": [],
   "source": [
    "if not os.path.exists(\"./data/arch-data.h5\"):\n",
    "    sp500 = pdr.get_data_fred(\"SP500\", start=\"2010-1-1\", end=\"2020-1-1\").dropna()\n",
    "    eurusd = pdr.get_data_fred(\"DEXUSEU\", start=\"2010-1-1\", end=\"2020-1-1\").dropna()\n",
    "    \n",
    "    with pd.HDFStore(\"./data/arch-data.h5\", mode=\"w\") as store:\n",
    "        store.put(\"sp500\", sp500)\n",
    "        store.put(\"eurusd\", eurusd)"
   ]
  },
  {
   "cell_type": "markdown",
   "metadata": {},
   "source": [
    "If the data has already been downloaded, we can load the data."
   ]
  },
  {
   "cell_type": "code",
   "execution_count": 3,
   "metadata": {},
   "outputs": [],
   "source": [
    "sp500 = pd.read_hdf(\"./data/arch-data.h5\", \"sp500\")        \n",
    "eurusd = pd.read_hdf(\"./data/arch-data.h5\", \"eurusd\")"
   ]
  },
  {
   "cell_type": "markdown",
   "metadata": {},
   "source": [
    "### Estimating ARCH Models"
   ]
  },
  {
   "cell_type": "markdown",
   "metadata": {},
   "source": [
    "We will be using the `arch_model` class from the **arch** package to estimate ARCH/GARCH models. Intro and documentation can be found at: [arch_model Doc](https://arch.readthedocs.io/en/latest/univariate/introduction.html).\n",
    "\n",
    "Let's start by loading `arch_model`:"
   ]
  },
  {
   "cell_type": "code",
   "execution_count": 4,
   "metadata": {},
   "outputs": [],
   "source": [
    "from arch import arch_model"
   ]
  },
  {
   "cell_type": "markdown",
   "metadata": {},
   "source": [
    "`arch_model` requires the series to be '**nan**' free. So lets calculate percentage changes and ger rid of **nan**s:"
   ]
  },
  {
   "cell_type": "code",
   "execution_count": 5,
   "metadata": {
    "collapsed": false,
    "jupyter": {
     "outputs_hidden": false
    },
    "pycharm": {
     "is_executing": false,
     "name": "#%%\n"
    }
   },
   "outputs": [],
   "source": [
    "sp500_ret = 100 * sp500.pct_change().dropna()\n",
    "eurusd_ret = 100 * eurusd.pct_change().dropna()"
   ]
  },
  {
   "cell_type": "markdown",
   "metadata": {},
   "source": [
    "Estimating the default model. From the documentation, we know that this is a GARCH(1,1)."
   ]
  },
  {
   "cell_type": "code",
   "execution_count": 6,
   "metadata": {
    "collapsed": false,
    "jupyter": {
     "outputs_hidden": false
    },
    "pycharm": {
     "is_executing": false,
     "name": "#%%\n"
    }
   },
   "outputs": [
    {
     "name": "stdout",
     "output_type": "stream",
     "text": [
      "Iteration:      1,   Func. Count:      6,   Neg. LLF: 54834198093665.234\n",
      "Iteration:      2,   Func. Count:     15,   Neg. LLF: 1272260093.0448472\n",
      "Iteration:      3,   Func. Count:     22,   Neg. LLF: 2785.1705796656997\n",
      "Iteration:      4,   Func. Count:     28,   Neg. LLF: 2707.711893449704\n",
      "Iteration:      5,   Func. Count:     34,   Neg. LLF: 2824.6343112692343\n",
      "Iteration:      6,   Func. Count:     40,   Neg. LLF: 2630.2501036383983\n",
      "Iteration:      7,   Func. Count:     46,   Neg. LLF: 2759.416174767568\n",
      "Iteration:      8,   Func. Count:     52,   Neg. LLF: 2619.184446391611\n",
      "Iteration:      9,   Func. Count:     57,   Neg. LLF: 2619.0283081117614\n",
      "Iteration:     10,   Func. Count:     62,   Neg. LLF: 2619.01272549734\n",
      "Iteration:     11,   Func. Count:     67,   Neg. LLF: 2618.99869999888\n",
      "Iteration:     12,   Func. Count:     72,   Neg. LLF: 2618.99850942984\n",
      "Iteration:     13,   Func. Count:     77,   Neg. LLF: 2618.9985064485863\n",
      "Iteration:     14,   Func. Count:     81,   Neg. LLF: 2618.998506448517\n",
      "Optimization terminated successfully    (Exit mode 0)\n",
      "            Current function value: 2618.9985064485863\n",
      "            Iterations: 14\n",
      "            Function evaluations: 81\n",
      "            Gradient evaluations: 14\n"
     ]
    },
    {
     "data": {
      "text/html": [
       "<table class=\"simpletable\">\n",
       "<caption>Constant Mean - GARCH Model Results</caption>\n",
       "<tr>\n",
       "  <th>Dep. Variable:</th>        <td>SP500</td>       <th>  R-squared:         </th>  <td>  -0.001</td> \n",
       "</tr>\n",
       "<tr>\n",
       "  <th>Mean Model:</th>       <td>Constant Mean</td>   <th>  Adj. R-squared:    </th>  <td>  -0.001</td> \n",
       "</tr>\n",
       "<tr>\n",
       "  <th>Vol Model:</th>            <td>GARCH</td>       <th>  Log-Likelihood:    </th> <td>  -2619.00</td>\n",
       "</tr>\n",
       "<tr>\n",
       "  <th>Distribution:</th>        <td>Normal</td>       <th>  AIC:               </th> <td>   5246.00</td>\n",
       "</tr>\n",
       "<tr>\n",
       "  <th>Method:</th>        <td>Maximum Likelihood</td> <th>  BIC:               </th> <td>   5268.87</td>\n",
       "</tr>\n",
       "<tr>\n",
       "  <th></th>                        <td></td>          <th>  No. Observations:  </th>    <td>2251</td>   \n",
       "</tr>\n",
       "<tr>\n",
       "  <th>Date:</th>           <td>Wed, Feb 03 2021</td>  <th>  Df Residuals:      </th>    <td>2247</td>   \n",
       "</tr>\n",
       "<tr>\n",
       "  <th>Time:</th>               <td>19:39:50</td>      <th>  Df Model:          </th>      <td>4</td>    \n",
       "</tr>\n",
       "</table>\n",
       "<table class=\"simpletable\">\n",
       "<caption>Mean Model</caption>\n",
       "<tr>\n",
       "   <td></td>     <th>coef</th>     <th>std err</th>      <th>t</th>       <th>P>|t|</th>    <th>95.0% Conf. Int.</th>  \n",
       "</tr>\n",
       "<tr>\n",
       "  <th>mu</th> <td>    0.0780</td> <td>1.440e-02</td> <td>    5.419</td> <td>5.978e-08</td> <td>[4.981e-02,  0.106]</td>\n",
       "</tr>\n",
       "</table>\n",
       "<table class=\"simpletable\">\n",
       "<caption>Volatility Model</caption>\n",
       "<tr>\n",
       "      <td></td>        <th>coef</th>     <th>std err</th>      <th>t</th>        <th>P>|t|</th>     <th>95.0% Conf. Int.</th>   \n",
       "</tr>\n",
       "<tr>\n",
       "  <th>omega</th>    <td>    0.0416</td> <td>9.331e-03</td> <td>    4.459</td>  <td>8.239e-06</td> <td>[2.332e-02,5.990e-02]</td>\n",
       "</tr>\n",
       "<tr>\n",
       "  <th>alpha[1]</th> <td>    0.1870</td> <td>2.862e-02</td> <td>    6.536</td>  <td>6.333e-11</td>   <td>[  0.131,  0.243]</td>  \n",
       "</tr>\n",
       "<tr>\n",
       "  <th>beta[1]</th>  <td>    0.7647</td> <td>2.779e-02</td> <td>   27.521</td> <td>9.872e-167</td>   <td>[  0.710,  0.819]</td>  \n",
       "</tr>\n",
       "</table><br/><br/>Covariance estimator: robust"
      ],
      "text/plain": [
       "<class 'statsmodels.iolib.summary.Summary'>\n",
       "\"\"\"\n",
       "                     Constant Mean - GARCH Model Results                      \n",
       "==============================================================================\n",
       "Dep. Variable:                  SP500   R-squared:                      -0.001\n",
       "Mean Model:             Constant Mean   Adj. R-squared:                 -0.001\n",
       "Vol Model:                      GARCH   Log-Likelihood:               -2619.00\n",
       "Distribution:                  Normal   AIC:                           5246.00\n",
       "Method:            Maximum Likelihood   BIC:                           5268.87\n",
       "                                        No. Observations:                 2251\n",
       "Date:                Wed, Feb 03 2021   Df Residuals:                     2247\n",
       "Time:                        19:39:50   Df Model:                            4\n",
       "                                Mean Model                                \n",
       "==========================================================================\n",
       "                 coef    std err          t      P>|t|    95.0% Conf. Int.\n",
       "--------------------------------------------------------------------------\n",
       "mu             0.0780  1.440e-02      5.419  5.978e-08 [4.981e-02,  0.106]\n",
       "                              Volatility Model                              \n",
       "============================================================================\n",
       "                 coef    std err          t      P>|t|      95.0% Conf. Int.\n",
       "----------------------------------------------------------------------------\n",
       "omega          0.0416  9.331e-03      4.459  8.239e-06 [2.332e-02,5.990e-02]\n",
       "alpha[1]       0.1870  2.862e-02      6.536  6.333e-11     [  0.131,  0.243]\n",
       "beta[1]        0.7647  2.779e-02     27.521 9.872e-167     [  0.710,  0.819]\n",
       "============================================================================\n",
       "\n",
       "Covariance estimator: robust\n",
       "\"\"\""
      ]
     },
     "execution_count": 6,
     "metadata": {},
     "output_type": "execute_result"
    }
   ],
   "source": [
    "# Defining the model instance\n",
    "garch = arch_model(sp500_ret)\n",
    "# Estimating the coefficients with the fit method\n",
    "res_sp500 = garch.fit()\n",
    "# Displaying the results\n",
    "res_sp500.summary()"
   ]
  },
  {
   "cell_type": "markdown",
   "metadata": {
    "pycharm": {
     "name": "#%% md\n"
    }
   },
   "source": [
    "One can notice is the same pattern as in **statsmodels**."
   ]
  },
  {
   "cell_type": "markdown",
   "metadata": {},
   "source": [
    "Now let's estimate a GJR-GARCH(1,1,1) for the **sp500_ret**:"
   ]
  },
  {
   "cell_type": "code",
   "execution_count": 7,
   "metadata": {
    "collapsed": false,
    "jupyter": {
     "outputs_hidden": false
    },
    "pycharm": {
     "is_executing": false,
     "name": "#%%\n"
    }
   },
   "outputs": [
    {
     "data": {
      "text/html": [
       "<table class=\"simpletable\">\n",
       "<caption>Constant Mean - GJR-GARCH Model Results</caption>\n",
       "<tr>\n",
       "  <th>Dep. Variable:</th>        <td>SP500</td>       <th>  R-squared:         </th>  <td>  -0.000</td> \n",
       "</tr>\n",
       "<tr>\n",
       "  <th>Mean Model:</th>       <td>Constant Mean</td>   <th>  Adj. R-squared:    </th>  <td>  -0.000</td> \n",
       "</tr>\n",
       "<tr>\n",
       "  <th>Vol Model:</th>          <td>GJR-GARCH</td>     <th>  Log-Likelihood:    </th> <td>  -2557.36</td>\n",
       "</tr>\n",
       "<tr>\n",
       "  <th>Distribution:</th>        <td>Normal</td>       <th>  AIC:               </th> <td>   5124.72</td>\n",
       "</tr>\n",
       "<tr>\n",
       "  <th>Method:</th>        <td>Maximum Likelihood</td> <th>  BIC:               </th> <td>   5153.31</td>\n",
       "</tr>\n",
       "<tr>\n",
       "  <th></th>                        <td></td>          <th>  No. Observations:  </th>    <td>2251</td>   \n",
       "</tr>\n",
       "<tr>\n",
       "  <th>Date:</th>           <td>Wed, Feb 03 2021</td>  <th>  Df Residuals:      </th>    <td>2246</td>   \n",
       "</tr>\n",
       "<tr>\n",
       "  <th>Time:</th>               <td>19:40:03</td>      <th>  Df Model:          </th>      <td>5</td>    \n",
       "</tr>\n",
       "</table>\n",
       "<table class=\"simpletable\">\n",
       "<caption>Mean Model</caption>\n",
       "<tr>\n",
       "   <td></td>     <th>coef</th>     <th>std err</th>      <th>t</th>       <th>P>|t|</th>     <th>95.0% Conf. Int.</th>   \n",
       "</tr>\n",
       "<tr>\n",
       "  <th>mu</th> <td>    0.0379</td> <td>1.383e-02</td> <td>    2.739</td> <td>6.158e-03</td> <td>[1.078e-02,6.499e-02]</td>\n",
       "</tr>\n",
       "</table>\n",
       "<table class=\"simpletable\">\n",
       "<caption>Volatility Model</caption>\n",
       "<tr>\n",
       "      <td></td>        <th>coef</th>     <th>std err</th>      <th>t</th>        <th>P>|t|</th>      <th>95.0% Conf. Int.</th>   \n",
       "</tr>\n",
       "<tr>\n",
       "  <th>omega</th>    <td>    0.0360</td> <td>6.392e-03</td> <td>    5.638</td>  <td>1.719e-08</td>  <td>[2.351e-02,4.857e-02]</td>\n",
       "</tr>\n",
       "<tr>\n",
       "  <th>alpha[1]</th>   <td>0.0000</td>   <td>3.584e-02</td>   <td>0.000</td>    <td>    1.000</td> <td>[-7.025e-02,7.025e-02]</td>\n",
       "</tr>\n",
       "<tr>\n",
       "  <th>gamma[1]</th> <td>    0.3014</td> <td>4.487e-02</td> <td>    6.718</td>  <td>1.843e-11</td>    <td>[  0.213,  0.389]</td>  \n",
       "</tr>\n",
       "<tr>\n",
       "  <th>beta[1]</th>  <td>    0.8041</td> <td>2.932e-02</td> <td>   27.424</td> <td>1.434e-165</td>    <td>[  0.747,  0.862]</td>  \n",
       "</tr>\n",
       "</table><br/><br/>Covariance estimator: robust"
      ],
      "text/plain": [
       "<class 'statsmodels.iolib.summary.Summary'>\n",
       "\"\"\"\n",
       "                   Constant Mean - GJR-GARCH Model Results                    \n",
       "==============================================================================\n",
       "Dep. Variable:                  SP500   R-squared:                      -0.000\n",
       "Mean Model:             Constant Mean   Adj. R-squared:                 -0.000\n",
       "Vol Model:                  GJR-GARCH   Log-Likelihood:               -2557.36\n",
       "Distribution:                  Normal   AIC:                           5124.72\n",
       "Method:            Maximum Likelihood   BIC:                           5153.31\n",
       "                                        No. Observations:                 2251\n",
       "Date:                Wed, Feb 03 2021   Df Residuals:                     2246\n",
       "Time:                        19:40:03   Df Model:                            5\n",
       "                                 Mean Model                                 \n",
       "============================================================================\n",
       "                 coef    std err          t      P>|t|      95.0% Conf. Int.\n",
       "----------------------------------------------------------------------------\n",
       "mu             0.0379  1.383e-02      2.739  6.158e-03 [1.078e-02,6.499e-02]\n",
       "                               Volatility Model                              \n",
       "=============================================================================\n",
       "                 coef    std err          t      P>|t|       95.0% Conf. Int.\n",
       "-----------------------------------------------------------------------------\n",
       "omega          0.0360  6.392e-03      5.638  1.719e-08  [2.351e-02,4.857e-02]\n",
       "alpha[1]       0.0000  3.584e-02      0.000      1.000 [-7.025e-02,7.025e-02]\n",
       "gamma[1]       0.3014  4.487e-02      6.718  1.843e-11      [  0.213,  0.389]\n",
       "beta[1]        0.8041  2.932e-02     27.424 1.434e-165      [  0.747,  0.862]\n",
       "=============================================================================\n",
       "\n",
       "Covariance estimator: robust\n",
       "\"\"\""
      ]
     },
     "execution_count": 7,
     "metadata": {},
     "output_type": "execute_result"
    }
   ],
   "source": [
    "# Estimating a GJR-GARCH(1,1,1)\n",
    "gjr_garch = arch_model(sp500_ret, p=1, o=1, q=1)\n",
    "gjr_res_sp500 = gjr_garch.fit(disp=\"off\")\n",
    "gjr_res_sp500.summary()"
   ]
  },
  {
   "cell_type": "markdown",
   "metadata": {
    "pycharm": {
     "name": "#%% md\n"
    }
   },
   "source": [
    "A GJR-GARCH sets the parameter **o** to 1.  We set **p** and **q** for clarity. The default values for these two parameters is already 1. "
   ]
  },
  {
   "cell_type": "markdown",
   "metadata": {},
   "source": [
    "Now we turn to the estimation of the same models but for the **eurusd_ret** series:"
   ]
  },
  {
   "cell_type": "code",
   "execution_count": 8,
   "metadata": {
    "collapsed": false,
    "jupyter": {
     "outputs_hidden": false
    },
    "pycharm": {
     "is_executing": false,
     "name": "#%%\n"
    }
   },
   "outputs": [
    {
     "data": {
      "text/html": [
       "<table class=\"simpletable\">\n",
       "<caption>Constant Mean - GARCH Model Results</caption>\n",
       "<tr>\n",
       "  <th>Dep. Variable:</th>       <td>DEXUSEU</td>      <th>  R-squared:         </th>  <td>  -0.000</td> \n",
       "</tr>\n",
       "<tr>\n",
       "  <th>Mean Model:</th>       <td>Constant Mean</td>   <th>  Adj. R-squared:    </th>  <td>  -0.000</td> \n",
       "</tr>\n",
       "<tr>\n",
       "  <th>Vol Model:</th>            <td>GARCH</td>       <th>  Log-Likelihood:    </th> <td>  -1886.42</td>\n",
       "</tr>\n",
       "<tr>\n",
       "  <th>Distribution:</th>        <td>Normal</td>       <th>  AIC:               </th> <td>   3780.84</td>\n",
       "</tr>\n",
       "<tr>\n",
       "  <th>Method:</th>        <td>Maximum Likelihood</td> <th>  BIC:               </th> <td>   3804.14</td>\n",
       "</tr>\n",
       "<tr>\n",
       "  <th></th>                        <td></td>          <th>  No. Observations:  </th>    <td>2501</td>   \n",
       "</tr>\n",
       "<tr>\n",
       "  <th>Date:</th>           <td>Wed, Feb 03 2021</td>  <th>  Df Residuals:      </th>    <td>2497</td>   \n",
       "</tr>\n",
       "<tr>\n",
       "  <th>Time:</th>               <td>19:40:13</td>      <th>  Df Model:          </th>      <td>4</td>    \n",
       "</tr>\n",
       "</table>\n",
       "<table class=\"simpletable\">\n",
       "<caption>Mean Model</caption>\n",
       "<tr>\n",
       "   <td></td>     <th>coef</th>      <th>std err</th>      <th>t</th>       <th>P>|t|</th>      <th>95.0% Conf. Int.</th>   \n",
       "</tr>\n",
       "<tr>\n",
       "  <th>mu</th> <td>-7.6712e-03</td> <td>9.141e-03</td> <td>   -0.839</td> <td>    0.401</td> <td>[-2.559e-02,1.024e-02]</td>\n",
       "</tr>\n",
       "</table>\n",
       "<table class=\"simpletable\">\n",
       "<caption>Volatility Model</caption>\n",
       "<tr>\n",
       "      <td></td>        <th>coef</th>     <th>std err</th>      <th>t</th>       <th>P>|t|</th>      <th>95.0% Conf. Int.</th>   \n",
       "</tr>\n",
       "<tr>\n",
       "  <th>omega</th>    <td>6.3182e-04</td> <td>6.328e-04</td> <td>    0.998</td> <td>    0.318</td> <td>[-6.085e-04,1.872e-03]</td>\n",
       "</tr>\n",
       "<tr>\n",
       "  <th>alpha[1]</th> <td>    0.0272</td> <td>6.165e-03</td> <td>    4.413</td> <td>1.020e-05</td>  <td>[1.512e-02,3.929e-02]</td>\n",
       "</tr>\n",
       "<tr>\n",
       "  <th>beta[1]</th>  <td>    0.9705</td> <td>6.731e-03</td> <td>  144.185</td>   <td>0.000</td>      <td>[  0.957,  0.984]</td>  \n",
       "</tr>\n",
       "</table><br/><br/>Covariance estimator: robust"
      ],
      "text/plain": [
       "<class 'statsmodels.iolib.summary.Summary'>\n",
       "\"\"\"\n",
       "                     Constant Mean - GARCH Model Results                      \n",
       "==============================================================================\n",
       "Dep. Variable:                DEXUSEU   R-squared:                      -0.000\n",
       "Mean Model:             Constant Mean   Adj. R-squared:                 -0.000\n",
       "Vol Model:                      GARCH   Log-Likelihood:               -1886.42\n",
       "Distribution:                  Normal   AIC:                           3780.84\n",
       "Method:            Maximum Likelihood   BIC:                           3804.14\n",
       "                                        No. Observations:                 2501\n",
       "Date:                Wed, Feb 03 2021   Df Residuals:                     2497\n",
       "Time:                        19:40:13   Df Model:                            4\n",
       "                                  Mean Model                                  \n",
       "==============================================================================\n",
       "                  coef    std err          t      P>|t|       95.0% Conf. Int.\n",
       "------------------------------------------------------------------------------\n",
       "mu         -7.6712e-03  9.141e-03     -0.839      0.401 [-2.559e-02,1.024e-02]\n",
       "                               Volatility Model                              \n",
       "=============================================================================\n",
       "                 coef    std err          t      P>|t|       95.0% Conf. Int.\n",
       "-----------------------------------------------------------------------------\n",
       "omega      6.3182e-04  6.328e-04      0.998      0.318 [-6.085e-04,1.872e-03]\n",
       "alpha[1]       0.0272  6.165e-03      4.413  1.020e-05  [1.512e-02,3.929e-02]\n",
       "beta[1]        0.9705  6.731e-03    144.185      0.000      [  0.957,  0.984]\n",
       "=============================================================================\n",
       "\n",
       "Covariance estimator: robust\n",
       "\"\"\""
      ]
     },
     "execution_count": 8,
     "metadata": {},
     "output_type": "execute_result"
    }
   ],
   "source": [
    "# Estimating a GARCH(1,1)\n",
    "garch = arch_model(eurusd_ret)\n",
    "res_eurusd = garch.fit(disp=\"off\")\n",
    "res_eurusd.summary()"
   ]
  },
  {
   "cell_type": "code",
   "execution_count": 9,
   "metadata": {
    "collapsed": false,
    "jupyter": {
     "outputs_hidden": false
    },
    "pycharm": {
     "is_executing": false,
     "name": "#%%\n"
    }
   },
   "outputs": [
    {
     "data": {
      "text/html": [
       "<table class=\"simpletable\">\n",
       "<caption>Constant Mean - GJR-GARCH Model Results</caption>\n",
       "<tr>\n",
       "  <th>Dep. Variable:</th>       <td>DEXUSEU</td>      <th>  R-squared:         </th>  <td>  -0.000</td> \n",
       "</tr>\n",
       "<tr>\n",
       "  <th>Mean Model:</th>       <td>Constant Mean</td>   <th>  Adj. R-squared:    </th>  <td>  -0.000</td> \n",
       "</tr>\n",
       "<tr>\n",
       "  <th>Vol Model:</th>          <td>GJR-GARCH</td>     <th>  Log-Likelihood:    </th> <td>  -1878.59</td>\n",
       "</tr>\n",
       "<tr>\n",
       "  <th>Distribution:</th>        <td>Normal</td>       <th>  AIC:               </th> <td>   3767.18</td>\n",
       "</tr>\n",
       "<tr>\n",
       "  <th>Method:</th>        <td>Maximum Likelihood</td> <th>  BIC:               </th> <td>   3796.31</td>\n",
       "</tr>\n",
       "<tr>\n",
       "  <th></th>                        <td></td>          <th>  No. Observations:  </th>    <td>2501</td>   \n",
       "</tr>\n",
       "<tr>\n",
       "  <th>Date:</th>           <td>Wed, Feb 03 2021</td>  <th>  Df Residuals:      </th>    <td>2496</td>   \n",
       "</tr>\n",
       "<tr>\n",
       "  <th>Time:</th>               <td>19:40:15</td>      <th>  Df Model:          </th>      <td>5</td>    \n",
       "</tr>\n",
       "</table>\n",
       "<table class=\"simpletable\">\n",
       "<caption>Mean Model</caption>\n",
       "<tr>\n",
       "   <td></td>     <th>coef</th>     <th>std err</th>      <th>t</th>       <th>P>|t|</th>      <th>95.0% Conf. Int.</th>   \n",
       "</tr>\n",
       "<tr>\n",
       "  <th>mu</th> <td>   -0.0122</td> <td>9.172e-03</td> <td>   -1.331</td> <td>    0.183</td> <td>[-3.018e-02,5.770e-03]</td>\n",
       "</tr>\n",
       "</table>\n",
       "<table class=\"simpletable\">\n",
       "<caption>Volatility Model</caption>\n",
       "<tr>\n",
       "      <td></td>        <th>coef</th>     <th>std err</th>      <th>t</th>       <th>P>|t|</th>      <th>95.0% Conf. Int.</th>   \n",
       "</tr>\n",
       "<tr>\n",
       "  <th>omega</th>    <td>8.8823e-05</td> <td>3.517e-04</td> <td>    0.253</td> <td>    0.801</td> <td>[-6.004e-04,7.781e-04]</td>\n",
       "</tr>\n",
       "<tr>\n",
       "  <th>alpha[1]</th> <td>6.1189e-03</td> <td>6.773e-03</td> <td>    0.903</td> <td>    0.366</td> <td>[-7.157e-03,1.939e-02]</td>\n",
       "</tr>\n",
       "<tr>\n",
       "  <th>gamma[1]</th> <td>    0.0232</td> <td>5.937e-03</td> <td>    3.908</td> <td>9.308e-05</td>  <td>[1.156e-02,3.483e-02]</td>\n",
       "</tr>\n",
       "<tr>\n",
       "  <th>beta[1]</th>  <td>    0.9817</td> <td>6.105e-03</td> <td>  160.809</td>   <td>0.000</td>      <td>[  0.970,  0.994]</td>  \n",
       "</tr>\n",
       "</table><br/><br/>Covariance estimator: robust"
      ],
      "text/plain": [
       "<class 'statsmodels.iolib.summary.Summary'>\n",
       "\"\"\"\n",
       "                   Constant Mean - GJR-GARCH Model Results                    \n",
       "==============================================================================\n",
       "Dep. Variable:                DEXUSEU   R-squared:                      -0.000\n",
       "Mean Model:             Constant Mean   Adj. R-squared:                 -0.000\n",
       "Vol Model:                  GJR-GARCH   Log-Likelihood:               -1878.59\n",
       "Distribution:                  Normal   AIC:                           3767.18\n",
       "Method:            Maximum Likelihood   BIC:                           3796.31\n",
       "                                        No. Observations:                 2501\n",
       "Date:                Wed, Feb 03 2021   Df Residuals:                     2496\n",
       "Time:                        19:40:15   Df Model:                            5\n",
       "                                  Mean Model                                 \n",
       "=============================================================================\n",
       "                 coef    std err          t      P>|t|       95.0% Conf. Int.\n",
       "-----------------------------------------------------------------------------\n",
       "mu            -0.0122  9.172e-03     -1.331      0.183 [-3.018e-02,5.770e-03]\n",
       "                               Volatility Model                              \n",
       "=============================================================================\n",
       "                 coef    std err          t      P>|t|       95.0% Conf. Int.\n",
       "-----------------------------------------------------------------------------\n",
       "omega      8.8823e-05  3.517e-04      0.253      0.801 [-6.004e-04,7.781e-04]\n",
       "alpha[1]   6.1189e-03  6.773e-03      0.903      0.366 [-7.157e-03,1.939e-02]\n",
       "gamma[1]       0.0232  5.937e-03      3.908  9.308e-05  [1.156e-02,3.483e-02]\n",
       "beta[1]        0.9817  6.105e-03    160.809      0.000      [  0.970,  0.994]\n",
       "=============================================================================\n",
       "\n",
       "Covariance estimator: robust\n",
       "\"\"\""
      ]
     },
     "execution_count": 9,
     "metadata": {},
     "output_type": "execute_result"
    }
   ],
   "source": [
    "# Estimating a GJR-GARCH(1,1,1)\n",
    "gjr_garch = arch_model(eurusd_ret, p=1, o=1, q=1)\n",
    "gjr_res_eurusd = gjr_garch.fit(disp=\"off\")\n",
    "gjr_res_eurusd.summary()"
   ]
  },
  {
   "cell_type": "markdown",
   "metadata": {},
   "source": [
    "### Exercise 75\n",
    "Comment on the asymmetry.\n",
    "\n",
    "  * Compare robust and non-robust standard errors.\n",
    "  * Plot the fit variance and fit volatility.\n",
    "  * Plot the standardized residuals.\n"
   ]
  },
  {
   "cell_type": "markdown",
   "metadata": {},
   "source": [
    "We are now asked to comment on the asymmetry of these return distributions. In order to do so, the first step is to compare the robust with the non-robust parameter covariance matrices. Because BIC selected the GJR-GARCH(1,1,1) model in both cases, we will use this model."
   ]
  },
  {
   "cell_type": "code",
   "execution_count": 10,
   "metadata": {
    "collapsed": false,
    "jupyter": {
     "outputs_hidden": false
    },
    "pycharm": {
     "is_executing": false,
     "name": "#%%\n"
    }
   },
   "outputs": [
    {
     "data": {
      "text/html": [
       "<table class=\"simpletable\">\n",
       "<caption>Constant Mean - GJR-GARCH Model Results</caption>\n",
       "<tr>\n",
       "  <th>Dep. Variable:</th>        <td>SP500</td>       <th>  R-squared:         </th>  <td>  -0.000</td> \n",
       "</tr>\n",
       "<tr>\n",
       "  <th>Mean Model:</th>       <td>Constant Mean</td>   <th>  Adj. R-squared:    </th>  <td>  -0.000</td> \n",
       "</tr>\n",
       "<tr>\n",
       "  <th>Vol Model:</th>          <td>GJR-GARCH</td>     <th>  Log-Likelihood:    </th> <td>  -2557.36</td>\n",
       "</tr>\n",
       "<tr>\n",
       "  <th>Distribution:</th>        <td>Normal</td>       <th>  AIC:               </th> <td>   5124.72</td>\n",
       "</tr>\n",
       "<tr>\n",
       "  <th>Method:</th>        <td>Maximum Likelihood</td> <th>  BIC:               </th> <td>   5153.31</td>\n",
       "</tr>\n",
       "<tr>\n",
       "  <th></th>                        <td></td>          <th>  No. Observations:  </th>    <td>2251</td>   \n",
       "</tr>\n",
       "<tr>\n",
       "  <th>Date:</th>           <td>Wed, Feb 03 2021</td>  <th>  Df Residuals:      </th>    <td>2246</td>   \n",
       "</tr>\n",
       "<tr>\n",
       "  <th>Time:</th>               <td>19:40:17</td>      <th>  Df Model:          </th>      <td>5</td>    \n",
       "</tr>\n",
       "</table>\n",
       "<table class=\"simpletable\">\n",
       "<caption>Mean Model</caption>\n",
       "<tr>\n",
       "   <td></td>     <th>coef</th>     <th>std err</th>      <th>t</th>       <th>P>|t|</th>     <th>95.0% Conf. Int.</th>   \n",
       "</tr>\n",
       "<tr>\n",
       "  <th>mu</th> <td>    0.0379</td> <td>1.383e-02</td> <td>    2.739</td> <td>6.158e-03</td> <td>[1.078e-02,6.499e-02]</td>\n",
       "</tr>\n",
       "</table>\n",
       "<table class=\"simpletable\">\n",
       "<caption>Volatility Model</caption>\n",
       "<tr>\n",
       "      <td></td>        <th>coef</th>     <th>std err</th>      <th>t</th>        <th>P>|t|</th>      <th>95.0% Conf. Int.</th>   \n",
       "</tr>\n",
       "<tr>\n",
       "  <th>omega</th>    <td>    0.0360</td> <td>6.392e-03</td> <td>    5.638</td>  <td>1.719e-08</td>  <td>[2.351e-02,4.857e-02]</td>\n",
       "</tr>\n",
       "<tr>\n",
       "  <th>alpha[1]</th>   <td>0.0000</td>   <td>3.584e-02</td>   <td>0.000</td>    <td>    1.000</td> <td>[-7.025e-02,7.025e-02]</td>\n",
       "</tr>\n",
       "<tr>\n",
       "  <th>gamma[1]</th> <td>    0.3014</td> <td>4.487e-02</td> <td>    6.718</td>  <td>1.843e-11</td>    <td>[  0.213,  0.389]</td>  \n",
       "</tr>\n",
       "<tr>\n",
       "  <th>beta[1]</th>  <td>    0.8041</td> <td>2.932e-02</td> <td>   27.424</td> <td>1.434e-165</td>    <td>[  0.747,  0.862]</td>  \n",
       "</tr>\n",
       "</table><br/><br/>Covariance estimator: robust"
      ],
      "text/plain": [
       "<class 'statsmodels.iolib.summary.Summary'>\n",
       "\"\"\"\n",
       "                   Constant Mean - GJR-GARCH Model Results                    \n",
       "==============================================================================\n",
       "Dep. Variable:                  SP500   R-squared:                      -0.000\n",
       "Mean Model:             Constant Mean   Adj. R-squared:                 -0.000\n",
       "Vol Model:                  GJR-GARCH   Log-Likelihood:               -2557.36\n",
       "Distribution:                  Normal   AIC:                           5124.72\n",
       "Method:            Maximum Likelihood   BIC:                           5153.31\n",
       "                                        No. Observations:                 2251\n",
       "Date:                Wed, Feb 03 2021   Df Residuals:                     2246\n",
       "Time:                        19:40:17   Df Model:                            5\n",
       "                                 Mean Model                                 \n",
       "============================================================================\n",
       "                 coef    std err          t      P>|t|      95.0% Conf. Int.\n",
       "----------------------------------------------------------------------------\n",
       "mu             0.0379  1.383e-02      2.739  6.158e-03 [1.078e-02,6.499e-02]\n",
       "                               Volatility Model                              \n",
       "=============================================================================\n",
       "                 coef    std err          t      P>|t|       95.0% Conf. Int.\n",
       "-----------------------------------------------------------------------------\n",
       "omega          0.0360  6.392e-03      5.638  1.719e-08  [2.351e-02,4.857e-02]\n",
       "alpha[1]       0.0000  3.584e-02      0.000      1.000 [-7.025e-02,7.025e-02]\n",
       "gamma[1]       0.3014  4.487e-02      6.718  1.843e-11      [  0.213,  0.389]\n",
       "beta[1]        0.8041  2.932e-02     27.424 1.434e-165      [  0.747,  0.862]\n",
       "=============================================================================\n",
       "\n",
       "Covariance estimator: robust\n",
       "\"\"\""
      ]
     },
     "execution_count": 10,
     "metadata": {},
     "output_type": "execute_result"
    }
   ],
   "source": [
    "# Estimating a GJR-GARCH(1,1,1) with robust standard errors\n",
    "gjr_garch = arch_model(sp500_ret, p=1, o=1, q=1)\n",
    "gjr_res_sp500_non = gjr_garch.fit(disp=\"off\")\n",
    "gjr_res_sp500_non.summary()"
   ]
  },
  {
   "cell_type": "code",
   "execution_count": 11,
   "metadata": {},
   "outputs": [
    {
     "data": {
      "text/html": [
       "<table class=\"simpletable\">\n",
       "<caption>Constant Mean - GJR-GARCH Model Results</caption>\n",
       "<tr>\n",
       "  <th>Dep. Variable:</th>        <td>SP500</td>       <th>  R-squared:         </th>  <td>  -0.000</td> \n",
       "</tr>\n",
       "<tr>\n",
       "  <th>Mean Model:</th>       <td>Constant Mean</td>   <th>  Adj. R-squared:    </th>  <td>  -0.000</td> \n",
       "</tr>\n",
       "<tr>\n",
       "  <th>Vol Model:</th>          <td>GJR-GARCH</td>     <th>  Log-Likelihood:    </th> <td>  -2557.36</td>\n",
       "</tr>\n",
       "<tr>\n",
       "  <th>Distribution:</th>        <td>Normal</td>       <th>  AIC:               </th> <td>   5124.72</td>\n",
       "</tr>\n",
       "<tr>\n",
       "  <th>Method:</th>        <td>Maximum Likelihood</td> <th>  BIC:               </th> <td>   5153.31</td>\n",
       "</tr>\n",
       "<tr>\n",
       "  <th></th>                        <td></td>          <th>  No. Observations:  </th>    <td>2251</td>   \n",
       "</tr>\n",
       "<tr>\n",
       "  <th>Date:</th>           <td>Wed, Feb 03 2021</td>  <th>  Df Residuals:      </th>    <td>2246</td>   \n",
       "</tr>\n",
       "<tr>\n",
       "  <th>Time:</th>               <td>19:40:18</td>      <th>  Df Model:          </th>      <td>5</td>    \n",
       "</tr>\n",
       "</table>\n",
       "<table class=\"simpletable\">\n",
       "<caption>Mean Model</caption>\n",
       "<tr>\n",
       "   <td></td>     <th>coef</th>     <th>std err</th>      <th>t</th>       <th>P>|t|</th>     <th>95.0% Conf. Int.</th>   \n",
       "</tr>\n",
       "<tr>\n",
       "  <th>mu</th> <td>    0.0379</td> <td>1.390e-02</td> <td>    2.724</td> <td>6.442e-03</td> <td>[1.063e-02,6.513e-02]</td>\n",
       "</tr>\n",
       "</table>\n",
       "<table class=\"simpletable\">\n",
       "<caption>Volatility Model</caption>\n",
       "<tr>\n",
       "      <td></td>        <th>coef</th>     <th>std err</th>      <th>t</th>       <th>P>|t|</th>      <th>95.0% Conf. Int.</th>   \n",
       "</tr>\n",
       "<tr>\n",
       "  <th>omega</th>    <td>    0.0360</td> <td>4.636e-03</td> <td>    7.773</td> <td>7.642e-15</td>  <td>[2.695e-02,4.513e-02]</td>\n",
       "</tr>\n",
       "<tr>\n",
       "  <th>alpha[1]</th>   <td>0.0000</td>   <td>1.875e-02</td>   <td>0.000</td>   <td>    1.000</td> <td>[-3.674e-02,3.674e-02]</td>\n",
       "</tr>\n",
       "<tr>\n",
       "  <th>gamma[1]</th> <td>    0.3014</td> <td>3.342e-02</td> <td>    9.019</td> <td>1.899e-19</td>    <td>[  0.236,  0.367]</td>  \n",
       "</tr>\n",
       "<tr>\n",
       "  <th>beta[1]</th>  <td>    0.8041</td> <td>2.072e-02</td> <td>   38.812</td>   <td>0.000</td>      <td>[  0.763,  0.845]</td>  \n",
       "</tr>\n",
       "</table><br/><br/>Covariance estimator: classic"
      ],
      "text/plain": [
       "<class 'statsmodels.iolib.summary.Summary'>\n",
       "\"\"\"\n",
       "                   Constant Mean - GJR-GARCH Model Results                    \n",
       "==============================================================================\n",
       "Dep. Variable:                  SP500   R-squared:                      -0.000\n",
       "Mean Model:             Constant Mean   Adj. R-squared:                 -0.000\n",
       "Vol Model:                  GJR-GARCH   Log-Likelihood:               -2557.36\n",
       "Distribution:                  Normal   AIC:                           5124.72\n",
       "Method:            Maximum Likelihood   BIC:                           5153.31\n",
       "                                        No. Observations:                 2251\n",
       "Date:                Wed, Feb 03 2021   Df Residuals:                     2246\n",
       "Time:                        19:40:18   Df Model:                            5\n",
       "                                 Mean Model                                 \n",
       "============================================================================\n",
       "                 coef    std err          t      P>|t|      95.0% Conf. Int.\n",
       "----------------------------------------------------------------------------\n",
       "mu             0.0379  1.390e-02      2.724  6.442e-03 [1.063e-02,6.513e-02]\n",
       "                               Volatility Model                              \n",
       "=============================================================================\n",
       "                 coef    std err          t      P>|t|       95.0% Conf. Int.\n",
       "-----------------------------------------------------------------------------\n",
       "omega          0.0360  4.636e-03      7.773  7.642e-15  [2.695e-02,4.513e-02]\n",
       "alpha[1]       0.0000  1.875e-02      0.000      1.000 [-3.674e-02,3.674e-02]\n",
       "gamma[1]       0.3014  3.342e-02      9.019  1.899e-19      [  0.236,  0.367]\n",
       "beta[1]        0.8041  2.072e-02     38.812      0.000      [  0.763,  0.845]\n",
       "=============================================================================\n",
       "\n",
       "Covariance estimator: classic\n",
       "\"\"\""
      ]
     },
     "execution_count": 11,
     "metadata": {},
     "output_type": "execute_result"
    }
   ],
   "source": [
    "# Estimating a GJR-GARCH(1,1,1) with classic standard errors\n",
    "gjr_garch = arch_model(sp500_ret, p=1, o=1, q=1)\n",
    "gjr_res_sp500_non = gjr_garch.fit(cov_type=\"classic\", disp=\"off\")\n",
    "gjr_res_sp500_non.summary()"
   ]
  },
  {
   "cell_type": "markdown",
   "metadata": {},
   "source": [
    "Now lets plot the fitted annualized volatility."
   ]
  },
  {
   "cell_type": "code",
   "execution_count": 16,
   "metadata": {
    "collapsed": false,
    "jupyter": {
     "outputs_hidden": false
    },
    "pycharm": {
     "is_executing": false,
     "name": "#%%\n"
    }
   },
   "outputs": [],
   "source": [
    "import matplotlib.pyplot as plt\n",
    "import seaborn as sns\n",
    "sns.set_style(\"darkgrid\")"
   ]
  },
  {
   "cell_type": "markdown",
   "metadata": {},
   "source": [
    "To make our life easier, the results from **arch_model** already come with a `plot` method. We can use the `plot` method on the result to plot the annualized volatility."
   ]
  },
  {
   "cell_type": "code",
   "execution_count": 17,
   "metadata": {
    "collapsed": false,
    "jupyter": {
     "outputs_hidden": false
    },
    "pycharm": {
     "name": "#%%\n"
    }
   },
   "outputs": [
    {
     "data": {
      "image/png": "[encoded data removed]",
      "text/plain": [
       "<Figure size 1152x432 with 2 Axes>"
      ]
     },
     "metadata": {
      "needs_background": "light"
     },
     "output_type": "display_data"
    }
   ],
   "source": [
    "plt.rc(\"figure\",figsize=(16, 6))\n",
    "fig = gjr_res_sp500.plot(annualize=\"D\")"
   ]
  },
  {
   "cell_type": "markdown",
   "metadata": {
    "pycharm": {
     "name": "#%% md\n"
    }
   },
   "source": [
    "The top panel contains the standardized residuals,\n",
    "\n",
    "$$ \\frac{\\left(r_t-\\hat{\\mu}\\right)}{\\hat{\\sigma}_t}. $$\n",
    "\n",
    "The bottom shows the conditional volatility."
   ]
  },
  {
   "cell_type": "markdown",
   "metadata": {},
   "source": [
    "To finally use the fitted conditional volatilities to plot the conditional variance as requested."
   ]
  },
  {
   "cell_type": "code",
   "execution_count": 18,
   "metadata": {
    "collapsed": false,
    "jupyter": {
     "outputs_hidden": false
    },
    "pycharm": {
     "is_executing": false,
     "name": "#%%\n"
    }
   },
   "outputs": [
    {
     "data": {
      "image/png": "[encoded data removed]",
      "text/plain": [
       "<Figure size 1152x432 with 1 Axes>"
      ]
     },
     "metadata": {
      "needs_background": "light"
     },
     "output_type": "display_data"
    }
   ],
   "source": [
    "# Getting the series of conditional volatility\n",
    "vol = gjr_res_sp500.conditional_volatility\n",
    "# Calculating the variance\n",
    "var = vol**2\n",
    "# Plotting the variance\n",
    "ax = var.plot(figsize=(16,6))"
   ]
  }
 ],
 "metadata": {
  "kernelspec": {
   "display_name": "Python 3",
   "language": "python",
   "name": "python3"
  },
  "language_info": {
   "codemirror_mode": {
    "name": "ipython",
    "version": 3
   },
   "file_extension": ".py",
   "mimetype": "text/x-python",
   "name": "python",
   "nbconvert_exporter": "python",
   "pygments_lexer": "ipython3",
   "version": "3.7.9"
  },
  "pycharm": {
   "stem_cell": {
    "cell_type": "raw",
    "metadata": {
     "collapsed": false
    },
    "source": []
   }
  }
 },
 "nbformat": 4,
 "nbformat_minor": 4
}
