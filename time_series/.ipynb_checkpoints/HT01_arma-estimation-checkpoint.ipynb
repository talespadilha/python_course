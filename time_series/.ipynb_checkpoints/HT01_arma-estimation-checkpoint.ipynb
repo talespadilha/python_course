{
 "cells": [
  {
   "cell_type": "markdown",
   "metadata": {
    "pycharm": {
     "name": "#%% md\n"
    }
   },
   "source": [
    "## ARMA Modeling: Estimation\n",
    "\n",
    "**Functions**\n",
    "\n",
    "`tsa.SARIMAX`"
   ]
  },
  {
   "cell_type": "markdown",
   "metadata": {},
   "source": [
    "### Setting Our Environment "
   ]
  },
  {
   "cell_type": "markdown",
   "metadata": {},
   "source": [
    "Before we start, make sure you have the following libraries installed in your environment:\n",
    "- **pandas**\n",
    "- **matplotlib**\n",
    "- **seaborn** \n",
    "- **statsmodels**\n"
   ]
  },
  {
   "cell_type": "code",
   "execution_count": 1,
   "metadata": {},
   "outputs": [
    {
     "name": "stdout",
     "output_type": "stream",
     "text": [
      "Collecting package metadata (current_repodata.json): done\n",
      "Solving environment: done\n",
      "\n",
      "## Package Plan ##\n",
      "\n",
      "  environment location: /Users/talespadilha/opt/anaconda3/envs/python_mfe\n",
      "\n",
      "  added / updated specs:\n",
      "    - pandas\n",
      "\n",
      "\n",
      "The following NEW packages will be INSTALLED:\n",
      "\n",
      "  blas               pkgs/main/osx-64::blas-1.0-mkl\n",
      "  intel-openmp       pkgs/main/osx-64::intel-openmp-2019.4-233\n",
      "  mkl                pkgs/main/osx-64::mkl-2019.4-233\n",
      "  mkl-service        pkgs/main/osx-64::mkl-service-2.3.0-py37h9ed2024_0\n",
      "  mkl_fft            pkgs/main/osx-64::mkl_fft-1.2.0-py37hc64f4ea_0\n",
      "  mkl_random         pkgs/main/osx-64::mkl_random-1.1.1-py37h959d312_0\n",
      "  numpy              pkgs/main/osx-64::numpy-1.19.2-py37h456fd55_0\n",
      "  numpy-base         pkgs/main/osx-64::numpy-base-1.19.2-py37hcfb5961_0\n",
      "  pandas             pkgs/main/osx-64::pandas-1.1.3-py37hb1e8313_0\n",
      "\n",
      "\n",
      "Preparing transaction: done\n",
      "Verifying transaction: done\n",
      "Executing transaction: done\n",
      "\n",
      "Note: you may need to restart the kernel to use updated packages.\n"
     ]
    }
   ],
   "source": [
    "%conda install pandas"
   ]
  },
  {
   "cell_type": "code",
   "execution_count": 2,
   "metadata": {},
   "outputs": [
    {
     "name": "stdout",
     "output_type": "stream",
     "text": [
      "Collecting package metadata (current_repodata.json): done\n",
      "Solving environment: done\n",
      "\n",
      "## Package Plan ##\n",
      "\n",
      "  environment location: /Users/talespadilha/opt/anaconda3/envs/python_mfe\n",
      "\n",
      "  added / updated specs:\n",
      "    - matplotlib\n",
      "\n",
      "\n",
      "The following packages will be downloaded:\n",
      "\n",
      "    package                    |            build\n",
      "    ---------------------------|-----------------\n",
      "    cycler-0.10.0              |             py_2           9 KB  conda-forge\n",
      "    freetype-2.10.4            |       h3f75d11_0         897 KB  conda-forge\n",
      "    matplotlib-2.2.5           |       h694c41f_3           7 KB  conda-forge\n",
      "    matplotlib-base-2.2.5      |   py37h11da6c2_1         6.6 MB  conda-forge\n",
      "    ------------------------------------------------------------\n",
      "                                           Total:         7.5 MB\n",
      "\n",
      "The following NEW packages will be INSTALLED:\n",
      "\n",
      "  cycler             conda-forge/noarch::cycler-0.10.0-py_2\n",
      "  freetype           conda-forge/osx-64::freetype-2.10.4-h3f75d11_0\n",
      "  kiwisolver         pkgs/main/osx-64::kiwisolver-1.3.0-py37h23ab428_0\n",
      "  matplotlib         conda-forge/osx-64::matplotlib-2.2.5-h694c41f_3\n",
      "  matplotlib-base    conda-forge/osx-64::matplotlib-base-2.2.5-py37h11da6c2_1\n",
      "  python_abi         conda-forge/osx-64::python_abi-3.7-1_cp37m\n",
      "\n",
      "The following packages will be SUPERSEDED by a higher-priority channel:\n",
      "\n",
      "  ca-certificates    pkgs/main::ca-certificates-2020.12.8-~ --> conda-forge::ca-certificates-2020.12.5-h033912b_0\n",
      "  certifi            pkgs/main::certifi-2020.12.5-py37hecd~ --> conda-forge::certifi-2020.12.5-py37hf985489_0\n",
      "  openssl              pkgs/main::openssl-1.1.1i-h9ed2024_0 --> conda-forge::openssl-1.1.1i-h35c211d_0\n",
      "\n",
      "\n",
      "\n",
      "Downloading and Extracting Packages\n",
      "matplotlib-base-2.2. | 6.6 MB    | ##################################### | 100% \n",
      "freetype-2.10.4      | 897 KB    | ##################################### | 100% \n",
      "cycler-0.10.0        | 9 KB      | ##################################### | 100% \n",
      "matplotlib-2.2.5     | 7 KB      | ##################################### | 100% \n",
      "Preparing transaction: done\n",
      "Verifying transaction: done\n",
      "Executing transaction: done\n",
      "\n",
      "Note: you may need to restart the kernel to use updated packages.\n"
     ]
    }
   ],
   "source": [
    "%conda install -c conda-forge matplotlib"
   ]
  },
  {
   "cell_type": "code",
   "execution_count": 3,
   "metadata": {},
   "outputs": [
    {
     "name": "stdout",
     "output_type": "stream",
     "text": [
      "Collecting package metadata (current_repodata.json): done\n",
      "Solving environment: done\n",
      "\n",
      "## Package Plan ##\n",
      "\n",
      "  environment location: /Users/talespadilha/opt/anaconda3/envs/python_mfe\n",
      "\n",
      "  added / updated specs:\n",
      "    - seaborn\n",
      "\n",
      "\n",
      "The following NEW packages will be INSTALLED:\n",
      "\n",
      "  libgfortran        pkgs/main/osx-64::libgfortran-3.0.1-h93005f0_2\n",
      "  scipy              pkgs/main/osx-64::scipy-1.5.2-py37h912ce22_0\n",
      "  seaborn            pkgs/main/noarch::seaborn-0.11.0-py_0\n",
      "\n",
      "The following packages will be UPDATED:\n",
      "\n",
      "  ca-certificates    conda-forge::ca-certificates-2020.12.~ --> pkgs/main::ca-certificates-2020.12.8-hecd8cb5_0\n",
      "\n",
      "The following packages will be SUPERSEDED by a higher-priority channel:\n",
      "\n",
      "  certifi            conda-forge::certifi-2020.12.5-py37hf~ --> pkgs/main::certifi-2020.12.5-py37hecd8cb5_0\n",
      "  openssl            conda-forge::openssl-1.1.1i-h35c211d_0 --> pkgs/main::openssl-1.1.1i-h9ed2024_0\n",
      "\n",
      "\n",
      "Preparing transaction: done\n",
      "Verifying transaction: done\n",
      "Executing transaction: done\n",
      "\n",
      "Note: you may need to restart the kernel to use updated packages.\n"
     ]
    }
   ],
   "source": [
    "%conda install seaborn"
   ]
  },
  {
   "cell_type": "code",
   "execution_count": 4,
   "metadata": {},
   "outputs": [
    {
     "name": "stdout",
     "output_type": "stream",
     "text": [
      "Collecting package metadata (current_repodata.json): done\n",
      "Solving environment: done\n",
      "\n",
      "## Package Plan ##\n",
      "\n",
      "  environment location: /Users/talespadilha/opt/anaconda3/envs/python_mfe\n",
      "\n",
      "  added / updated specs:\n",
      "    - statsmodels\n",
      "\n",
      "\n",
      "The following NEW packages will be INSTALLED:\n",
      "\n",
      "  patsy              conda-forge/noarch::patsy-0.5.1-py_0\n",
      "  statsmodels        conda-forge/osx-64::statsmodels-0.12.1-py37h8ba3199_1\n",
      "\n",
      "The following packages will be SUPERSEDED by a higher-priority channel:\n",
      "\n",
      "  ca-certificates    pkgs/main::ca-certificates-2020.12.8-~ --> conda-forge::ca-certificates-2020.12.5-h033912b_0\n",
      "  certifi            pkgs/main::certifi-2020.12.5-py37hecd~ --> conda-forge::certifi-2020.12.5-py37hf985489_0\n",
      "  openssl              pkgs/main::openssl-1.1.1i-h9ed2024_0 --> conda-forge::openssl-1.1.1i-h35c211d_0\n",
      "\n",
      "\n",
      "Preparing transaction: done\n",
      "Verifying transaction: done\n",
      "Executing transaction: done\n",
      "\n",
      "Note: you may need to restart the kernel to use updated packages.\n"
     ]
    }
   ],
   "source": [
    "%conda install -c conda-forge statsmodels"
   ]
  },
  {
   "cell_type": "markdown",
   "metadata": {},
   "source": [
    "Importing the libraries we will use in this notebook:"
   ]
  },
  {
   "cell_type": "code",
   "execution_count": 1,
   "metadata": {},
   "outputs": [],
   "source": [
    "import pandas as pd\n",
    "import matplotlib.pyplot as plt\n",
    "import seaborn as sns"
   ]
  },
  {
   "cell_type": "markdown",
   "metadata": {},
   "source": [
    "### Introduction to Time Series Analysis"
   ]
  },
  {
   "cell_type": "markdown",
   "metadata": {},
   "source": [
    "Before we load some time series data, we need to check where our current directory is. To check/change our current directory, we use **os**"
   ]
  },
  {
   "cell_type": "code",
   "execution_count": 2,
   "metadata": {},
   "outputs": [
    {
     "data": {
      "text/plain": [
       "'/Users/talespadilha/Documents/Oxford/Teaching/Financial Econometrics/20-21/python/python_course'"
      ]
     },
     "execution_count": 2,
     "metadata": {},
     "output_type": "execute_result"
    }
   ],
   "source": [
    "import os\n",
    "os.getcwd()"
   ]
  },
  {
   "cell_type": "code",
   "execution_count": 3,
   "metadata": {},
   "outputs": [
    {
     "data": {
      "text/plain": [
       "'/Users/talespadilha/Documents/Oxford/Teaching/Financial Econometrics/20-21/python/python-introduction/course/autumn'"
      ]
     },
     "execution_count": 3,
     "metadata": {},
     "output_type": "execute_result"
    }
   ],
   "source": [
    "os.chdir('/Users/talespadilha/Documents/Oxford/Teaching/Financial Econometrics/20-21/python/python-introduction/course/autumn')\n",
    "os.getcwd() "
   ]
  },
  {
   "cell_type": "markdown",
   "metadata": {},
   "source": [
    "Once we are in the correct directory, we can load the Term Premium data you constructed with Max in class 1 (**data-dataset-construction**)."
   ]
  },
  {
   "cell_type": "code",
   "execution_count": 4,
   "metadata": {
    "pycharm": {
     "name": "#%%\n"
    }
   },
   "outputs": [
    {
     "data": {
      "text/html": [
       "<div>\n",
       "<style scoped>\n",
       "    .dataframe tbody tr th:only-of-type {\n",
       "        vertical-align: middle;\n",
       "    }\n",
       "\n",
       "    .dataframe tbody tr th {\n",
       "        vertical-align: top;\n",
       "    }\n",
       "\n",
       "    .dataframe thead th {\n",
       "        text-align: right;\n",
       "    }\n",
       "</style>\n",
       "<table border=\"1\" class=\"dataframe\">\n",
       "  <thead>\n",
       "    <tr style=\"text-align: right;\">\n",
       "      <th></th>\n",
       "      <th>TERM</th>\n",
       "      <th>GS10</th>\n",
       "      <th>GS1</th>\n",
       "    </tr>\n",
       "    <tr>\n",
       "      <th>DATE</th>\n",
       "      <th></th>\n",
       "      <th></th>\n",
       "      <th></th>\n",
       "    </tr>\n",
       "  </thead>\n",
       "  <tbody>\n",
       "    <tr>\n",
       "      <th>1953-04-01</th>\n",
       "      <td>0.47</td>\n",
       "      <td>2.83</td>\n",
       "      <td>2.36</td>\n",
       "    </tr>\n",
       "    <tr>\n",
       "      <th>1953-05-01</th>\n",
       "      <td>0.57</td>\n",
       "      <td>3.05</td>\n",
       "      <td>2.48</td>\n",
       "    </tr>\n",
       "    <tr>\n",
       "      <th>1953-06-01</th>\n",
       "      <td>0.66</td>\n",
       "      <td>3.11</td>\n",
       "      <td>2.45</td>\n",
       "    </tr>\n",
       "    <tr>\n",
       "      <th>1953-07-01</th>\n",
       "      <td>0.55</td>\n",
       "      <td>2.93</td>\n",
       "      <td>2.38</td>\n",
       "    </tr>\n",
       "    <tr>\n",
       "      <th>1953-08-01</th>\n",
       "      <td>0.67</td>\n",
       "      <td>2.95</td>\n",
       "      <td>2.28</td>\n",
       "    </tr>\n",
       "  </tbody>\n",
       "</table>\n",
       "</div>"
      ],
      "text/plain": [
       "            TERM  GS10   GS1\n",
       "DATE                        \n",
       "1953-04-01  0.47  2.83  2.36\n",
       "1953-05-01  0.57  3.05  2.48\n",
       "1953-06-01  0.66  3.11  2.45\n",
       "1953-07-01  0.55  2.93  2.38\n",
       "1953-08-01  0.67  2.95  2.28"
      ]
     },
     "execution_count": 4,
     "metadata": {},
     "output_type": "execute_result"
    }
   ],
   "source": [
    "data = pd.read_hdf(\"data/term-premium.h5\",\"term_premium\")\n",
    "data.head()"
   ]
  },
  {
   "cell_type": "markdown",
   "metadata": {},
   "source": [
    "Lets take a look into the series in the data df:"
   ]
  },
  {
   "cell_type": "code",
   "execution_count": 5,
   "metadata": {
    "pycharm": {
     "is_executing": false,
     "name": "#%%\n"
    }
   },
   "outputs": [
    {
     "data": {
      "text/plain": [
       "<matplotlib.axes._subplots.AxesSubplot at 0x7f9199eb78d0>"
      ]
     },
     "execution_count": 5,
     "metadata": {},
     "output_type": "execute_result"
    },
    {
     "data": {
      "image/png": "[encoded data removed]",
      "text/plain": [
       "<Figure size 1152x432 with 1 Axes>"
      ]
     },
     "metadata": {},
     "output_type": "display_data"
    }
   ],
   "source": [
    "plt.rc(\"figure\", figsize=(16,6))\n",
    "sns.set_style(\"darkgrid\")\n",
    "data.plot.line()"
   ]
  },
  {
   "cell_type": "markdown",
   "metadata": {},
   "source": [
    "We want o focus our analysis in the term premium, so lets select this separately:"
   ]
  },
  {
   "cell_type": "code",
   "execution_count": 7,
   "metadata": {},
   "outputs": [],
   "source": [
    "term = data.TERM"
   ]
  },
  {
   "cell_type": "code",
   "execution_count": 8,
   "metadata": {},
   "outputs": [
    {
     "data": {
      "text/plain": [
       "<matplotlib.axes._subplots.AxesSubplot at 0x7f919aa9d950>"
      ]
     },
     "execution_count": 8,
     "metadata": {},
     "output_type": "execute_result"
    },
    {
     "data": {
      "image/png": "[encoded data removed]",
      "text/plain": [
       "<Figure size 1152x432 with 1 Axes>"
      ]
     },
     "metadata": {},
     "output_type": "display_data"
    }
   ],
   "source": [
    "plt.rc(\"figure\", figsize=(16,6))\n",
    "sns.set_style(\"darkgrid\")\n",
    "term.plot.line()"
   ]
  },
  {
   "cell_type": "markdown",
   "metadata": {},
   "source": [
    "Recall that the **term_premium** is the difference in yields on 10 years and 1 year bonds. This difference is used as a benchmark for the compensation that an investor would demand for holding a bond with longer maturity. In normal times, an investor would demand a premium for longer maturity, because he needs to be compensated for the duration risk. Many people use the inversion of the yield curve (i.e. negative term premium) as a flag that something bad is about to happen in financial markets."
   ]
  },
  {
   "cell_type": "markdown",
   "metadata": {},
   "source": [
    "The term premium looks reasonably stable. Assuming stationarity seems like a fair assumption; at least it is not an explosive time series. So now we will investigate which model best describes its intertemporal features."
   ]
  },
  {
   "cell_type": "markdown",
   "metadata": {},
   "source": [
    "## SARIMAX for Time Series Analysis"
   ]
  },
  {
   "cell_type": "markdown",
   "metadata": {},
   "source": [
    "We will use the **SARIMAX** class of the *statsmodels* library to perform time series analysis. Documentation can be found at: [SARIMAX Doc](https://www.statsmodels.org/stable/examples/notebooks/generated/statespace_sarimax_stata.html)."
   ]
  },
  {
   "cell_type": "code",
   "execution_count": 9,
   "metadata": {},
   "outputs": [],
   "source": [
    "import statsmodels.tsa.api as tsa"
   ]
  },
  {
   "cell_type": "markdown",
   "metadata": {},
   "source": [
    "### SARIMA"
   ]
  },
  {
   "cell_type": "markdown",
   "metadata": {},
   "source": [
    "We use a **SARIMA** (Seasonal Autoregressive Integrated Moving Average) framework in order to model the time series dynamics of each components. The **SARIMA** framework works well in providing flexibility about the properties of the time series being analysed.\n",
    "\n",
    "Let $\\{y_t\\}_{t=1}^T$ be the time series we are interested in studying the dynamics. We can write this process in a general **SARIMA $(p,d,q)(P,D,Q,S)$** framework as:\n",
    "\n",
    "$$ \\phi_p(L) \\tilde{\\phi}_P (L^s) \\Delta^d \\Delta_s^D y_t = A(t) + \\theta_q (L) \\tilde{\\theta}_Q (L^s) \\epsilon_t $$ \n",
    "\n",
    "Which is just an extenssion of the traditional **ARMA(p, q)** allowing for integration and seasonal effects."
   ]
  },
  {
   "cell_type": "markdown",
   "metadata": {},
   "source": [
    "The SARIMA framework is very general and hence allows us to describe very complex time series processes. However, it can also descripe simple processes we are already familiar with. Notice:\n",
    "- SARIMA(1, 0, 0) (0, 0, 0, 0) = AR(1)\n",
    "- SARIMA(2, 0, 2) (0, 0, 0, 0) = ARMA(2, 2)\n",
    "- SARIMA(1, 1, 1) (0, 0, 0, 0) = ARIMA(1,1,1)\n",
    "where the tuple of zeros represents that we do not wish to include any seasonal effects. \n",
    "\n",
    "The **SARIMA** framework allows us to include seasonal effects as (Seasonal AR specification, Seasonal Integration order, Seasonal MA, Seasonal periodicity). For more detail on how to use this functionality see [SARIMAX Doc](https://www.statsmodels.org/stable/examples/notebooks/generated/statespace_sarimax_stata.html)."
   ]
  },
  {
   "cell_type": "markdown",
   "metadata": {},
   "source": [
    "### Introducing Exogenous Variables"
   ]
  },
  {
   "cell_type": "markdown",
   "metadata": {},
   "source": [
    "We can extend the **SARIMA** model to allow for exogenous variables. As we have defined exogenous variables matrix **X**, this extensio is called **SARIMAX**.\n",
    "\n",
    "Let $\\{y_t\\}_{t=1}^T$ be the time series we are intereted and $\\{\\mathbf{x}_t\\}_{t=1}^T$ be a the series of exogenous vectors. We can write the general **SARIMAX $(p,d,q)(P,D,Q)_s$** as:\n",
    "\n",
    "$$y_t = \\mathbf{\\beta}' \\mathbf{x}_t + \\mu_t$$\n",
    "\n",
    "$$ \\phi_p(L) \\tilde{\\phi}_P (L^s) \\Delta^d \\Delta_s^D  \\mu_t= A(t) + \\theta_q (L) \\tilde{\\theta}_Q (L^s) \\epsilon_t $$ \n",
    "\n",
    "That is, a regression with **SARIMA** errors.\n"
   ]
  },
  {
   "cell_type": "markdown",
   "metadata": {
    "pycharm": {
     "name": "#%% md\n"
    }
   },
   "source": [
    "### Exercise 65\n",
    "Estimate an AR(1) on the term premium, and compute standard errors for the parameters."
   ]
  },
  {
   "cell_type": "markdown",
   "metadata": {},
   "source": [
    "### Answer 65"
   ]
  },
  {
   "cell_type": "markdown",
   "metadata": {},
   "source": [
    "We know that:\n",
    "- AR(1) = SARIMA(1,0,0) (0, 0, 0, 0)\n",
    "\n",
    "By deffinition, the SARIMAX class will set the **seasonal_order** = (0, 0, 0, 0). Therefore, as long as we want no seasonal effecs, we don't need to specify this term."
   ]
  },
  {
   "cell_type": "code",
   "execution_count": 10,
   "metadata": {
    "pycharm": {
     "is_executing": false,
     "name": "#%%\n"
    }
   },
   "outputs": [
    {
     "data": {
      "text/plain": [
       "intercept    0.027365\n",
       "ar.L1        0.970691\n",
       "sigma2       0.064608\n",
       "dtype: float64"
      ]
     },
     "execution_count": 10,
     "metadata": {},
     "output_type": "execute_result"
    }
   ],
   "source": [
    "mod = tsa.SARIMAX(term, order=(1,0,0), trend='c')\n",
    "res = mod.fit()\n",
    "res.params"
   ]
  },
  {
   "cell_type": "code",
   "execution_count": 11,
   "metadata": {},
   "outputs": [
    {
     "data": {
      "text/plain": [
       "intercept    0.009139\n",
       "ar.L1        0.006312\n",
       "sigma2       0.001117\n",
       "dtype: float64"
      ]
     },
     "execution_count": 11,
     "metadata": {},
     "output_type": "execute_result"
    }
   ],
   "source": [
    "res.bse"
   ]
  },
  {
   "cell_type": "code",
   "execution_count": 12,
   "metadata": {
    "pycharm": {
     "is_executing": false,
     "name": "#%%\n"
    }
   },
   "outputs": [
    {
     "data": {
      "text/html": [
       "<table class=\"simpletable\">\n",
       "<caption>SARIMAX Results</caption>\n",
       "<tr>\n",
       "  <th>Dep. Variable:</th>         <td>TERM</td>       <th>  No. Observations:  </th>   <td>812</td>  \n",
       "</tr>\n",
       "<tr>\n",
       "  <th>Model:</th>           <td>SARIMAX(1, 0, 0)</td> <th>  Log Likelihood     </th> <td>-41.418</td>\n",
       "</tr>\n",
       "<tr>\n",
       "  <th>Date:</th>            <td>Mon, 28 Dec 2020</td> <th>  AIC                </th> <td>88.835</td> \n",
       "</tr>\n",
       "<tr>\n",
       "  <th>Time:</th>                <td>16:42:00</td>     <th>  BIC                </th> <td>102.934</td>\n",
       "</tr>\n",
       "<tr>\n",
       "  <th>Sample:</th>             <td>04-01-1953</td>    <th>  HQIC               </th> <td>94.248</td> \n",
       "</tr>\n",
       "<tr>\n",
       "  <th></th>                   <td>- 11-01-2020</td>   <th>                     </th>    <td> </td>   \n",
       "</tr>\n",
       "<tr>\n",
       "  <th>Covariance Type:</th>        <td>opg</td>       <th>                     </th>    <td> </td>   \n",
       "</tr>\n",
       "</table>\n",
       "<table class=\"simpletable\">\n",
       "<tr>\n",
       "      <td></td>         <th>coef</th>     <th>std err</th>      <th>z</th>      <th>P>|z|</th>  <th>[0.025</th>    <th>0.975]</th>  \n",
       "</tr>\n",
       "<tr>\n",
       "  <th>intercept</th> <td>    0.0274</td> <td>    0.009</td> <td>    2.994</td> <td> 0.003</td> <td>    0.009</td> <td>    0.045</td>\n",
       "</tr>\n",
       "<tr>\n",
       "  <th>ar.L1</th>     <td>    0.9707</td> <td>    0.006</td> <td>  153.773</td> <td> 0.000</td> <td>    0.958</td> <td>    0.983</td>\n",
       "</tr>\n",
       "<tr>\n",
       "  <th>sigma2</th>    <td>    0.0646</td> <td>    0.001</td> <td>   57.832</td> <td> 0.000</td> <td>    0.062</td> <td>    0.067</td>\n",
       "</tr>\n",
       "</table>\n",
       "<table class=\"simpletable\">\n",
       "<tr>\n",
       "  <th>Ljung-Box (L1) (Q):</th>     <td>73.80</td> <th>  Jarque-Bera (JB):  </th> <td>9931.39</td>\n",
       "</tr>\n",
       "<tr>\n",
       "  <th>Prob(Q):</th>                <td>0.00</td>  <th>  Prob(JB):          </th>  <td>0.00</td>  \n",
       "</tr>\n",
       "<tr>\n",
       "  <th>Heteroskedasticity (H):</th> <td>0.75</td>  <th>  Skew:              </th>  <td>0.92</td>  \n",
       "</tr>\n",
       "<tr>\n",
       "  <th>Prob(H) (two-sided):</th>    <td>0.02</td>  <th>  Kurtosis:          </th>  <td>20.03</td> \n",
       "</tr>\n",
       "</table><br/><br/>Warnings:<br/>[1] Covariance matrix calculated using the outer product of gradients (complex-step)."
      ],
      "text/plain": [
       "<class 'statsmodels.iolib.summary.Summary'>\n",
       "\"\"\"\n",
       "                               SARIMAX Results                                \n",
       "==============================================================================\n",
       "Dep. Variable:                   TERM   No. Observations:                  812\n",
       "Model:               SARIMAX(1, 0, 0)   Log Likelihood                 -41.418\n",
       "Date:                Mon, 28 Dec 2020   AIC                             88.835\n",
       "Time:                        16:42:00   BIC                            102.934\n",
       "Sample:                    04-01-1953   HQIC                            94.248\n",
       "                         - 11-01-2020                                         \n",
       "Covariance Type:                  opg                                         \n",
       "==============================================================================\n",
       "                 coef    std err          z      P>|z|      [0.025      0.975]\n",
       "------------------------------------------------------------------------------\n",
       "intercept      0.0274      0.009      2.994      0.003       0.009       0.045\n",
       "ar.L1          0.9707      0.006    153.773      0.000       0.958       0.983\n",
       "sigma2         0.0646      0.001     57.832      0.000       0.062       0.067\n",
       "===================================================================================\n",
       "Ljung-Box (L1) (Q):                  73.80   Jarque-Bera (JB):              9931.39\n",
       "Prob(Q):                              0.00   Prob(JB):                         0.00\n",
       "Heteroskedasticity (H):               0.75   Skew:                             0.92\n",
       "Prob(H) (two-sided):                  0.02   Kurtosis:                        20.03\n",
       "===================================================================================\n",
       "\n",
       "Warnings:\n",
       "[1] Covariance matrix calculated using the outer product of gradients (complex-step).\n",
       "\"\"\""
      ]
     },
     "execution_count": 12,
     "metadata": {},
     "output_type": "execute_result"
    }
   ],
   "source": [
    "res.summary()"
   ]
  },
  {
   "cell_type": "markdown",
   "metadata": {},
   "source": [
    "All outputs from **SARIMAX** estimation results can be found at: [SARIMAXResults](https://www.statsmodels.org/stable/generated/statsmodels.tsa.statespace.sarimax.SARIMAXResults.html)."
   ]
  },
  {
   "cell_type": "markdown",
   "metadata": {
    "pycharm": {
     "name": "#%% md\n"
    }
   },
   "source": [
    "### Exercise 66\n",
    "Estimate an MA(5) on the term premium, and compute standard errors for the parameters."
   ]
  },
  {
   "cell_type": "code",
   "execution_count": 13,
   "metadata": {
    "pycharm": {
     "is_executing": false,
     "name": "#%%\n"
    }
   },
   "outputs": [
    {
     "name": "stderr",
     "output_type": "stream",
     "text": [
      "/Users/talespadilha/opt/anaconda3/envs/python_mfe/lib/python3.7/site-packages/statsmodels/tsa/statespace/sarimax.py:978: UserWarning: Non-invertible starting MA parameters found. Using zeros as starting parameters.\n",
      "  warn('Non-invertible starting MA parameters found.'\n"
     ]
    },
    {
     "data": {
      "text/plain": [
       "intercept    0.958714\n",
       "ma.L1        1.513984\n",
       "ma.L2        1.429009\n",
       "ma.L3        1.188824\n",
       "ma.L4        0.744160\n",
       "ma.L5        0.292843\n",
       "sigma2       0.083682\n",
       "dtype: float64"
      ]
     },
     "execution_count": 13,
     "metadata": {},
     "output_type": "execute_result"
    }
   ],
   "source": [
    "mod = tsa.SARIMAX(term, order=(0,0,5), trend='c')\n",
    "res = mod.fit()\n",
    "res.params"
   ]
  },
  {
   "cell_type": "code",
   "execution_count": 14,
   "metadata": {},
   "outputs": [
    {
     "data": {
      "text/plain": [
       "intercept    0.065051\n",
       "ma.L1        0.016115\n",
       "ma.L2        0.029369\n",
       "ma.L3        0.035698\n",
       "ma.L4        0.035316\n",
       "ma.L5        0.024276\n",
       "sigma2       0.002659\n",
       "dtype: float64"
      ]
     },
     "execution_count": 14,
     "metadata": {},
     "output_type": "execute_result"
    }
   ],
   "source": [
    "res.bse"
   ]
  },
  {
   "cell_type": "code",
   "execution_count": 15,
   "metadata": {
    "pycharm": {
     "is_executing": false,
     "name": "#%%\n"
    }
   },
   "outputs": [
    {
     "data": {
      "text/html": [
       "<table class=\"simpletable\">\n",
       "<caption>SARIMAX Results</caption>\n",
       "<tr>\n",
       "  <th>Dep. Variable:</th>         <td>TERM</td>       <th>  No. Observations:  </th>    <td>812</td>  \n",
       "</tr>\n",
       "<tr>\n",
       "  <th>Model:</th>           <td>SARIMAX(0, 0, 5)</td> <th>  Log Likelihood     </th> <td>-146.384</td>\n",
       "</tr>\n",
       "<tr>\n",
       "  <th>Date:</th>            <td>Mon, 28 Dec 2020</td> <th>  AIC                </th>  <td>306.768</td>\n",
       "</tr>\n",
       "<tr>\n",
       "  <th>Time:</th>                <td>16:42:13</td>     <th>  BIC                </th>  <td>339.665</td>\n",
       "</tr>\n",
       "<tr>\n",
       "  <th>Sample:</th>             <td>04-01-1953</td>    <th>  HQIC               </th>  <td>319.397</td>\n",
       "</tr>\n",
       "<tr>\n",
       "  <th></th>                   <td>- 11-01-2020</td>   <th>                     </th>     <td> </td>   \n",
       "</tr>\n",
       "<tr>\n",
       "  <th>Covariance Type:</th>        <td>opg</td>       <th>                     </th>     <td> </td>   \n",
       "</tr>\n",
       "</table>\n",
       "<table class=\"simpletable\">\n",
       "<tr>\n",
       "      <td></td>         <th>coef</th>     <th>std err</th>      <th>z</th>      <th>P>|z|</th>  <th>[0.025</th>    <th>0.975]</th>  \n",
       "</tr>\n",
       "<tr>\n",
       "  <th>intercept</th> <td>    0.9587</td> <td>    0.065</td> <td>   14.738</td> <td> 0.000</td> <td>    0.831</td> <td>    1.086</td>\n",
       "</tr>\n",
       "<tr>\n",
       "  <th>ma.L1</th>     <td>    1.5140</td> <td>    0.016</td> <td>   93.951</td> <td> 0.000</td> <td>    1.482</td> <td>    1.546</td>\n",
       "</tr>\n",
       "<tr>\n",
       "  <th>ma.L2</th>     <td>    1.4290</td> <td>    0.029</td> <td>   48.656</td> <td> 0.000</td> <td>    1.371</td> <td>    1.487</td>\n",
       "</tr>\n",
       "<tr>\n",
       "  <th>ma.L3</th>     <td>    1.1888</td> <td>    0.036</td> <td>   33.302</td> <td> 0.000</td> <td>    1.119</td> <td>    1.259</td>\n",
       "</tr>\n",
       "<tr>\n",
       "  <th>ma.L4</th>     <td>    0.7442</td> <td>    0.035</td> <td>   21.071</td> <td> 0.000</td> <td>    0.675</td> <td>    0.813</td>\n",
       "</tr>\n",
       "<tr>\n",
       "  <th>ma.L5</th>     <td>    0.2928</td> <td>    0.024</td> <td>   12.063</td> <td> 0.000</td> <td>    0.245</td> <td>    0.340</td>\n",
       "</tr>\n",
       "<tr>\n",
       "  <th>sigma2</th>    <td>    0.0837</td> <td>    0.003</td> <td>   31.467</td> <td> 0.000</td> <td>    0.078</td> <td>    0.089</td>\n",
       "</tr>\n",
       "</table>\n",
       "<table class=\"simpletable\">\n",
       "<tr>\n",
       "  <th>Ljung-Box (L1) (Q):</th>     <td>12.82</td> <th>  Jarque-Bera (JB):  </th> <td>662.41</td>\n",
       "</tr>\n",
       "<tr>\n",
       "  <th>Prob(Q):</th>                <td>0.00</td>  <th>  Prob(JB):          </th>  <td>0.00</td> \n",
       "</tr>\n",
       "<tr>\n",
       "  <th>Heteroskedasticity (H):</th> <td>1.08</td>  <th>  Skew:              </th>  <td>-0.32</td>\n",
       "</tr>\n",
       "<tr>\n",
       "  <th>Prob(H) (two-sided):</th>    <td>0.54</td>  <th>  Kurtosis:          </th>  <td>7.38</td> \n",
       "</tr>\n",
       "</table><br/><br/>Warnings:<br/>[1] Covariance matrix calculated using the outer product of gradients (complex-step)."
      ],
      "text/plain": [
       "<class 'statsmodels.iolib.summary.Summary'>\n",
       "\"\"\"\n",
       "                               SARIMAX Results                                \n",
       "==============================================================================\n",
       "Dep. Variable:                   TERM   No. Observations:                  812\n",
       "Model:               SARIMAX(0, 0, 5)   Log Likelihood                -146.384\n",
       "Date:                Mon, 28 Dec 2020   AIC                            306.768\n",
       "Time:                        16:42:13   BIC                            339.665\n",
       "Sample:                    04-01-1953   HQIC                           319.397\n",
       "                         - 11-01-2020                                         \n",
       "Covariance Type:                  opg                                         \n",
       "==============================================================================\n",
       "                 coef    std err          z      P>|z|      [0.025      0.975]\n",
       "------------------------------------------------------------------------------\n",
       "intercept      0.9587      0.065     14.738      0.000       0.831       1.086\n",
       "ma.L1          1.5140      0.016     93.951      0.000       1.482       1.546\n",
       "ma.L2          1.4290      0.029     48.656      0.000       1.371       1.487\n",
       "ma.L3          1.1888      0.036     33.302      0.000       1.119       1.259\n",
       "ma.L4          0.7442      0.035     21.071      0.000       0.675       0.813\n",
       "ma.L5          0.2928      0.024     12.063      0.000       0.245       0.340\n",
       "sigma2         0.0837      0.003     31.467      0.000       0.078       0.089\n",
       "===================================================================================\n",
       "Ljung-Box (L1) (Q):                  12.82   Jarque-Bera (JB):               662.41\n",
       "Prob(Q):                              0.00   Prob(JB):                         0.00\n",
       "Heteroskedasticity (H):               1.08   Skew:                            -0.32\n",
       "Prob(H) (two-sided):                  0.54   Kurtosis:                         7.38\n",
       "===================================================================================\n",
       "\n",
       "Warnings:\n",
       "[1] Covariance matrix calculated using the outer product of gradients (complex-step).\n",
       "\"\"\""
      ]
     },
     "execution_count": 15,
     "metadata": {},
     "output_type": "execute_result"
    }
   ],
   "source": [
    "res.summary()"
   ]
  },
  {
   "cell_type": "markdown",
   "metadata": {
    "pycharm": {
     "name": "#%% md\n"
    }
   },
   "source": [
    "### Exercise 67\n",
    "Estimate an ARMA(1,1) on the term premium, and compute standard errors for the parameters."
   ]
  },
  {
   "cell_type": "code",
   "execution_count": 16,
   "metadata": {
    "pycharm": {
     "is_executing": false,
     "name": "#%%\n"
    }
   },
   "outputs": [
    {
     "data": {
      "text/plain": [
       "intercept    0.047452\n",
       "ar.L1        0.949754\n",
       "ma.L1        0.414889\n",
       "sigma2       0.056687\n",
       "dtype: float64"
      ]
     },
     "execution_count": 16,
     "metadata": {},
     "output_type": "execute_result"
    }
   ],
   "source": [
    "mod = tsa.SARIMAX(term, order=(1,0,1), trend='c')\n",
    "res = mod.fit()\n",
    "res.params"
   ]
  },
  {
   "cell_type": "code",
   "execution_count": 17,
   "metadata": {},
   "outputs": [
    {
     "data": {
      "text/plain": [
       "intercept    0.012017\n",
       "ar.L1        0.008142\n",
       "ma.L1        0.012343\n",
       "sigma2       0.001323\n",
       "dtype: float64"
      ]
     },
     "execution_count": 17,
     "metadata": {},
     "output_type": "execute_result"
    }
   ],
   "source": [
    "res.bse"
   ]
  },
  {
   "cell_type": "code",
   "execution_count": 18,
   "metadata": {
    "pycharm": {
     "is_executing": false,
     "name": "#%%\n"
    }
   },
   "outputs": [
    {
     "data": {
      "text/html": [
       "<table class=\"simpletable\">\n",
       "<caption>SARIMAX Results</caption>\n",
       "<tr>\n",
       "  <th>Dep. Variable:</th>         <td>TERM</td>       <th>  No. Observations:  </th>   <td>812</td>  \n",
       "</tr>\n",
       "<tr>\n",
       "  <th>Model:</th>           <td>SARIMAX(1, 0, 1)</td> <th>  Log Likelihood     </th> <td>11.526</td> \n",
       "</tr>\n",
       "<tr>\n",
       "  <th>Date:</th>            <td>Mon, 28 Dec 2020</td> <th>  AIC                </th> <td>-15.052</td>\n",
       "</tr>\n",
       "<tr>\n",
       "  <th>Time:</th>                <td>16:42:22</td>     <th>  BIC                </th>  <td>3.746</td> \n",
       "</tr>\n",
       "<tr>\n",
       "  <th>Sample:</th>             <td>04-01-1953</td>    <th>  HQIC               </th> <td>-7.836</td> \n",
       "</tr>\n",
       "<tr>\n",
       "  <th></th>                   <td>- 11-01-2020</td>   <th>                     </th>    <td> </td>   \n",
       "</tr>\n",
       "<tr>\n",
       "  <th>Covariance Type:</th>        <td>opg</td>       <th>                     </th>    <td> </td>   \n",
       "</tr>\n",
       "</table>\n",
       "<table class=\"simpletable\">\n",
       "<tr>\n",
       "      <td></td>         <th>coef</th>     <th>std err</th>      <th>z</th>      <th>P>|z|</th>  <th>[0.025</th>    <th>0.975]</th>  \n",
       "</tr>\n",
       "<tr>\n",
       "  <th>intercept</th> <td>    0.0475</td> <td>    0.012</td> <td>    3.949</td> <td> 0.000</td> <td>    0.024</td> <td>    0.071</td>\n",
       "</tr>\n",
       "<tr>\n",
       "  <th>ar.L1</th>     <td>    0.9498</td> <td>    0.008</td> <td>  116.642</td> <td> 0.000</td> <td>    0.934</td> <td>    0.966</td>\n",
       "</tr>\n",
       "<tr>\n",
       "  <th>ma.L1</th>     <td>    0.4149</td> <td>    0.012</td> <td>   33.614</td> <td> 0.000</td> <td>    0.391</td> <td>    0.439</td>\n",
       "</tr>\n",
       "<tr>\n",
       "  <th>sigma2</th>    <td>    0.0567</td> <td>    0.001</td> <td>   42.834</td> <td> 0.000</td> <td>    0.054</td> <td>    0.059</td>\n",
       "</tr>\n",
       "</table>\n",
       "<table class=\"simpletable\">\n",
       "<tr>\n",
       "  <th>Ljung-Box (L1) (Q):</th>     <td>0.61</td> <th>  Jarque-Bera (JB):  </th> <td>3780.24</td>\n",
       "</tr>\n",
       "<tr>\n",
       "  <th>Prob(Q):</th>                <td>0.43</td> <th>  Prob(JB):          </th>  <td>0.00</td>  \n",
       "</tr>\n",
       "<tr>\n",
       "  <th>Heteroskedasticity (H):</th> <td>0.73</td> <th>  Skew:              </th>  <td>0.61</td>  \n",
       "</tr>\n",
       "<tr>\n",
       "  <th>Prob(H) (two-sided):</th>    <td>0.01</td> <th>  Kurtosis:          </th>  <td>13.50</td> \n",
       "</tr>\n",
       "</table><br/><br/>Warnings:<br/>[1] Covariance matrix calculated using the outer product of gradients (complex-step)."
      ],
      "text/plain": [
       "<class 'statsmodels.iolib.summary.Summary'>\n",
       "\"\"\"\n",
       "                               SARIMAX Results                                \n",
       "==============================================================================\n",
       "Dep. Variable:                   TERM   No. Observations:                  812\n",
       "Model:               SARIMAX(1, 0, 1)   Log Likelihood                  11.526\n",
       "Date:                Mon, 28 Dec 2020   AIC                            -15.052\n",
       "Time:                        16:42:22   BIC                              3.746\n",
       "Sample:                    04-01-1953   HQIC                            -7.836\n",
       "                         - 11-01-2020                                         \n",
       "Covariance Type:                  opg                                         \n",
       "==============================================================================\n",
       "                 coef    std err          z      P>|z|      [0.025      0.975]\n",
       "------------------------------------------------------------------------------\n",
       "intercept      0.0475      0.012      3.949      0.000       0.024       0.071\n",
       "ar.L1          0.9498      0.008    116.642      0.000       0.934       0.966\n",
       "ma.L1          0.4149      0.012     33.614      0.000       0.391       0.439\n",
       "sigma2         0.0567      0.001     42.834      0.000       0.054       0.059\n",
       "===================================================================================\n",
       "Ljung-Box (L1) (Q):                   0.61   Jarque-Bera (JB):              3780.24\n",
       "Prob(Q):                              0.43   Prob(JB):                         0.00\n",
       "Heteroskedasticity (H):               0.73   Skew:                             0.61\n",
       "Prob(H) (two-sided):                  0.01   Kurtosis:                        13.50\n",
       "===================================================================================\n",
       "\n",
       "Warnings:\n",
       "[1] Covariance matrix calculated using the outer product of gradients (complex-step).\n",
       "\"\"\""
      ]
     },
     "execution_count": 18,
     "metadata": {},
     "output_type": "execute_result"
    }
   ],
   "source": [
    "res.summary()"
   ]
  },
  {
   "cell_type": "code",
   "execution_count": 6,
   "metadata": {},
   "outputs": [],
   "source": [
    "import warnings\n",
    "from statsmodels.tools.sm_exceptions import ConvergenceWarning\n",
    "warnings.simplefilter('ignore', ConvergenceWarning)"
   ]
  },
  {
   "cell_type": "code",
   "execution_count": null,
   "metadata": {},
   "outputs": [],
   "source": []
  }
 ],
 "metadata": {
  "kernelspec": {
   "display_name": "Python 3",
   "language": "python",
   "name": "python3"
  },
  "language_info": {
   "codemirror_mode": {
    "name": "ipython",
    "version": 3
   },
   "file_extension": ".py",
   "mimetype": "text/x-python",
   "name": "python",
   "nbconvert_exporter": "python",
   "pygments_lexer": "ipython3",
   "version": "3.7.9"
  },
  "pycharm": {
   "stem_cell": {
    "cell_type": "raw",
    "metadata": {
     "collapsed": false
    },
    "source": []
   }
  }
 },
 "nbformat": 4,
 "nbformat_minor": 4
}
