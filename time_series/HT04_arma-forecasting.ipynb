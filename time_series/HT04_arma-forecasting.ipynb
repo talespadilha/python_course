{
 "cells": [
  {
   "cell_type": "markdown",
   "metadata": {
    "pycharm": {
     "name": "#%% md\n"
    }
   },
   "source": [
    "## ARMA Modeling: Forecasting\n",
    "\n",
    "**Functions**\n",
    "\n",
    "`tsa.SARIMAX.forecast`\n",
    "\n",
    "### Exercise 70\n",
    "Produce 1-step forecasts from your preferred model in the previous exercise, as well\n",
    "as a random-walk model. \n",
    "\n",
    "1. Are the forecasts objectively accurate?\n",
    "2. Compare these forecasts to the random walk models using MSE and MAE.\n",
    "\n",
    "**Note**: Use 50% of the sample to estimate the model and 50% to evaluate it."
   ]
  },
  {
   "cell_type": "markdown",
   "metadata": {},
   "source": [
    "### Loading the Data"
   ]
  },
  {
   "cell_type": "markdown",
   "metadata": {},
   "source": [
    "We will continue to study the **term_premium** dataset. We will again focus on the **term** series."
   ]
  },
  {
   "cell_type": "markdown",
   "metadata": {},
   "source": [
    "Before we load the data, we need to check where our current directory is. To check/change our current directory, we use **os**:"
   ]
  },
  {
   "cell_type": "code",
   "execution_count": 2,
   "metadata": {},
   "outputs": [
    {
     "data": {
      "text/plain": [
       "'/Users/talespadilha/Documents/Oxford/Teaching/Financial Econometrics/20-21/python/python_course/time_series'"
      ]
     },
     "execution_count": 2,
     "metadata": {},
     "output_type": "execute_result"
    }
   ],
   "source": [
    "import os\n",
    "os.getcwd()"
   ]
  },
  {
   "cell_type": "code",
   "execution_count": 3,
   "metadata": {},
   "outputs": [
    {
     "data": {
      "text/plain": [
       "'/Users/talespadilha/Documents/Oxford/Teaching/Financial Econometrics/20-21/python/python-introduction/course/autumn'"
      ]
     },
     "execution_count": 3,
     "metadata": {},
     "output_type": "execute_result"
    }
   ],
   "source": [
    "os.chdir('/Users/talespadilha/Documents/Oxford/Teaching/Financial Econometrics/20-21/python/python-introduction/course/autumn')\n",
    "os.getcwd() "
   ]
  },
  {
   "cell_type": "code",
   "execution_count": 4,
   "metadata": {
    "pycharm": {
     "is_executing": false,
     "name": "#%%\n"
    }
   },
   "outputs": [],
   "source": [
    "import pandas as pd"
   ]
  },
  {
   "cell_type": "code",
   "execution_count": 5,
   "metadata": {},
   "outputs": [
    {
     "data": {
      "text/plain": [
       "DATE\n",
       "1953-04-01    0.47\n",
       "1953-05-01    0.57\n",
       "1953-06-01    0.66\n",
       "1953-07-01    0.55\n",
       "1953-08-01    0.67\n",
       "Freq: MS, Name: TERM, dtype: float64"
      ]
     },
     "execution_count": 5,
     "metadata": {},
     "output_type": "execute_result"
    }
   ],
   "source": [
    "data = pd.read_hdf(\"data/term-premium.h5\", \"term_premium\")\n",
    "term = data[\"TERM\"]\n",
    "term.head()"
   ]
  },
  {
   "cell_type": "markdown",
   "metadata": {},
   "source": [
    "### Fitting the Model with the First Half"
   ]
  },
  {
   "cell_type": "code",
   "execution_count": 6,
   "metadata": {},
   "outputs": [],
   "source": [
    "import statsmodels.tsa.api as tsa"
   ]
  },
  {
   "cell_type": "code",
   "execution_count": 7,
   "metadata": {
    "pycharm": {
     "is_executing": false,
     "name": "#%%\n"
    }
   },
   "outputs": [
    {
     "data": {
      "text/html": [
       "<table class=\"simpletable\">\n",
       "<caption>SARIMAX Results</caption>\n",
       "<tr>\n",
       "  <th>Dep. Variable:</th>         <td>TERM</td>       <th>  No. Observations:  </th>   <td>406</td>  \n",
       "</tr>\n",
       "<tr>\n",
       "  <th>Model:</th>           <td>SARIMAX(1, 0, 1)</td> <th>  Log Likelihood     </th> <td>-73.462</td>\n",
       "</tr>\n",
       "<tr>\n",
       "  <th>Date:</th>            <td>Wed, 17 Feb 2021</td> <th>  AIC                </th> <td>154.924</td>\n",
       "</tr>\n",
       "<tr>\n",
       "  <th>Time:</th>                <td>15:32:03</td>     <th>  BIC                </th> <td>170.949</td>\n",
       "</tr>\n",
       "<tr>\n",
       "  <th>Sample:</th>             <td>04-01-1953</td>    <th>  HQIC               </th> <td>161.266</td>\n",
       "</tr>\n",
       "<tr>\n",
       "  <th></th>                   <td>- 01-01-1987</td>   <th>                     </th>    <td> </td>   \n",
       "</tr>\n",
       "<tr>\n",
       "  <th>Covariance Type:</th>        <td>opg</td>       <th>                     </th>    <td> </td>   \n",
       "</tr>\n",
       "</table>\n",
       "<table class=\"simpletable\">\n",
       "<tr>\n",
       "      <td></td>         <th>coef</th>     <th>std err</th>      <th>z</th>      <th>P>|z|</th>  <th>[0.025</th>    <th>0.975]</th>  \n",
       "</tr>\n",
       "<tr>\n",
       "  <th>intercept</th> <td>    0.0569</td> <td>    0.022</td> <td>    2.588</td> <td> 0.010</td> <td>    0.014</td> <td>    0.100</td>\n",
       "</tr>\n",
       "<tr>\n",
       "  <th>ar.L1</th>     <td>    0.8944</td> <td>    0.017</td> <td>   53.797</td> <td> 0.000</td> <td>    0.862</td> <td>    0.927</td>\n",
       "</tr>\n",
       "<tr>\n",
       "  <th>ma.L1</th>     <td>    0.4603</td> <td>    0.020</td> <td>   22.922</td> <td> 0.000</td> <td>    0.421</td> <td>    0.500</td>\n",
       "</tr>\n",
       "<tr>\n",
       "  <th>sigma2</th>    <td>    0.0836</td> <td>    0.003</td> <td>   26.705</td> <td> 0.000</td> <td>    0.077</td> <td>    0.090</td>\n",
       "</tr>\n",
       "</table>\n",
       "<table class=\"simpletable\">\n",
       "<tr>\n",
       "  <th>Ljung-Box (L1) (Q):</th>     <td>0.20</td> <th>  Jarque-Bera (JB):  </th> <td>933.37</td>\n",
       "</tr>\n",
       "<tr>\n",
       "  <th>Prob(Q):</th>                <td>0.66</td> <th>  Prob(JB):          </th>  <td>0.00</td> \n",
       "</tr>\n",
       "<tr>\n",
       "  <th>Heteroskedasticity (H):</th> <td>6.70</td> <th>  Skew:              </th>  <td>0.31</td> \n",
       "</tr>\n",
       "<tr>\n",
       "  <th>Prob(H) (two-sided):</th>    <td>0.00</td> <th>  Kurtosis:          </th>  <td>10.40</td>\n",
       "</tr>\n",
       "</table><br/><br/>Warnings:<br/>[1] Covariance matrix calculated using the outer product of gradients (complex-step)."
      ],
      "text/plain": [
       "<class 'statsmodels.iolib.summary.Summary'>\n",
       "\"\"\"\n",
       "                               SARIMAX Results                                \n",
       "==============================================================================\n",
       "Dep. Variable:                   TERM   No. Observations:                  406\n",
       "Model:               SARIMAX(1, 0, 1)   Log Likelihood                 -73.462\n",
       "Date:                Wed, 17 Feb 2021   AIC                            154.924\n",
       "Time:                        15:32:03   BIC                            170.949\n",
       "Sample:                    04-01-1953   HQIC                           161.266\n",
       "                         - 01-01-1987                                         \n",
       "Covariance Type:                  opg                                         \n",
       "==============================================================================\n",
       "                 coef    std err          z      P>|z|      [0.025      0.975]\n",
       "------------------------------------------------------------------------------\n",
       "intercept      0.0569      0.022      2.588      0.010       0.014       0.100\n",
       "ar.L1          0.8944      0.017     53.797      0.000       0.862       0.927\n",
       "ma.L1          0.4603      0.020     22.922      0.000       0.421       0.500\n",
       "sigma2         0.0836      0.003     26.705      0.000       0.077       0.090\n",
       "===================================================================================\n",
       "Ljung-Box (L1) (Q):                   0.20   Jarque-Bera (JB):               933.37\n",
       "Prob(Q):                              0.66   Prob(JB):                         0.00\n",
       "Heteroskedasticity (H):               6.70   Skew:                             0.31\n",
       "Prob(H) (two-sided):                  0.00   Kurtosis:                        10.40\n",
       "===================================================================================\n",
       "\n",
       "Warnings:\n",
       "[1] Covariance matrix calculated using the outer product of gradients (complex-step).\n",
       "\"\"\""
      ]
     },
     "execution_count": 7,
     "metadata": {},
     "output_type": "execute_result"
    }
   ],
   "source": [
    "nobs = term.shape[0]\n",
    "half = nobs // 2\n",
    "mod = tsa.SARIMAX(term.iloc[:half], order=(1, 0, 1), trend=\"c\")\n",
    "res = mod.fit()\n",
    "res.summary()"
   ]
  },
  {
   "cell_type": "markdown",
   "metadata": {},
   "source": [
    "### Using the Estimated Parameters to Forecast"
   ]
  },
  {
   "cell_type": "markdown",
   "metadata": {},
   "source": [
    "We are now going to use the parameters estimated using the first half of the dataset to forecast. In order to do this, we will use the **tsa.statespace.SARIMAX** rather than the **tsa.SARIMAX**."
   ]
  },
  {
   "cell_type": "code",
   "execution_count": 8,
   "metadata": {},
   "outputs": [],
   "source": [
    "# Setting the model\n",
    "mod = tsa.statespace.SARIMAX(term, order=(1,0,1), trend=\"c\")"
   ]
  },
  {
   "cell_type": "code",
   "execution_count": 9,
   "metadata": {},
   "outputs": [],
   "source": [
    "# Using the parameters from the first half\n",
    "forecast_res = mod.filter(res.params)"
   ]
  },
  {
   "cell_type": "code",
   "execution_count": 10,
   "metadata": {},
   "outputs": [],
   "source": [
    "# Forecasting with the model\n",
    "fcast = forecast_res.predict()"
   ]
  },
  {
   "cell_type": "code",
   "execution_count": 11,
   "metadata": {
    "pycharm": {
     "is_executing": false,
     "name": "#%%\n"
    }
   },
   "outputs": [],
   "source": [
    "# Saving the erros\n",
    "errors = term - fcast\n",
    "errors_oos = errors.iloc[half:]"
   ]
  },
  {
   "cell_type": "markdown",
   "metadata": {},
   "source": [
    "### Plotting the Residuals"
   ]
  },
  {
   "cell_type": "code",
   "execution_count": 12,
   "metadata": {},
   "outputs": [],
   "source": [
    "import matplotlib.pyplot as plt\n",
    "import seaborn as sns"
   ]
  },
  {
   "cell_type": "code",
   "execution_count": 13,
   "metadata": {
    "pycharm": {
     "is_executing": false,
     "name": "#%%\n"
    }
   },
   "outputs": [
    {
     "data": {
      "image/png": "[encoded data removed]",
      "text/plain": [
       "<Figure size 1152x432 with 2 Axes>"
      ]
     },
     "metadata": {},
     "output_type": "display_data"
    }
   ],
   "source": [
    "# Setting what we will plot\n",
    "both = pd.concat([term, fcast],1)\n",
    "both.columns = [\"TERM\", \"One-step Ahead\"]\n",
    "both_oos = both.iloc[half:]\n",
    "# Building the plot (full sample)\n",
    "sns.set_style(\"darkgrid\")\n",
    "plt.rc(\"figure\", figsize=(16,6))\n",
    "fig, axes = plt.subplots(2,1)\n",
    "both_oos.plot.line(ax=axes[0])\n",
    "axes[0].set_xticklabels([])\n",
    "axes[0].set_xlabel(\"\")\n",
    "axes[0].set_title(\"Term and ARMA(1,1) 1-step Forecast\")\n",
    "errors_oos.plot.line(ax=axes[1], linestyle=\"none\", marker=\"x\")\n",
    "axes[1].set_title(\"ARMA(1,1) 1-step Forecast Errors\")\n",
    "fig.tight_layout(pad=1.0)"
   ]
  },
  {
   "cell_type": "markdown",
   "metadata": {},
   "source": [
    "### Forecast Accuracy"
   ]
  },
  {
   "cell_type": "markdown",
   "metadata": {},
   "source": [
    "We will use the Mincer-Zarnowitz framework to evaluate the accuracy of our forecasts. \n",
    "\n",
    "Let's first recall the idea Mincer-Zarnowitz framework. Let $\\{y_{t+1}\\}$ be a time series process and $\\{\\hat{y}_{t+1|t}\\}$ a model forecast of this process. Consider the following:\n",
    "\n",
    "$     y_{t+1} =  \\alpha + \\beta \\hat{y}_{t+1|t} + \\mu_{t+1} $\n",
    "\n",
    "If $\\{\\hat{y}_{t+1|t}\\}$ is a good forecast, what values should we expect for $\\alpha$ and $\\beta$? \n",
    "\n",
    "- $\\alpha = 0$\n",
    "- $\\beta = 1$\n",
    "\n",
    "But notice that if we write:\n",
    "\n",
    "$ y_{t+1} - \\hat{y}_{t+1|t} =  \\gamma_0 + \\gamma_1 \\hat{y}_{t+1|t} + \\mu_{t+1} $\n",
    "\n",
    "$ \\epsilon_{t+1}  =  \\gamma_0 + \\gamma_1 \\hat{y}_{t+1|t} + \\mu_{t+1} $\n",
    "\n",
    "The analysis is simplified and we can test if $\\hat{y}_{t+1|t}$ is a good forecast simply by testing:\n",
    "\n",
    "- $ H_0: \\gamma_0 = \\gamma_1 = 0 $\n",
    "\n",
    "And this is precisely what we are going to test. "
   ]
  },
  {
   "cell_type": "code",
   "execution_count": 14,
   "metadata": {},
   "outputs": [],
   "source": [
    "import numpy as np\n",
    "import statsmodels.api as sm"
   ]
  },
  {
   "cell_type": "code",
   "execution_count": 15,
   "metadata": {
    "pycharm": {
     "is_executing": false,
     "name": "#%%\n"
    }
   },
   "outputs": [
    {
     "data": {
      "text/html": [
       "<table class=\"simpletable\">\n",
       "<caption>OLS Regression Results</caption>\n",
       "<tr>\n",
       "  <th>Dep. Variable:</th>            <td>y</td>        <th>  R-squared:         </th> <td>   0.099</td>\n",
       "</tr>\n",
       "<tr>\n",
       "  <th>Model:</th>                   <td>OLS</td>       <th>  Adj. R-squared:    </th> <td>   0.097</td>\n",
       "</tr>\n",
       "<tr>\n",
       "  <th>Method:</th>             <td>Least Squares</td>  <th>  F-statistic:       </th> <td>   44.32</td>\n",
       "</tr>\n",
       "<tr>\n",
       "  <th>Date:</th>             <td>Wed, 17 Feb 2021</td> <th>  Prob (F-statistic):</th> <td>9.13e-11</td>\n",
       "</tr>\n",
       "<tr>\n",
       "  <th>Time:</th>                 <td>15:32:09</td>     <th>  Log-Likelihood:    </th> <td>  148.41</td>\n",
       "</tr>\n",
       "<tr>\n",
       "  <th>No. Observations:</th>      <td>   406</td>      <th>  AIC:               </th> <td>  -292.8</td>\n",
       "</tr>\n",
       "<tr>\n",
       "  <th>Df Residuals:</th>          <td>   404</td>      <th>  BIC:               </th> <td>  -284.8</td>\n",
       "</tr>\n",
       "<tr>\n",
       "  <th>Df Model:</th>              <td>     1</td>      <th>                     </th>     <td> </td>   \n",
       "</tr>\n",
       "<tr>\n",
       "  <th>Covariance Type:</th>      <td>nonrobust</td>    <th>                     </th>     <td> </td>   \n",
       "</tr>\n",
       "</table>\n",
       "<table class=\"simpletable\">\n",
       "<tr>\n",
       "      <td></td>        <th>coef</th>     <th>std err</th>      <th>t</th>      <th>P>|t|</th>  <th>[0.025</th>    <th>0.975]</th>  \n",
       "</tr>\n",
       "<tr>\n",
       "  <th>Const</th>    <td>   -0.0158</td> <td>    0.014</td> <td>   -1.107</td> <td> 0.269</td> <td>   -0.044</td> <td>    0.012</td>\n",
       "</tr>\n",
       "<tr>\n",
       "  <th>Forecast</th> <td>    0.0575</td> <td>    0.009</td> <td>    6.657</td> <td> 0.000</td> <td>    0.041</td> <td>    0.075</td>\n",
       "</tr>\n",
       "</table>\n",
       "<table class=\"simpletable\">\n",
       "<tr>\n",
       "  <th>Omnibus:</th>       <td>27.934</td> <th>  Durbin-Watson:     </th> <td>   2.270</td>\n",
       "</tr>\n",
       "<tr>\n",
       "  <th>Prob(Omnibus):</th> <td> 0.000</td> <th>  Jarque-Bera (JB):  </th> <td>  60.025</td>\n",
       "</tr>\n",
       "<tr>\n",
       "  <th>Skew:</th>          <td> 0.369</td> <th>  Prob(JB):          </th> <td>9.24e-14</td>\n",
       "</tr>\n",
       "<tr>\n",
       "  <th>Kurtosis:</th>      <td> 4.733</td> <th>  Cond. No.          </th> <td>    3.57</td>\n",
       "</tr>\n",
       "</table><br/><br/>Notes:<br/>[1] Standard Errors assume that the covariance matrix of the errors is correctly specified."
      ],
      "text/plain": [
       "<class 'statsmodels.iolib.summary.Summary'>\n",
       "\"\"\"\n",
       "                            OLS Regression Results                            \n",
       "==============================================================================\n",
       "Dep. Variable:                      y   R-squared:                       0.099\n",
       "Model:                            OLS   Adj. R-squared:                  0.097\n",
       "Method:                 Least Squares   F-statistic:                     44.32\n",
       "Date:                Wed, 17 Feb 2021   Prob (F-statistic):           9.13e-11\n",
       "Time:                        15:32:09   Log-Likelihood:                 148.41\n",
       "No. Observations:                 406   AIC:                            -292.8\n",
       "Df Residuals:                     404   BIC:                            -284.8\n",
       "Df Model:                           1                                         \n",
       "Covariance Type:            nonrobust                                         \n",
       "==============================================================================\n",
       "                 coef    std err          t      P>|t|      [0.025      0.975]\n",
       "------------------------------------------------------------------------------\n",
       "Const         -0.0158      0.014     -1.107      0.269      -0.044       0.012\n",
       "Forecast       0.0575      0.009      6.657      0.000       0.041       0.075\n",
       "==============================================================================\n",
       "Omnibus:                       27.934   Durbin-Watson:                   2.270\n",
       "Prob(Omnibus):                  0.000   Jarque-Bera (JB):               60.025\n",
       "Skew:                           0.369   Prob(JB):                     9.24e-14\n",
       "Kurtosis:                       4.733   Cond. No.                         3.57\n",
       "==============================================================================\n",
       "\n",
       "Notes:\n",
       "[1] Standard Errors assume that the covariance matrix of the errors is correctly specified.\n",
       "\"\"\""
      ]
     },
     "execution_count": 15,
     "metadata": {},
     "output_type": "execute_result"
    }
   ],
   "source": [
    "# Fitting the MZ Regression\n",
    "mz_reg = sm.add_constant(fcast.iloc[half:])\n",
    "mz_reg.columns = [\"Const\", \"Forecast\"]\n",
    "res = sm.OLS(errors_oos, mz_reg).fit()\n",
    "res.summary()"
   ]
  },
  {
   "cell_type": "markdown",
   "metadata": {},
   "source": [
    "Now formally testing the $H_0$ from the MZ test:"
   ]
  },
  {
   "cell_type": "code",
   "execution_count": 16,
   "metadata": {
    "pycharm": {
     "is_executing": false,
     "name": "#%%\n"
    }
   },
   "outputs": [
    {
     "data": {
      "text/plain": [
       "<class 'statsmodels.stats.contrast.ContrastResults'>\n",
       "<F test: F=array([[48.91280304]]), p=9.492192943713441e-20, df_denom=404, df_num=2>"
      ]
     },
     "execution_count": 16,
     "metadata": {},
     "output_type": "execute_result"
    }
   ],
   "source": [
    "# MZ test\n",
    "r_matrix = np.eye(2)\n",
    "res.wald_test(r_matrix)"
   ]
  },
  {
   "cell_type": "code",
   "execution_count": 22,
   "metadata": {},
   "outputs": [
    {
     "data": {
      "text/plain": [
       "array([[1., 0.],\n",
       "       [0., 1.]])"
      ]
     },
     "execution_count": 22,
     "metadata": {},
     "output_type": "execute_result"
    }
   ],
   "source": [
    "r_matrix"
   ]
  },
  {
   "cell_type": "markdown",
   "metadata": {},
   "source": [
    "### Random Walk Model"
   ]
  },
  {
   "cell_type": "code",
   "execution_count": 16,
   "metadata": {},
   "outputs": [],
   "source": [
    "# Constructing the RW forecasts\n",
    "rw_forecast = term.shift(1)"
   ]
  },
  {
   "cell_type": "code",
   "execution_count": 17,
   "metadata": {
    "pycharm": {
     "is_executing": false,
     "name": "#%%\n"
    }
   },
   "outputs": [
    {
     "data": {
      "text/html": [
       "<table class=\"simpletable\">\n",
       "<caption>OLS Regression Results</caption>\n",
       "<tr>\n",
       "  <th>Dep. Variable:</th>          <td>TERM</td>       <th>  R-squared:         </th> <td>   0.007</td>\n",
       "</tr>\n",
       "<tr>\n",
       "  <th>Model:</th>                   <td>OLS</td>       <th>  Adj. R-squared:    </th> <td>   0.004</td>\n",
       "</tr>\n",
       "<tr>\n",
       "  <th>Method:</th>             <td>Least Squares</td>  <th>  F-statistic:       </th> <td>   2.719</td>\n",
       "</tr>\n",
       "<tr>\n",
       "  <th>Date:</th>             <td>Sun, 10 Jan 2021</td> <th>  Prob (F-statistic):</th>  <td>0.0999</td> \n",
       "</tr>\n",
       "<tr>\n",
       "  <th>Time:</th>                 <td>19:38:27</td>     <th>  Log-Likelihood:    </th> <td>  132.82</td>\n",
       "</tr>\n",
       "<tr>\n",
       "  <th>No. Observations:</th>      <td>   406</td>      <th>  AIC:               </th> <td>  -261.6</td>\n",
       "</tr>\n",
       "<tr>\n",
       "  <th>Df Residuals:</th>          <td>   404</td>      <th>  BIC:               </th> <td>  -253.6</td>\n",
       "</tr>\n",
       "<tr>\n",
       "  <th>Df Model:</th>              <td>     1</td>      <th>                     </th>     <td> </td>   \n",
       "</tr>\n",
       "<tr>\n",
       "  <th>Covariance Type:</th>      <td>nonrobust</td>    <th>                     </th>     <td> </td>   \n",
       "</tr>\n",
       "</table>\n",
       "<table class=\"simpletable\">\n",
       "<tr>\n",
       "            <td></td>              <th>coef</th>     <th>std err</th>      <th>t</th>      <th>P>|t|</th>  <th>[0.025</th>    <th>0.975]</th>  \n",
       "</tr>\n",
       "<tr>\n",
       "  <th>Const</th>                <td>    0.0180</td> <td>    0.015</td> <td>    1.232</td> <td> 0.218</td> <td>   -0.011</td> <td>    0.047</td>\n",
       "</tr>\n",
       "<tr>\n",
       "  <th>One-step RW Forecast</th> <td>   -0.0138</td> <td>    0.008</td> <td>   -1.649</td> <td> 0.100</td> <td>   -0.030</td> <td>    0.003</td>\n",
       "</tr>\n",
       "</table>\n",
       "<table class=\"simpletable\">\n",
       "<tr>\n",
       "  <th>Omnibus:</th>       <td>40.917</td> <th>  Durbin-Watson:     </th> <td>   1.429</td>\n",
       "</tr>\n",
       "<tr>\n",
       "  <th>Prob(Omnibus):</th> <td> 0.000</td> <th>  Jarque-Bera (JB):  </th> <td> 105.791</td>\n",
       "</tr>\n",
       "<tr>\n",
       "  <th>Skew:</th>          <td> 0.486</td> <th>  Prob(JB):          </th> <td>1.07e-23</td>\n",
       "</tr>\n",
       "<tr>\n",
       "  <th>Kurtosis:</th>      <td> 5.304</td> <th>  Cond. No.          </th> <td>    3.61</td>\n",
       "</tr>\n",
       "</table><br/><br/>Notes:<br/>[1] Standard Errors assume that the covariance matrix of the errors is correctly specified."
      ],
      "text/plain": [
       "<class 'statsmodels.iolib.summary.Summary'>\n",
       "\"\"\"\n",
       "                            OLS Regression Results                            \n",
       "==============================================================================\n",
       "Dep. Variable:                   TERM   R-squared:                       0.007\n",
       "Model:                            OLS   Adj. R-squared:                  0.004\n",
       "Method:                 Least Squares   F-statistic:                     2.719\n",
       "Date:                Sun, 10 Jan 2021   Prob (F-statistic):             0.0999\n",
       "Time:                        19:38:27   Log-Likelihood:                 132.82\n",
       "No. Observations:                 406   AIC:                            -261.6\n",
       "Df Residuals:                     404   BIC:                            -253.6\n",
       "Df Model:                           1                                         \n",
       "Covariance Type:            nonrobust                                         \n",
       "========================================================================================\n",
       "                           coef    std err          t      P>|t|      [0.025      0.975]\n",
       "----------------------------------------------------------------------------------------\n",
       "Const                    0.0180      0.015      1.232      0.218      -0.011       0.047\n",
       "One-step RW Forecast    -0.0138      0.008     -1.649      0.100      -0.030       0.003\n",
       "==============================================================================\n",
       "Omnibus:                       40.917   Durbin-Watson:                   1.429\n",
       "Prob(Omnibus):                  0.000   Jarque-Bera (JB):              105.791\n",
       "Skew:                           0.486   Prob(JB):                     1.07e-23\n",
       "Kurtosis:                       5.304   Cond. No.                         3.61\n",
       "==============================================================================\n",
       "\n",
       "Notes:\n",
       "[1] Standard Errors assume that the covariance matrix of the errors is correctly specified.\n",
       "\"\"\""
      ]
     },
     "execution_count": 17,
     "metadata": {},
     "output_type": "execute_result"
    }
   ],
   "source": [
    "# Fitting the MZ Regression\n",
    "both = pd.concat([term, rw_forecast],1)\n",
    "rw_error = term - rw_forecast\n",
    "rw_oos_error = rw_error.iloc[half:]\n",
    "rw_forecast = sm.add_constant(rw_forecast)\n",
    "rw_forecast = rw_forecast.iloc[half:]\n",
    "rw_forecast.columns = [\"Const\", \"One-step RW Forecast\"]\n",
    "res = sm.OLS(rw_oos_error, rw_forecast).fit()\n",
    "res.summary()"
   ]
  },
  {
   "cell_type": "code",
   "execution_count": 24,
   "metadata": {
    "pycharm": {
     "is_executing": false,
     "name": "#%%\n"
    }
   },
   "outputs": [
    {
     "data": {
      "text/plain": [
       "<class 'statsmodels.stats.contrast.ContrastResults'>\n",
       "<F test: F=array([[48.91280304]]), p=9.492192943713441e-20, df_denom=404, df_num=2>"
      ]
     },
     "execution_count": 24,
     "metadata": {},
     "output_type": "execute_result"
    }
   ],
   "source": [
    "# MZ test\n",
    "res.wald_test(r_matrix)"
   ]
  },
  {
   "cell_type": "markdown",
   "metadata": {},
   "source": [
    "It looks like, overall, the RW one step ahead forecasts are more accurate than our ARMA(1,1) forecasts according to the MZ framework :("
   ]
  },
  {
   "cell_type": "markdown",
   "metadata": {},
   "source": [
    "### Calculating MSE and MAE"
   ]
  },
  {
   "cell_type": "code",
   "execution_count": 19,
   "metadata": {
    "pycharm": {
     "is_executing": false,
     "name": "#%%\n"
    }
   },
   "outputs": [
    {
     "data": {
      "text/html": [
       "<div>\n",
       "<style scoped>\n",
       "    .dataframe tbody tr th:only-of-type {\n",
       "        vertical-align: middle;\n",
       "    }\n",
       "\n",
       "    .dataframe tbody tr th {\n",
       "        vertical-align: top;\n",
       "    }\n",
       "\n",
       "    .dataframe thead th {\n",
       "        text-align: right;\n",
       "    }\n",
       "</style>\n",
       "<table border=\"1\" class=\"dataframe\">\n",
       "  <thead>\n",
       "    <tr style=\"text-align: right;\">\n",
       "      <th></th>\n",
       "      <th>ARMA</th>\n",
       "      <th>RW</th>\n",
       "    </tr>\n",
       "  </thead>\n",
       "  <tbody>\n",
       "    <tr>\n",
       "      <th>MSE</th>\n",
       "      <td>0.035010</td>\n",
       "      <td>0.030642</td>\n",
       "    </tr>\n",
       "    <tr>\n",
       "      <th>MAE</th>\n",
       "      <td>0.138425</td>\n",
       "      <td>0.129039</td>\n",
       "    </tr>\n",
       "  </tbody>\n",
       "</table>\n",
       "</div>"
      ],
      "text/plain": [
       "         ARMA        RW\n",
       "MSE  0.035010  0.030642\n",
       "MAE  0.138425  0.129039"
      ]
     },
     "execution_count": 19,
     "metadata": {},
     "output_type": "execute_result"
    }
   ],
   "source": [
    "errors = pd.DataFrame({\"ARMA\": errors_oos, \"RW\": rw_oos_error}).dropna()\n",
    "pd.DataFrame([(errors ** 2).mean(), errors.abs().mean()], index=['MSE', 'MAE'])"
   ]
  },
  {
   "cell_type": "markdown",
   "metadata": {},
   "source": [
    "The better performance of the RW model is further confirmed by looking at the MSE and MAE from both models :("
   ]
  },
  {
   "cell_type": "markdown",
   "metadata": {},
   "source": [
    "### Exercise 71\n",
    "\n",
    "Produce 3-step forecasts from the models selected in the previous exercises as well as a random walk model.\n",
    "\n",
    "1. Compare these forecasts to the random walk models using MSE and MAE.\n"
   ]
  },
  {
   "cell_type": "markdown",
   "metadata": {},
   "source": [
    "### Fitting the Model with the First Half"
   ]
  },
  {
   "cell_type": "code",
   "execution_count": 20,
   "metadata": {
    "pycharm": {
     "is_executing": false,
     "name": "#%%\n"
    }
   },
   "outputs": [
    {
     "data": {
      "text/html": [
       "<table class=\"simpletable\">\n",
       "<caption>SARIMAX Results</caption>\n",
       "<tr>\n",
       "  <th>Dep. Variable:</th>         <td>TERM</td>       <th>  No. Observations:  </th>   <td>406</td>  \n",
       "</tr>\n",
       "<tr>\n",
       "  <th>Model:</th>           <td>SARIMAX(1, 0, 1)</td> <th>  Log Likelihood     </th> <td>-73.462</td>\n",
       "</tr>\n",
       "<tr>\n",
       "  <th>Date:</th>            <td>Sun, 10 Jan 2021</td> <th>  AIC                </th> <td>154.924</td>\n",
       "</tr>\n",
       "<tr>\n",
       "  <th>Time:</th>                <td>19:38:31</td>     <th>  BIC                </th> <td>170.949</td>\n",
       "</tr>\n",
       "<tr>\n",
       "  <th>Sample:</th>             <td>04-01-1953</td>    <th>  HQIC               </th> <td>161.266</td>\n",
       "</tr>\n",
       "<tr>\n",
       "  <th></th>                   <td>- 01-01-1987</td>   <th>                     </th>    <td> </td>   \n",
       "</tr>\n",
       "<tr>\n",
       "  <th>Covariance Type:</th>        <td>opg</td>       <th>                     </th>    <td> </td>   \n",
       "</tr>\n",
       "</table>\n",
       "<table class=\"simpletable\">\n",
       "<tr>\n",
       "      <td></td>         <th>coef</th>     <th>std err</th>      <th>z</th>      <th>P>|z|</th>  <th>[0.025</th>    <th>0.975]</th>  \n",
       "</tr>\n",
       "<tr>\n",
       "  <th>intercept</th> <td>    0.0569</td> <td>    0.022</td> <td>    2.588</td> <td> 0.010</td> <td>    0.014</td> <td>    0.100</td>\n",
       "</tr>\n",
       "<tr>\n",
       "  <th>ar.L1</th>     <td>    0.8944</td> <td>    0.017</td> <td>   53.797</td> <td> 0.000</td> <td>    0.862</td> <td>    0.927</td>\n",
       "</tr>\n",
       "<tr>\n",
       "  <th>ma.L1</th>     <td>    0.4603</td> <td>    0.020</td> <td>   22.922</td> <td> 0.000</td> <td>    0.421</td> <td>    0.500</td>\n",
       "</tr>\n",
       "<tr>\n",
       "  <th>sigma2</th>    <td>    0.0836</td> <td>    0.003</td> <td>   26.705</td> <td> 0.000</td> <td>    0.077</td> <td>    0.090</td>\n",
       "</tr>\n",
       "</table>\n",
       "<table class=\"simpletable\">\n",
       "<tr>\n",
       "  <th>Ljung-Box (L1) (Q):</th>     <td>0.20</td> <th>  Jarque-Bera (JB):  </th> <td>933.37</td>\n",
       "</tr>\n",
       "<tr>\n",
       "  <th>Prob(Q):</th>                <td>0.66</td> <th>  Prob(JB):          </th>  <td>0.00</td> \n",
       "</tr>\n",
       "<tr>\n",
       "  <th>Heteroskedasticity (H):</th> <td>6.70</td> <th>  Skew:              </th>  <td>0.31</td> \n",
       "</tr>\n",
       "<tr>\n",
       "  <th>Prob(H) (two-sided):</th>    <td>0.00</td> <th>  Kurtosis:          </th>  <td>10.40</td>\n",
       "</tr>\n",
       "</table><br/><br/>Warnings:<br/>[1] Covariance matrix calculated using the outer product of gradients (complex-step)."
      ],
      "text/plain": [
       "<class 'statsmodels.iolib.summary.Summary'>\n",
       "\"\"\"\n",
       "                               SARIMAX Results                                \n",
       "==============================================================================\n",
       "Dep. Variable:                   TERM   No. Observations:                  406\n",
       "Model:               SARIMAX(1, 0, 1)   Log Likelihood                 -73.462\n",
       "Date:                Sun, 10 Jan 2021   AIC                            154.924\n",
       "Time:                        19:38:31   BIC                            170.949\n",
       "Sample:                    04-01-1953   HQIC                           161.266\n",
       "                         - 01-01-1987                                         \n",
       "Covariance Type:                  opg                                         \n",
       "==============================================================================\n",
       "                 coef    std err          z      P>|z|      [0.025      0.975]\n",
       "------------------------------------------------------------------------------\n",
       "intercept      0.0569      0.022      2.588      0.010       0.014       0.100\n",
       "ar.L1          0.8944      0.017     53.797      0.000       0.862       0.927\n",
       "ma.L1          0.4603      0.020     22.922      0.000       0.421       0.500\n",
       "sigma2         0.0836      0.003     26.705      0.000       0.077       0.090\n",
       "===================================================================================\n",
       "Ljung-Box (L1) (Q):                   0.20   Jarque-Bera (JB):               933.37\n",
       "Prob(Q):                              0.66   Prob(JB):                         0.00\n",
       "Heteroskedasticity (H):               6.70   Skew:                             0.31\n",
       "Prob(H) (two-sided):                  0.00   Kurtosis:                        10.40\n",
       "===================================================================================\n",
       "\n",
       "Warnings:\n",
       "[1] Covariance matrix calculated using the outer product of gradients (complex-step).\n",
       "\"\"\""
      ]
     },
     "execution_count": 20,
     "metadata": {},
     "output_type": "execute_result"
    }
   ],
   "source": [
    "mod = tsa.SARIMAX(term.iloc[:half], order=(1, 0, 1), trend=\"c\")\n",
    "res = mod.fit()\n",
    "res.summary()"
   ]
  },
  {
   "cell_type": "markdown",
   "metadata": {},
   "source": [
    "### Using the Estimated Parameters to Forecast"
   ]
  },
  {
   "cell_type": "code",
   "execution_count": 21,
   "metadata": {},
   "outputs": [],
   "source": [
    "mod = tsa.statespace.SARIMAX(term, order=(1,0,1), trend=\"c\")\n",
    "forecast_res = mod.filter(res.params)"
   ]
  },
  {
   "cell_type": "code",
   "execution_count": 22,
   "metadata": {
    "pycharm": {
     "is_executing": false,
     "name": "#%%\n"
    }
   },
   "outputs": [],
   "source": [
    "# Constructing the 3-steps ahead forecasts\n",
    "three_step = {}\n",
    "for t in range(half, nobs):\n",
    "    fcasts = forecast_res.predict(t, t+2, dynamic=True)\n",
    "    key = fcasts.index[-1]\n",
    "    value = fcasts.iloc[-1]\n",
    "    three_step[key] = value\n",
    "three_step = pd.Series(three_step)"
   ]
  },
  {
   "cell_type": "code",
   "execution_count": 23,
   "metadata": {
    "pycharm": {
     "is_executing": false,
     "name": "#%%\n"
    }
   },
   "outputs": [
    {
     "data": {
      "text/plain": [
       "1987-04-01    0.377268\n",
       "1987-05-01    0.534908\n",
       "1987-06-01    0.569635\n",
       "1987-07-01    0.393922\n",
       "1987-08-01    0.415522\n",
       "                ...   \n",
       "2020-07-01    0.072935\n",
       "2020-08-01   -0.053012\n",
       "2020-09-01    0.014630\n",
       "2020-10-01    0.194002\n",
       "2020-11-01    0.197881\n",
       "Length: 404, dtype: float64"
      ]
     },
     "execution_count": 23,
     "metadata": {},
     "output_type": "execute_result"
    }
   ],
   "source": [
    "three_step_errors = term - three_step\n",
    "three_step_errors = three_step_errors.dropna()\n",
    "three_step_errors"
   ]
  },
  {
   "cell_type": "markdown",
   "metadata": {},
   "source": [
    "### Now Getting the 3-Step Ahead Forecasts for the RW Model"
   ]
  },
  {
   "cell_type": "code",
   "execution_count": 24,
   "metadata": {
    "pycharm": {
     "is_executing": false,
     "name": "#%%\n"
    }
   },
   "outputs": [],
   "source": [
    "three_step_rw = term.shift(3)\n",
    "three_step_rw_errors = term - three_step_rw\n",
    "three_step_rw_errors = three_step_rw_errors.iloc[half:]"
   ]
  },
  {
   "cell_type": "markdown",
   "metadata": {},
   "source": [
    "### Calculating MSE and MAE"
   ]
  },
  {
   "cell_type": "code",
   "execution_count": 25,
   "metadata": {
    "pycharm": {
     "is_executing": false,
     "name": "#%%\n"
    }
   },
   "outputs": [
    {
     "data": {
      "text/html": [
       "<div>\n",
       "<style scoped>\n",
       "    .dataframe tbody tr th:only-of-type {\n",
       "        vertical-align: middle;\n",
       "    }\n",
       "\n",
       "    .dataframe tbody tr th {\n",
       "        vertical-align: top;\n",
       "    }\n",
       "\n",
       "    .dataframe thead th {\n",
       "        text-align: right;\n",
       "    }\n",
       "</style>\n",
       "<table border=\"1\" class=\"dataframe\">\n",
       "  <thead>\n",
       "    <tr style=\"text-align: right;\">\n",
       "      <th></th>\n",
       "      <th>ARMA</th>\n",
       "      <th>RW</th>\n",
       "    </tr>\n",
       "  </thead>\n",
       "  <tbody>\n",
       "    <tr>\n",
       "      <th>MSE</th>\n",
       "      <td>0.209583</td>\n",
       "      <td>0.130221</td>\n",
       "    </tr>\n",
       "    <tr>\n",
       "      <th>MAE</th>\n",
       "      <td>0.350717</td>\n",
       "      <td>0.276015</td>\n",
       "    </tr>\n",
       "  </tbody>\n",
       "</table>\n",
       "</div>"
      ],
      "text/plain": [
       "         ARMA        RW\n",
       "MSE  0.209583  0.130221\n",
       "MAE  0.350717  0.276015"
      ]
     },
     "execution_count": 25,
     "metadata": {},
     "output_type": "execute_result"
    }
   ],
   "source": [
    "errors = pd.DataFrame({\"ARMA\": three_step_errors, \"RW\": three_step_rw_errors}).dropna()\n",
    "pd.DataFrame([(errors ** 2).mean(), errors.abs().mean()], index=['MSE', 'MAE'])"
   ]
  },
  {
   "cell_type": "markdown",
   "metadata": {},
   "source": [
    "The better performance of the RW model persists even with a longer forecasting horizon. If anything, it seems to have a better relative performance in comparison to an ARMA(1,1) :("
   ]
  },
  {
   "cell_type": "markdown",
   "metadata": {},
   "source": [
    "### The Diebold-Mariano Test"
   ]
  },
  {
   "cell_type": "markdown",
   "metadata": {},
   "source": [
    "A formal way to compare forecasts from different models is to perform a Diebold-Mariano Test.\n",
    "\n",
    "Let $\\{\\epsilon_t^A\\}$ be the series of residuals from Model A and $\\{\\epsilon_t^B\\}$ be the series of residuals from model B.\n",
    "\n",
    "One can define the difference in a penalty measure such as:\n",
    "\n",
    "$d_t = (\\epsilon_t^A)^2 - (\\epsilon_t^B)^2$ or $d_t = |\\epsilon_t^A| - |\\epsilon_t^B|$\n",
    "\n",
    "And construct the following regression:\n",
    "\n",
    "$d_t = \\alpha + \\mu_t$\n",
    "\n",
    "One can then formally test for which is the better model by looking at the $\\alpha$ estimate (using Heteroskedasticity-and-Autocorrelation-Consistent Standard Errors to consider for the fact that we are dealing with time series). \n",
    "\n",
    "- If $\\alpha$ is significantly larger than zero: model B performs better than model A;\n",
    "- If $\\alpha$ is significantly larger than zero: model A performs better than model B;\n",
    "- If $\\alpha$ is not significantly different from zero: no model is significantly better."
   ]
  },
  {
   "cell_type": "code",
   "execution_count": 27,
   "metadata": {
    "pycharm": {
     "is_executing": false,
     "name": "#%%\n"
    }
   },
   "outputs": [
    {
     "data": {
      "text/html": [
       "<table class=\"simpletable\">\n",
       "<caption>OLS Regression Results</caption>\n",
       "<tr>\n",
       "  <th>Dep. Variable:</th>            <td>y</td>        <th>  R-squared:         </th> <td>   0.000</td>\n",
       "</tr>\n",
       "<tr>\n",
       "  <th>Model:</th>                   <td>OLS</td>       <th>  Adj. R-squared:    </th> <td>   0.000</td>\n",
       "</tr>\n",
       "<tr>\n",
       "  <th>Method:</th>             <td>Least Squares</td>  <th>  F-statistic:       </th> <td>     nan</td>\n",
       "</tr>\n",
       "<tr>\n",
       "  <th>Date:</th>             <td>Sun, 10 Jan 2021</td> <th>  Prob (F-statistic):</th>  <td>   nan</td> \n",
       "</tr>\n",
       "<tr>\n",
       "  <th>Time:</th>                 <td>19:38:41</td>     <th>  Log-Likelihood:    </th> <td> -18.869</td>\n",
       "</tr>\n",
       "<tr>\n",
       "  <th>No. Observations:</th>      <td>   404</td>      <th>  AIC:               </th> <td>   39.74</td>\n",
       "</tr>\n",
       "<tr>\n",
       "  <th>Df Residuals:</th>          <td>   403</td>      <th>  BIC:               </th> <td>   43.74</td>\n",
       "</tr>\n",
       "<tr>\n",
       "  <th>Df Model:</th>              <td>     0</td>      <th>                     </th>     <td> </td>   \n",
       "</tr>\n",
       "<tr>\n",
       "  <th>Covariance Type:</th>         <td>HAC</td>       <th>                     </th>     <td> </td>   \n",
       "</tr>\n",
       "</table>\n",
       "<table class=\"simpletable\">\n",
       "<tr>\n",
       "    <td></td>       <th>coef</th>     <th>std err</th>      <th>z</th>      <th>P>|z|</th>  <th>[0.025</th>    <th>0.975]</th>  \n",
       "</tr>\n",
       "<tr>\n",
       "  <th>const</th> <td>    0.0794</td> <td>    0.026</td> <td>    3.083</td> <td> 0.002</td> <td>    0.029</td> <td>    0.130</td>\n",
       "</tr>\n",
       "</table>\n",
       "<table class=\"simpletable\">\n",
       "<tr>\n",
       "  <th>Omnibus:</th>       <td>88.366</td> <th>  Durbin-Watson:     </th> <td>   0.445</td>\n",
       "</tr>\n",
       "<tr>\n",
       "  <th>Prob(Omnibus):</th> <td> 0.000</td> <th>  Jarque-Bera (JB):  </th> <td> 213.263</td>\n",
       "</tr>\n",
       "<tr>\n",
       "  <th>Skew:</th>          <td> 1.085</td> <th>  Prob(JB):          </th> <td>4.90e-47</td>\n",
       "</tr>\n",
       "<tr>\n",
       "  <th>Kurtosis:</th>      <td> 5.821</td> <th>  Cond. No.          </th> <td>    1.00</td>\n",
       "</tr>\n",
       "</table><br/><br/>Notes:<br/>[1] Standard Errors are heteroscedasticity and autocorrelation robust (HAC) using 7 lags and without small sample correction"
      ],
      "text/plain": [
       "<class 'statsmodels.iolib.summary.Summary'>\n",
       "\"\"\"\n",
       "                            OLS Regression Results                            \n",
       "==============================================================================\n",
       "Dep. Variable:                      y   R-squared:                       0.000\n",
       "Model:                            OLS   Adj. R-squared:                  0.000\n",
       "Method:                 Least Squares   F-statistic:                       nan\n",
       "Date:                Sun, 10 Jan 2021   Prob (F-statistic):                nan\n",
       "Time:                        19:38:41   Log-Likelihood:                -18.869\n",
       "No. Observations:                 404   AIC:                             39.74\n",
       "Df Residuals:                     403   BIC:                             43.74\n",
       "Df Model:                           0                                         \n",
       "Covariance Type:                  HAC                                         \n",
       "==============================================================================\n",
       "                 coef    std err          z      P>|z|      [0.025      0.975]\n",
       "------------------------------------------------------------------------------\n",
       "const          0.0794      0.026      3.083      0.002       0.029       0.130\n",
       "==============================================================================\n",
       "Omnibus:                       88.366   Durbin-Watson:                   0.445\n",
       "Prob(Omnibus):                  0.000   Jarque-Bera (JB):              213.263\n",
       "Skew:                           1.085   Prob(JB):                     4.90e-47\n",
       "Kurtosis:                       5.821   Cond. No.                         1.00\n",
       "==============================================================================\n",
       "\n",
       "Notes:\n",
       "[1] Standard Errors are heteroscedasticity and autocorrelation robust (HAC) using 7 lags and without small sample correction\n",
       "\"\"\""
      ]
     },
     "execution_count": 27,
     "metadata": {},
     "output_type": "execute_result"
    }
   ],
   "source": [
    "# MSE DM Test\n",
    "d = errors[\"ARMA\"] ** 2 - errors[\"RW\"] ** 2\n",
    "x = np.ones_like(d)\n",
    "maxlags = int(d.shape[0] ** (1/3))\n",
    "res = sm.OLS(d, x).fit(cov_type=\"HAC\", cov_kwds={\"maxlags\": maxlags})\n",
    "res.summary()"
   ]
  },
  {
   "cell_type": "code",
   "execution_count": 28,
   "metadata": {
    "pycharm": {
     "is_executing": false,
     "name": "#%%\n"
    }
   },
   "outputs": [
    {
     "data": {
      "text/html": [
       "<table class=\"simpletable\">\n",
       "<caption>OLS Regression Results</caption>\n",
       "<tr>\n",
       "  <th>Dep. Variable:</th>            <td>y</td>        <th>  R-squared:         </th> <td>   0.000</td>\n",
       "</tr>\n",
       "<tr>\n",
       "  <th>Model:</th>                   <td>OLS</td>       <th>  Adj. R-squared:    </th> <td>   0.000</td>\n",
       "</tr>\n",
       "<tr>\n",
       "  <th>Method:</th>             <td>Least Squares</td>  <th>  F-statistic:       </th> <td>     nan</td>\n",
       "</tr>\n",
       "<tr>\n",
       "  <th>Date:</th>             <td>Sun, 10 Jan 2021</td> <th>  Prob (F-statistic):</th>  <td>   nan</td> \n",
       "</tr>\n",
       "<tr>\n",
       "  <th>Time:</th>                 <td>19:38:45</td>     <th>  Log-Likelihood:    </th> <td> -47.736</td>\n",
       "</tr>\n",
       "<tr>\n",
       "  <th>No. Observations:</th>      <td>   404</td>      <th>  AIC:               </th> <td>   97.47</td>\n",
       "</tr>\n",
       "<tr>\n",
       "  <th>Df Residuals:</th>          <td>   403</td>      <th>  BIC:               </th> <td>   101.5</td>\n",
       "</tr>\n",
       "<tr>\n",
       "  <th>Df Model:</th>              <td>     0</td>      <th>                     </th>     <td> </td>   \n",
       "</tr>\n",
       "<tr>\n",
       "  <th>Covariance Type:</th>         <td>HAC</td>       <th>                     </th>     <td> </td>   \n",
       "</tr>\n",
       "</table>\n",
       "<table class=\"simpletable\">\n",
       "<tr>\n",
       "    <td></td>       <th>coef</th>     <th>std err</th>      <th>z</th>      <th>P>|z|</th>  <th>[0.025</th>    <th>0.975]</th>  \n",
       "</tr>\n",
       "<tr>\n",
       "  <th>const</th> <td>    0.0747</td> <td>    0.027</td> <td>    2.786</td> <td> 0.005</td> <td>    0.022</td> <td>    0.127</td>\n",
       "</tr>\n",
       "</table>\n",
       "<table class=\"simpletable\">\n",
       "<tr>\n",
       "  <th>Omnibus:</th>       <td> 0.488</td> <th>  Durbin-Watson:     </th> <td>   0.539</td>\n",
       "</tr>\n",
       "<tr>\n",
       "  <th>Prob(Omnibus):</th> <td> 0.783</td> <th>  Jarque-Bera (JB):  </th> <td>   0.556</td>\n",
       "</tr>\n",
       "<tr>\n",
       "  <th>Skew:</th>          <td> 0.080</td> <th>  Prob(JB):          </th> <td>   0.757</td>\n",
       "</tr>\n",
       "<tr>\n",
       "  <th>Kurtosis:</th>      <td> 2.916</td> <th>  Cond. No.          </th> <td>    1.00</td>\n",
       "</tr>\n",
       "</table><br/><br/>Notes:<br/>[1] Standard Errors are heteroscedasticity and autocorrelation robust (HAC) using 7 lags and without small sample correction"
      ],
      "text/plain": [
       "<class 'statsmodels.iolib.summary.Summary'>\n",
       "\"\"\"\n",
       "                            OLS Regression Results                            \n",
       "==============================================================================\n",
       "Dep. Variable:                      y   R-squared:                       0.000\n",
       "Model:                            OLS   Adj. R-squared:                  0.000\n",
       "Method:                 Least Squares   F-statistic:                       nan\n",
       "Date:                Sun, 10 Jan 2021   Prob (F-statistic):                nan\n",
       "Time:                        19:38:45   Log-Likelihood:                -47.736\n",
       "No. Observations:                 404   AIC:                             97.47\n",
       "Df Residuals:                     403   BIC:                             101.5\n",
       "Df Model:                           0                                         \n",
       "Covariance Type:                  HAC                                         \n",
       "==============================================================================\n",
       "                 coef    std err          z      P>|z|      [0.025      0.975]\n",
       "------------------------------------------------------------------------------\n",
       "const          0.0747      0.027      2.786      0.005       0.022       0.127\n",
       "==============================================================================\n",
       "Omnibus:                        0.488   Durbin-Watson:                   0.539\n",
       "Prob(Omnibus):                  0.783   Jarque-Bera (JB):                0.556\n",
       "Skew:                           0.080   Prob(JB):                        0.757\n",
       "Kurtosis:                       2.916   Cond. No.                         1.00\n",
       "==============================================================================\n",
       "\n",
       "Notes:\n",
       "[1] Standard Errors are heteroscedasticity and autocorrelation robust (HAC) using 7 lags and without small sample correction\n",
       "\"\"\""
      ]
     },
     "execution_count": 28,
     "metadata": {},
     "output_type": "execute_result"
    }
   ],
   "source": [
    "# MAE DM Test\n",
    "d = errors[\"ARMA\"].abs() - errors[\"RW\"].abs()\n",
    "res = sm.OLS(d, x).fit(cov_type=\"HAC\", cov_kwds={\"maxlags\": maxlags})\n",
    "res.summary()"
   ]
  },
  {
   "cell_type": "markdown",
   "metadata": {},
   "source": [
    "The results from the MSE and MAE show that, indeed, the random-walk model performs better than our selected ARMA(1,1) in forecasting. \n",
    "\n",
    "The lesson here is: forecasting the first moment (i.e. mean) of time series is very hard :(\n",
    "\n",
    "But life is not just bad news folks! As we are going to see later on, we are a lot more successful when we model second moments dynamics!"
   ]
  },
  {
   "cell_type": "code",
   "execution_count": 23,
   "metadata": {},
   "outputs": [
    {
     "ename": "NameError",
     "evalue": "name 'smf' is not defined",
     "output_type": "error",
     "traceback": [
      "\u001b[0;31m---------------------------------------------------------------------------\u001b[0m",
      "\u001b[0;31mNameError\u001b[0m                                 Traceback (most recent call last)",
      "\u001b[0;32m<ipython-input-23-c5339646b1eb>\u001b[0m in \u001b[0;36m<module>\u001b[0;34m\u001b[0m\n\u001b[1;32m     13\u001b[0m \u001b[0mhypothesis_2\u001b[0m \u001b[0;34m=\u001b[0m \u001b[0;34m'(GNP = 1)'\u001b[0m\u001b[0;34m\u001b[0m\u001b[0;34m\u001b[0m\u001b[0m\n\u001b[1;32m     14\u001b[0m \u001b[0mhypothesis_3\u001b[0m \u001b[0;34m=\u001b[0m \u001b[0;34m'(Intercept = 0, GNP = 1)'\u001b[0m\u001b[0;34m\u001b[0m\u001b[0;34m\u001b[0m\u001b[0m\n\u001b[0;32m---> 15\u001b[0;31m \u001b[0mresults\u001b[0m \u001b[0;34m=\u001b[0m \u001b[0msmf\u001b[0m\u001b[0;34m.\u001b[0m\u001b[0mols\u001b[0m\u001b[0;34m(\u001b[0m\u001b[0;34m'TOTEMP ~ GNP'\u001b[0m\u001b[0;34m,\u001b[0m \u001b[0mdata\u001b[0m\u001b[0;34m)\u001b[0m\u001b[0;34m.\u001b[0m\u001b[0mfit\u001b[0m\u001b[0;34m(\u001b[0m\u001b[0;34m)\u001b[0m\u001b[0;34m\u001b[0m\u001b[0;34m\u001b[0m\u001b[0m\n\u001b[0m\u001b[1;32m     16\u001b[0m \u001b[0mwald_0\u001b[0m \u001b[0;34m=\u001b[0m \u001b[0mresults\u001b[0m\u001b[0;34m.\u001b[0m\u001b[0mwald_test\u001b[0m\u001b[0;34m(\u001b[0m\u001b[0mhypothesis_0\u001b[0m\u001b[0;34m)\u001b[0m\u001b[0;34m\u001b[0m\u001b[0;34m\u001b[0m\u001b[0m\n\u001b[1;32m     17\u001b[0m \u001b[0mwald_1\u001b[0m \u001b[0;34m=\u001b[0m \u001b[0mresults\u001b[0m\u001b[0;34m.\u001b[0m\u001b[0mwald_test\u001b[0m\u001b[0;34m(\u001b[0m\u001b[0mhypothesis_1\u001b[0m\u001b[0;34m)\u001b[0m\u001b[0;34m\u001b[0m\u001b[0;34m\u001b[0m\u001b[0m\n",
      "\u001b[0;31mNameError\u001b[0m: name 'smf' is not defined"
     ]
    }
   ],
   "source": [
    "import numpy as np\n",
    "import pandas as pd\n",
    "nobs = 100\n",
    "np.random.seed(987125)\n",
    "yx = np.random.randn(nobs, 2)\n",
    "beta0 = 0\n",
    "beta1 = 1\n",
    "yx[:, 0] += beta0 + beta1 * yx[:, 1]\n",
    "data = pd.DataFrame(yx, columns=['TOTEMP', 'GNP'])\n",
    "\n",
    "hypothesis_0 = '(Intercept = 0, GNP = 0)'\n",
    "hypothesis_1 = '(GNP = 0)'\n",
    "hypothesis_2 = '(GNP = 1)'\n",
    "hypothesis_3 = '(Intercept = 0, GNP = 1)'\n",
    "results = smf.ols('TOTEMP ~ GNP', data).fit()\n",
    "wald_0 = results.wald_test(hypothesis_0)\n",
    "wald_1 = results.wald_test(hypothesis_1)\n",
    "wald_2 = results.wald_test(hypothesis_2)\n",
    "wald_3 = results.wald_test(hypothesis_3)\n",
    "\n",
    "print('H0:', hypothesis_0)\n",
    "print(wald_0)\n",
    "print()\n",
    "print('H0:', hypothesis_1)\n",
    "print(wald_1)\n",
    "print()\n",
    "print('H0:', hypothesis_2)\n",
    "print(wald_2)\n",
    "print()\n",
    "print('H0:', hypothesis_3)\n",
    "print(wald_3)"
   ]
  },
  {
   "cell_type": "code",
   "execution_count": 32,
   "metadata": {},
   "outputs": [
    {
     "data": {
      "text/plain": [
       "array([[48.91280304]])"
      ]
     },
     "execution_count": 32,
     "metadata": {},
     "output_type": "execute_result"
    }
   ],
   "source": [
    "res.wald_test(r_matrix).fvalue"
   ]
  },
  {
   "cell_type": "code",
   "execution_count": 30,
   "metadata": {},
   "outputs": [
    {
     "data": {
      "text/plain": [
       "statsmodels.stats.contrast.ContrastResults"
      ]
     },
     "execution_count": 30,
     "metadata": {},
     "output_type": "execute_result"
    }
   ],
   "source": [
    "type(x)"
   ]
  },
  {
   "cell_type": "code",
   "execution_count": 31,
   "metadata": {},
   "outputs": [
    {
     "data": {
      "text/plain": [
       "array([[48.91280304]])"
      ]
     },
     "execution_count": 31,
     "metadata": {},
     "output_type": "execute_result"
    }
   ],
   "source": []
  },
  {
   "cell_type": "code",
   "execution_count": null,
   "metadata": {},
   "outputs": [],
   "source": []
  }
 ],
 "metadata": {
  "kernelspec": {
   "display_name": "Python 3",
   "language": "python",
   "name": "python3"
  },
  "language_info": {
   "codemirror_mode": {
    "name": "ipython",
    "version": 3
   },
   "file_extension": ".py",
   "mimetype": "text/x-python",
   "name": "python",
   "nbconvert_exporter": "python",
   "pygments_lexer": "ipython3",
   "version": "3.7.9"
  },
  "pycharm": {
   "stem_cell": {
    "cell_type": "raw",
    "metadata": {
     "collapsed": false
    },
    "source": []
   }
  }
 },
 "nbformat": 4,
 "nbformat_minor": 4
}
